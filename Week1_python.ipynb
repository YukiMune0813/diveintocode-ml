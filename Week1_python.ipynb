{
 "cells": [
  {
   "cell_type": "markdown",
   "metadata": {},
   "source": [
    "【問題1】べき乗に算術演算子を使用して作成"
   ]
  },
  {
   "cell_type": "code",
   "execution_count": 3,
   "metadata": {},
   "outputs": [
    {
     "name": "stdout",
     "output_type": "stream",
     "text": [
      "厚さ： 0.00016メートル\n"
     ]
    }
   ],
   "source": [
    "#雛形の作成、紙を一回折った厚さを計算するコード\n",
    "THICKNESS = 0.00008\n",
    "#大文字で表した変数は変更されることのない定数として扱う\n",
    "\n",
    "folded_thickness = THICKNESS*2\n",
    "\n",
    "print(\"厚さ： {}メートル\".format(folded_thickness))\n"
   ]
  },
  {
   "cell_type": "markdown",
   "metadata": {},
   "source": [
    "・43回折ったときのコード\n",
    "\n",
    "・元の厚さの２の43乗倍することで４３回折った時の厚さがわかる\n",
    "\n"
   ]
  },
  {
   "cell_type": "code",
   "execution_count": 9,
   "metadata": {},
   "outputs": [
    {
     "name": "stdout",
     "output_type": "stream",
     "text": [
      "厚さ： 703687441.77664メートル\n"
     ]
    }
   ],
   "source": [
    "THICKNESS = 0.00008\n",
    "\n",
    "n_folded=43 #n回折る\n",
    "\n",
    "folded_thickness = THICKNESS*(2**n_foldness)\n",
    "\n",
    "print(\"厚さ： {}メートル\".format(folded_thickness))\n",
    "\n"
   ]
  },
  {
   "cell_type": "markdown",
   "metadata": {},
   "source": [
    "\n"
   ]
  },
  {
   "cell_type": "code",
   "execution_count": null,
   "metadata": {
    "scrolled": true
   },
   "outputs": [],
   "source": []
  },
  {
   "cell_type": "markdown",
   "metadata": {},
   "source": [
    "【問題2】単位の変換\n",
    "万キロメートルに変換\n",
    "\n",
    "\n"
   ]
  },
  {
   "cell_type": "code",
   "execution_count": 15,
   "metadata": {},
   "outputs": [
    {
     "name": "stdout",
     "output_type": "stream",
     "text": [
      "厚さ： 703687441.77664メートル\n",
      "厚さ： 70.37万キロメートル\n"
     ]
    }
   ],
   "source": [
    "THICKNESS = 0.00008\n",
    "\n",
    "n_folded=43 #n回折る\n",
    "\n",
    "folded_thickness = THICKNESS*(2**n_foldness)\n",
    "\n",
    "print(\"厚さ： {}メートル\".format(folded_thickness))\n",
    "\n",
    "print(\"厚さ： {:.2f}万キロメートル\".format(folded_thickness/1000/10000))"
   ]
  },
  {
   "cell_type": "markdown",
   "metadata": {},
   "source": [
    "【問題3】for分を使用して作成"
   ]
  },
  {
   "cell_type": "code",
   "execution_count": 18,
   "metadata": {
    "scrolled": true
   },
   "outputs": [
    {
     "name": "stdout",
     "output_type": "stream",
     "text": [
      "厚さ： 703687441.77664メートル\n",
      "厚さ： 70.37万キロメートル\n"
     ]
    }
   ],
   "source": [
    "THICKNESS = 0.00008\n",
    "\n",
    "n_folded=43\n",
    "folded_thickness = THICKNESS\n",
    "\n",
    "for i in range (n_folded):\n",
    "    folded_thickness = folded_thickness*2\n",
    "#n_foidedの回数分、folded_thickness = folded_thickness*2を繰り返す\n",
    "\n",
    "print(\"厚さ： {}メートル\".format(folded_thickness))\n",
    "\n",
    "print(\"厚さ： {:.2f}万キロメートル\".format(folded_thickness/1000/10000))"
   ]
  },
  {
   "cell_type": "markdown",
   "metadata": {},
   "source": [
    " 【問題4】計算時間の比較"
   ]
  },
  {
   "cell_type": "code",
   "execution_count": 25,
   "metadata": {},
   "outputs": [
    {
     "name": "stdout",
     "output_type": "stream",
     "text": [
      "べき乗のtime : 0.00011682510375976562[s]\n",
      "for分のtime : 0.00019979476928710938[s]\n"
     ]
    }
   ],
   "source": [
    "import time\n",
    "start = time.time()\n",
    "#####\n",
    "# ここに比較したいコードを貼り付ける\n",
    "THICKNESS = 0.00008\n",
    "\n",
    "n_folded=43 #n回折る\n",
    "\n",
    "folded_thickness = THICKNESS*(2**n_foldness)\n",
    "\n",
    "#print(\"厚さ： {:.2f}万キロメートル\".format(folded_thickness/1000/10000))\n",
    "\n",
    "\n",
    "#####\n",
    "elapsed_time = time.time() - start\n",
    "print(\"べき乗のtime : {}[s]\".format(elapsed_time))\n",
    "\n",
    "import time\n",
    "start = time.time()\n",
    "#####\n",
    "# ここに比較したいコードを貼り付ける\n",
    "THICKNESS = 0.00008\n",
    "\n",
    "n_folded=43\n",
    "folded_thickness = THICKNESS\n",
    "\n",
    "for i in range (n_folded):\n",
    "    folded_thickness = folded_thickness*2\n",
    "#n_foidedの回数分、folded_thickness = folded_thickness*2を繰り返す\n",
    "\n",
    "\n",
    "#print(\"厚さ： {:.2f}万キロメートル\".format(folded_thickness/1000/10000))\n",
    "#####\n",
    "elapsed_time = time.time() - start\n",
    "print(\"for分のtime : {}[s]\".format(elapsed_time))\n",
    "\n",
    "\n"
   ]
  },
  {
   "cell_type": "markdown",
   "metadata": {
    "scrolled": true
   },
   "source": [
    "【問題5】リストへの保存\n",
    "・リストへ保存することで家庭の確認や活用ができる\n",
    "①空のリスト\n",
    "②折る前の値をリストに追加\n",
    "③for文で折った時の値を追加、追加するリスト.append(追加する値)\n",
    "④lenで４４個の値があるかを確認\n"
   ]
  },
  {
   "cell_type": "code",
   "execution_count": 33,
   "metadata": {},
   "outputs": [
    {
     "name": "stdout",
     "output_type": "stream",
     "text": [
      "厚さ： 703687441.77664メートル\n",
      "[8e-05, 0.00016, 0.00032, 0.00064, 0.00128, 0.00256, 0.00512, 0.01024, 0.02048, 0.04096, 0.08192, 0.16384, 0.32768, 0.65536, 1.31072, 2.62144, 5.24288, 10.48576, 20.97152, 41.94304, 83.88608, 167.77216, 335.54432, 671.08864, 1342.17728, 2684.35456, 5368.70912, 10737.41824, 21474.83648, 42949.67296, 85899.34592, 171798.69184, 343597.38368, 687194.76736, 1374389.53472, 2748779.06944, 5497558.13888, 10995116.27776, 21990232.55552, 43980465.11104, 87960930.22208, 175921860.44416, 351843720.88832, 703687441.77664]\n"
     ]
    }
   ],
   "source": [
    "THICKNESS = 0.00008\n",
    "folded_thickness_list=[]\n",
    "folded_thickness_list.append(THICKNESS)\n",
    "n_folded=43\n",
    "\n",
    "for i in range (n_folded):\n",
    "    folded_thickness_list.append(folded_thickness_list[-1]*2)\n",
    "#folded_thickness_listにfolded_thickness_listの最後の値[-1]に２をかけた値を追加していくことを43回繰り返す。\n",
    "\n",
    "#最後の値の確認\n",
    "print(\"厚さ： {}メートル\".format(folded_thickness_list[-1]))\n",
    "\n",
    "#リストの表示\n",
    "\n",
    "print(folded_thickness_list)\n",
    "\n",
    "\n",
    "\n"
   ]
  },
  {
   "cell_type": "markdown",
   "metadata": {},
   "source": [
    "【問題6】折れ線グラフの表示\n",
    "Matplotlibを用いる。\n",
    "listをplt.plot()の引数に渡す。"
   ]
  },
  {
   "cell_type": "code",
   "execution_count": 34,
   "metadata": {
    "scrolled": true
   },
   "outputs": [
    {
     "data": {
      "image/png": "[encoded data removed]",
      "text/plain": [
       "<matplotlib.figure.Figure at 0x10ba259e8>"
      ]
     },
     "metadata": {},
     "output_type": "display_data"
    }
   ],
   "source": [
    "import matplotlib.pyplot as plt\n",
    "%matplotlib inline\n",
    "\n",
    "plt.title(\"thickness of folded paper\")\n",
    "plt.xlabel(\"number of folds\")\n",
    "plt.ylabel(\"thickness[m]\")\n",
    "plt.plot(folded_thickness_list) # 「リスト名」のところにリストの変数名を入れる\n",
    "plt.show()"
   ]
  },
  {
   "cell_type": "markdown",
   "metadata": {},
   "source": [
    "【問題7】グラフのカスタマイズ"
   ]
  },
  {
   "cell_type": "code",
   "execution_count": 35,
   "metadata": {},
   "outputs": [
    {
     "data": {
      "image/png": "[encoded data removed]",
      "text/plain": [
       "<matplotlib.figure.Figure at 0x10e3af7f0>"
      ]
     },
     "metadata": {},
     "output_type": "display_data"
    }
   ],
   "source": [
    "#線の色を変更\n",
    "#plt.plotにcolor=\"\"を追記(, color='red')\n",
    "import matplotlib.pyplot as plt\n",
    "%matplotlib inline\n",
    "plt.title(\"thickness of folded paper\")\n",
    "plt.xlabel(\"number of folds\")\n",
    "plt.ylabel(\"thickness[m]\")\n",
    "plt.plot(folded_thickness_list, color='red')\n",
    "plt.show()\n"
   ]
  },
  {
   "cell_type": "code",
   "execution_count": 54,
   "metadata": {
    "scrolled": true
   },
   "outputs": [
    {
     "data": {
      "image/png": "[encoded data removed]",
      "text/plain": [
       "<matplotlib.figure.Figure at 0x10c54e208>"
      ]
     },
     "metadata": {},
     "output_type": "display_data"
    }
   ],
   "source": [
    "#目盛りの数字の大きさを変更:plt.tick_params(labelsize=50) \n",
    "#ラベルが収まるように表示:plt.tight_layout()\n",
    "#ラベルの大きさを変更:fontsize = 30\n",
    "#グラフの太さ:plt.plot(, lw=50)\n",
    "#グラフにプロット:marker='o'\n",
    "#メモリの幅の調整plt.yticks( [0.0, 0.5, 1.0] )\n",
    "import numpy as np\n",
    "import matplotlib.pyplot as plt\n",
    "%matplotlib inline\n",
    "\n",
    "plt.title(\"thickness of folded paper\")\n",
    "plt.xlabel(\"number of folds\", fontsize = 30)\n",
    "plt.ylabel(\"thickness[m]\")\n",
    "plt.tick_params(labelsize=50) \n",
    "plt.plot(folded_thickness_list,marker='o',  lw=1)\n",
    "plt.text(2.0, -0.4, 'insert plt.text', color='red', fontsize = 15)\n",
    "plt.yticks( [0.0, folded_thickness_list[42], folded_thickness_list[43]] )\n",
    "plt.tight_layout()\n",
    "\n",
    "plt.show()"
   ]
  },
  {
   "cell_type": "code",
   "execution_count": null,
   "metadata": {},
   "outputs": [],
   "source": []
  }
 ],
 "metadata": {
  "kernelspec": {
   "display_name": "Python 3",
   "language": "python",
   "name": "python3"
  },
  "language_info": {
   "codemirror_mode": {
    "name": "ipython",
    "version": 3
   },
   "file_extension": ".py",
   "mimetype": "text/x-python",
   "name": "python",
   "nbconvert_exporter": "python",
   "pygments_lexer": "ipython3",
   "version": "3.6.4"
  }
 },
 "nbformat": 4,
 "nbformat_minor": 2
}
