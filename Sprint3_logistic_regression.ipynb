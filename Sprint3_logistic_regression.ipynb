{
 "cells": [
  {
   "cell_type": "markdown",
   "metadata": {},
   "source": [
    "## ロジスティック回帰スクラッチ\n",
    "ロジスティック回帰のクラスをスクラッチで作成していきます。NumPyなど最低限のライブラリのみを使いアルゴリズムを実装していきます。\n",
    "\n",
    "以下に雛形を用意してあります。このScratchLogisticRegressionクラスにコードを書き加えていってください。推定関係のメソッドは線形回帰と異なり、ラベルを出力するpredictメソッドと、確率を出力するpredict_probaメソッドの2種類を作成します。"
   ]
  },
  {
   "cell_type": "markdown",
   "metadata": {},
   "source": [
    "### 【問題1】仮定関数\n",
    "ロジスティック回帰の仮定関数のメソッドをScratchLogisticRegressionクラスに実装してください。\n",
    "\n",
    "ロジスティック回帰の仮定関数は、線形回帰の仮定関数を シグモイド関数 に通したものです。シグモイド関数は以下の式で表されます。\n",
    "\n",
    "$$ \n",
    "g\n",
    "(\n",
    "z\n",
    ")\n",
    "=\n",
    "\\frac\n",
    "{1}\n",
    "{1\n",
    "+\n",
    "e\n",
    "^{−\n",
    "z\n",
    ".}}\n",
    "$$ \n",
    "\n",
    "線形回帰の仮定関数は次の式でした。\n",
    "\n",
    "$$\n",
    "h\n",
    "θ\n",
    "(\n",
    "x\n",
    ")\n",
    "=\n",
    "θ\n",
    "T\n",
    "⋅\n",
    "x\n",
    ".\n",
    "$$\n",
    "まとめて書くと、ロジスティック回帰の仮定関数は次のようになります。\n",
    "\n",
    "$$\n",
    "h\n",
    "θ\n",
    "(\n",
    "x\n",
    ")\n",
    "=\n",
    "\\frac\n",
    "{1}\n",
    "{1\n",
    "+\n",
    "e\n",
    "^\n",
    "{−\n",
    "θ\n",
    "T\n",
    "⋅\n",
    "x\n",
    ".}}\n",
    "$$\n",
    "\n",
    "x\n",
    " : 特徴量ベクトル\n",
    "\n",
    "θ\n",
    " : パラメータ（重み）ベクトル"
   ]
  },
  {
   "cell_type": "code",
   "execution_count": 2,
   "metadata": {},
   "outputs": [],
   "source": [
    "import matplotlib.pyplot as plt\n",
    "%matplotlib inline\n",
    "import numpy as np\n",
    "import pandas as pd\n",
    "import seaborn as sns\n",
    "import missingno as msno\n",
    "from scipy import stats\n",
    "from sklearn.preprocessing import StandardScaler\n",
    "import math\n"
   ]
  },
  {
   "cell_type": "code",
   "execution_count": 3,
   "metadata": {},
   "outputs": [],
   "source": [
    "from sklearn.datasets import load_iris\n",
    "iris = load_iris()\n",
    "X = iris.data\n",
    "y = iris.target\n",
    "X = pd.DataFrame(X)\n",
    "y = pd.DataFrame(y)\n",
    "X.columns = [\"sepal_length\" , \"sepal_width\" , \"petal_length\" , \"petal_width\"]\n",
    "y.columns = [\"Species\"]\n",
    "df = pd.concat([X , y] , axis = 1)"
   ]
  },
  {
   "cell_type": "code",
   "execution_count": 5,
   "metadata": {},
   "outputs": [],
   "source": [
    "df_cn = df.query(\"Species == [1,2]\").loc[: , :]\n",
    "X = df_cn.iloc[: , :4].values\n",
    "y = df_cn.iloc[: , -1].values"
   ]
  },
  {
   "cell_type": "code",
   "execution_count": 6,
   "metadata": {},
   "outputs": [],
   "source": [
    "y[y==2]=0\n",
    "#yを0,1にしなければ計算に誤差が生まれる"
   ]
  },
  {
   "cell_type": "code",
   "execution_count": 7,
   "metadata": {
    "scrolled": false
   },
   "outputs": [],
   "source": [
    "class ScratchLogisticRegression():\n",
    "    \"\"\"\n",
    "    ロジスティック回帰のスクラッチ実装\n",
    "\n",
    "    Parameters\n",
    "    ----------\n",
    "    num_iter : int\n",
    "      イテレーション数\n",
    "    lr : float\n",
    "      学習率\n",
    "    no_bias : bool\n",
    "      バイアス項を入れない場合はTrue\n",
    "    verbose : bool\n",
    "      学習過程を出力する場合はTrue\n",
    "\n",
    "    Attributes\n",
    "    ----------\n",
    "    self.coef_ : 次の形のndarray, shape (n_features,)\n",
    "      パラメータ\n",
    "    self.loss : 次の形のndarray, shape (self.iter,)\n",
    "      学習用データに対する損失の記録\n",
    "    self.val_loss : 次の形のndarray, shape (self.iter,)\n",
    "      検証用データに対する損失の記録\n",
    "\n",
    "    \"\"\"\n",
    "\n",
    "    def __init__(self, num_iter = 100, lr = 0.01, bias = True, verbose = True):\n",
    "        # ハイパーパラメータを属性として記録\n",
    "        self.iter = num_iter\n",
    "        self.lr = lr\n",
    "        self.bias = bias\n",
    "        self.verbose = verbose\n",
    "        # 損失を記録する配列を用意\n",
    "        self.loss = np.zeros(self.iter)\n",
    "        self.val_loss = np.zeros(self.iter)\n",
    "\n",
    "    def fit(self, X, y, X_val=None, y_val=None):\n",
    "        \"\"\"\n",
    "        ロジスティック回帰を学習する。検証用データが入力された場合はそれに対する損失と精度もイテレーションごとに計算する。\n",
    "\n",
    "        Parameters\n",
    "        ----------\n",
    "        X : 次の形のndarray, shape (n_samples, n_features)\n",
    "            学習用データの特徴量\n",
    "        y : 次の形のndarray, shape (n_samples, )\n",
    "            学習用データの正解値\n",
    "        X_val : 次の形のndarray, shape (n_samples, n_features)\n",
    "            検証用データの特徴量\n",
    "        y_val : 次の形のndarray, shape (n_samples, )\n",
    "            検証用データの正解値\n",
    "        \"\"\"\n",
    "\n",
    "        if self.verbose:\n",
    "            #verboseをTrueにした際は学習過程を出力\n",
    "            print()\n",
    "        pass\n",
    "\n",
    "\n",
    "    def predict(self, X):\n",
    "        \"\"\"\n",
    "        ロジスティック回帰を使いラベルを推定する。\n",
    "\n",
    "        Parameters\n",
    "        ----------\n",
    "        X : 次の形のndarray, shape (n_samples, n_features)\n",
    "            サンプル\n",
    "\n",
    "        Returns\n",
    "        -------\n",
    "            次の形のndarray, shape (n_samples, 1)\n",
    "            ロジスティック回帰による推定結果\n",
    "        \"\"\"\n",
    "\n",
    "        pass\n",
    "        return\n",
    "\n",
    "    def predict_proba(self, X):\n",
    "        \"\"\"\n",
    "        ロジスティック回帰を使い確率を推定する。\n",
    "\n",
    "        Parameters\n",
    "        ----------\n",
    "        X : 次の形のndarray, shape (n_samples, n_features)\n",
    "            サンプル\n",
    "\n",
    "        Returns\n",
    "        -------\n",
    "            次の形のndarray, shape (n_samples, 1)\n",
    "            ロジスティック回帰による推定結果\n",
    "        \"\"\"\n",
    "\n",
    "        pass\n",
    "        return"
   ]
  },
  {
   "cell_type": "code",
   "execution_count": 8,
   "metadata": {},
   "outputs": [],
   "source": [
    "def _linear_hypothesis(X):\n",
    "    theta = np.random.rand(X.shape[1] + 1)\n",
    "    one = np.ones(X.shape[0]).reshape(-1 , 1)\n",
    "    X = np.concatenate([one , X] , axis = 1)\n",
    "    z = np.dot(X , theta)\n",
    "    h = 1 / (1 + np.exp(-z))\n",
    "    return h"
   ]
  },
  {
   "cell_type": "code",
   "execution_count": 9,
   "metadata": {},
   "outputs": [
    {
     "name": "stdout",
     "output_type": "stream",
     "text": [
      "仮定仮説:[0.99998434 0.99997637 0.9999859  0.99989014 0.99997358 0.99995067\n",
      " 0.99998116 0.99970433 0.9999733  0.99989738 0.9996943  0.99995607\n",
      " 0.99989201 0.99996979 0.99990096 0.99997534 0.99995931 0.99991808\n",
      " 0.99995182 0.99988701 0.99997981 0.99994091 0.99997215 0.99996366\n",
      " 0.99996247 0.99997238 0.99997949 0.9999864  0.99996499 0.99985319\n",
      " 0.99986312 0.9998425  0.99991536 0.99997678 0.99995478 0.99997571\n",
      " 0.99998168 0.99994735 0.999937   0.9999027  0.99992878 0.99996926\n",
      " 0.99991684 0.99970198 0.99993011 0.9999412  0.99994128 0.99995829\n",
      " 0.99970233 0.99993252 0.99999611 0.99997858 0.99999576 0.99998952\n",
      " 0.99999408 0.99999812 0.99992956 0.99999643 0.99999075 0.99999813\n",
      " 0.99998973 0.99998665 0.9999932  0.99997408 0.99998521 0.99999231\n",
      " 0.9999904  0.99999904 0.99999841 0.99996381 0.99999568 0.99997537\n",
      " 0.99999801 0.99997952 0.99999489 0.99999603 0.99997803 0.99998103\n",
      " 0.99999123 0.99999406 0.99999604 0.99999877 0.99999176 0.99998016\n",
      " 0.99998209 0.99999766 0.99999467 0.99999048 0.99997838 0.99999343\n",
      " 0.99999482 0.99999266 0.99997858 0.99999611 0.99999601 0.99999199\n",
      " 0.99997991 0.99998927 0.999993   0.99998198]\n"
     ]
    }
   ],
   "source": [
    "print(\"仮定仮説:{}\".format(_linear_hypothesis(X)))"
   ]
  },
  {
   "cell_type": "markdown",
   "metadata": {},
   "source": [
    "### 【問題2】最急降下法\n",
    "最急降下法により学習させる実装を行なってください。以下の式で表されるパラメータの更新式のメソッド_gradient_descentを追加し、fit\n",
    "メソッドから呼び出すようにしてください。\n",
    "$$\n",
    "\\theta_j := \\theta_j - \\alpha \\frac{\\partial J(\\theta)}{\\partial \\theta_j}\\\\<br/>\\frac{\\partial J(\\theta)}{\\partial \\theta_0} = \\frac{1}{m}  \\sum_{i=1}^{m}(h_θ(x^{(i)}) − y^{(i)})x_j^{(i)}  ,j = 0\\\\<br/>\\frac{\\partial J(\\theta)}{\\partial \\theta_j} = \\biggl(\\frac{1}{m}  \\sum_{i=1}^{m}(h_θ(x^{(i)}) − y^{(i)})x_j^{(i)} \\biggr) + \\frac{λ}{m}\\theta_j　 ,j\\geq 1\n",
    "$$\n",
    "α\n",
    "  : 学習率\n",
    "\n",
    "i\n",
    " : サンプルのインデックス\n",
    "\n",
    "j\n",
    " : 特徴量のインデックス\n",
    "\n",
    "m\n",
    " : 入力されるデータの数\n",
    "\n",
    "h\n",
    "θ\n",
    "(\n",
    ")\n",
    " : 仮定関数\n",
    "\n",
    "x\n",
    " : 特徴量ベクトル\n",
    "\n",
    "θ\n",
    " : パラメータ（重み）ベクトル\n",
    "\n",
    "x\n",
    "(\n",
    "i\n",
    ")\n",
    " : i番目のサンプルの特徴量ベクトル\n",
    "\n",
    "y\n",
    "(\n",
    "i\n",
    ")\n",
    " : i番目のサンプルの正解ラベル\n",
    "\n",
    "θ\n",
    "j\n",
    " : j番目のパラメータ（重み）\n",
    "\n",
    "λ\n",
    " : 正則化パラメータ\n"
   ]
  },
  {
   "cell_type": "code",
   "execution_count": 327,
   "metadata": {},
   "outputs": [],
   "source": [
    "# y = np.arange(4)\n",
    "# print(y)\n",
    "# print(y.shape)"
   ]
  },
  {
   "cell_type": "code",
   "execution_count": 12,
   "metadata": {},
   "outputs": [],
   "source": [
    "def error(h , y):\n",
    "    return h - y"
   ]
  },
  {
   "cell_type": "code",
   "execution_count": null,
   "metadata": {},
   "outputs": [],
   "source": [
    "\n"
   ]
  },
  {
   "cell_type": "code",
   "execution_count": 13,
   "metadata": {},
   "outputs": [],
   "source": [
    "def _gradient_descent(X ,y , lr = 0.01, bias = True):\n",
    "    theta = np.random.rand(X.shape[1] + 1)\n",
    "    one = np.ones(X.shape[0]).reshape(-1 , 1)\n",
    "    X = np.concatenate([one , X] , axis = 1)\n",
    "    if bias:\n",
    "        theta_copy =  theta.copy()\n",
    "        theta_copy[0] = 0\n",
    "        theta = np.dot((error(_linear_hypothesis(X) , y)) , X ) / X.shape[0] + lr * theta_copy / X.shape[0]\n",
    "        return theta\n",
    "    else:\n",
    "        theta = np.dot((error(_linear_hypothesis(X) , y)) , X ) / X.shape[0] + lr * theta /X.shape[0]\n",
    "        return theta"
   ]
  },
  {
   "cell_type": "code",
   "execution_count": 14,
   "metadata": {},
   "outputs": [
    {
     "data": {
      "text/plain": [
       "array([0.49993666, 3.29366444, 1.48683991, 2.77575901, 1.01292796])"
      ]
     },
     "execution_count": 14,
     "metadata": {},
     "output_type": "execute_result"
    }
   ],
   "source": [
    "_gradient_descent(X , y)"
   ]
  },
  {
   "cell_type": "code",
   "execution_count": null,
   "metadata": {},
   "outputs": [],
   "source": []
  },
  {
   "cell_type": "markdown",
   "metadata": {},
   "source": [
    "### 【問題3】推定\n",
    "\n",
    "推定する仕組みを実装してください。ScratchLogisticRegressionクラスの雛形に含まれるpredictメソッドとpredict_probaメソッドに書き加えてください。\n",
    "\n",
    "仮定関数 \n",
    "h\n",
    "θ\n",
    "(\n",
    "x\n",
    ")\n",
    " の出力がpredict_probaの返り値、さらにその値に閾値を設けて1と0のラベルとしたものがpredictの返り値となります。\n",
    "\n"
   ]
  },
  {
   "cell_type": "code",
   "execution_count": 16,
   "metadata": {},
   "outputs": [],
   "source": [
    "def predict(X):\n",
    "        y_pred = _linear_hypothesis(X)\n",
    "        list_ = []\n",
    "        for i in y_pred:\n",
    "            if i < 0.5:\n",
    "                list_.append(0)\n",
    "            elif i > 0.5:\n",
    "                list_.append(1)\n",
    "        return list_\n",
    "    "
   ]
  },
  {
   "cell_type": "code",
   "execution_count": 17,
   "metadata": {},
   "outputs": [],
   "source": [
    "def predict_proba(X):\n",
    "    y_pred = _linear_hypothesis(X)\n",
    "    return y_pred"
   ]
  },
  {
   "cell_type": "code",
   "execution_count": 18,
   "metadata": {},
   "outputs": [],
   "source": [
    "def predict(X):\n",
    "    \n",
    "    return np.where(_linear_hypothesis(X) < 0.5 , 0 , 1)"
   ]
  },
  {
   "cell_type": "markdown",
   "metadata": {},
   "source": [
    "### 【問題4】目的関数\n",
    "以下の数式で表されるロジスティック回帰の 目的関数（損失関数） を実装してください。そして、これをself.loss, self.val_lossに記録するようにしてください。\n",
    "\n",
    "なお、この数式には正則化項が含まれています。\n",
    "\n",
    "$$\n",
    "J(\\theta)=  \\frac{1}{m}  \\sum_{i=1}^{m}[−y^{(i)} log(h_θ(x^{(i)})) − (1−y^{(i)}) log(1−h_θ(x^{(i)}))] +\n",
    "\\frac{λ}{2m}\\sum_{j=1}^n\n",
    "θ^2_j.\\\\\n",
    "$$\n"
   ]
  },
  {
   "cell_type": "code",
   "execution_count": 19,
   "metadata": {},
   "outputs": [],
   "source": [
    "theta = np.random.rand(X.shape[1] + 1)\n",
    "def j_loss(X , y , lr = 0.01):\n",
    "    loss = np.sum(-y * np.log(_linear_hypothesis(X)) - (1 - y) * np.log(1 - _linear_hypothesis(X))) / X.shape[0] +( lr / (2 * X.shape[0])) * np.sum(theta ** 2)\n",
    "    return loss"
   ]
  },
  {
   "cell_type": "code",
   "execution_count": 20,
   "metadata": {},
   "outputs": [
    {
     "data": {
      "text/plain": [
       "5.122047314155122"
      ]
     },
     "execution_count": 20,
     "metadata": {},
     "output_type": "execute_result"
    }
   ],
   "source": [
    "j_loss(X , y)"
   ]
  },
  {
   "cell_type": "markdown",
   "metadata": {},
   "source": [
    "## 検証"
   ]
  },
  {
   "cell_type": "markdown",
   "metadata": {},
   "source": [
    "### 【問題5】学習と推定\n",
    "機械学習スクラッチ入門のSprintで用意したirisデータセットのvirgicolorとvirginicaの2値分類に対してスクラッチ実装の学習と推定を行なってください。\n",
    "\n",
    "scikit-learnによる実装と比べ、正しく動いているかを確認してください。\n",
    "\n",
    "AccuracyやPrecision、Recallなどの指標値はscikit-learnを使用してください。"
   ]
  },
  {
   "cell_type": "code",
   "execution_count": 339,
   "metadata": {
    "scrolled": false
   },
   "outputs": [],
   "source": [
    "# from sklearn.datasets import load_iris\n",
    "# # アイリスデータを変数に格納\n",
    "# iris_dataset = load_iris()\n",
    "# # pandas データに変換。その際にカラム名も指定する。\n",
    "# X = pd.DataFrame(iris_dataset.data, columns=[\"sepal_length\", \"sepal_width\", \"petal_length\", \"petal_width\"])\n",
    "\n",
    "# # pandasデータに変換。目的変数（ターゲット）が対象。\n",
    "# y = pd.DataFrame(iris_dataset.target, columns=[\"Species\"])\n",
    "\n",
    "# print(\"種類の名前 : {}\".format(iris_dataset.target_names))\n",
    "\n",
    "# df = pd.concat([X, y], axis=1)\n",
    "# df.head()\n"
   ]
  },
  {
   "cell_type": "code",
   "execution_count": 340,
   "metadata": {
    "scrolled": false
   },
   "outputs": [],
   "source": [
    "# X=X[50:]\n",
    "# X"
   ]
  },
  {
   "cell_type": "code",
   "execution_count": 341,
   "metadata": {},
   "outputs": [],
   "source": [
    "#y = y.query(\"Species == [1, 2]\")\n"
   ]
  },
  {
   "cell_type": "code",
   "execution_count": 22,
   "metadata": {},
   "outputs": [],
   "source": [
    "from sklearn.model_selection import train_test_split\n",
    "\n",
    "#X = (X - X.mean() ) / X.std() \n",
    "X_train , X_test , y_train , y_test = train_test_split(\n",
    "               X , y , test_size = 0.2)"
   ]
  },
  {
   "cell_type": "code",
   "execution_count": 23,
   "metadata": {},
   "outputs": [],
   "source": [
    "class ScratchLogisticRegression():\n",
    "    \"\"\"\n",
    "    ロジスティック回帰のスクラッチ実装\n",
    "\n",
    "    Parameters\n",
    "    ----------\n",
    "    num_iter : int\n",
    "      イテレーション数\n",
    "    lr : float\n",
    "      学習率\n",
    "    no_bias : bool\n",
    "      バイアス項を入れない場合はTrue\n",
    "    verbose : bool\n",
    "      学習過程を出力する場合はTrue\n",
    "\n",
    "    Attributes\n",
    "    ----------\n",
    "    self.coef_ : 次の形のndarray, shape (n_features,)\n",
    "      パラメータ\n",
    "    self.loss : 次の形のndarray, shape (self.iter,)\n",
    "      学習用データに対する損失の記録\n",
    "    self.val_loss : 次の形のndarray, shape (self.iter,)\n",
    "      検証用データに対する損失の記録\n",
    "\n",
    "    \"\"\"\n",
    "\n",
    "    def __init__(self, num_iter = 100 , lr = 0.01, bias = True , verbose = True,  lam=0.01):\n",
    "        self.h = None\n",
    "        self.theta = None\n",
    "        \n",
    "        # ハイパーパラメータを属性として記録\n",
    "        self.iter = num_iter\n",
    "        self.lr = lr\n",
    "        self.bias = bias\n",
    "        self.verbose = verbose\n",
    "        # 損失を記録する配列を用意\n",
    "        self.loss = np.zeros(self.iter)\n",
    "        self.val_loss = np.zeros(self.iter)\n",
    "        self.lam = lam\n",
    "    \n",
    "    def _linear_hypothesis(self , X):\n",
    "        z = np.dot(X , self.theta)\n",
    "        self.h = 1 / (1 + np.exp(-z))\n",
    "        return self.h\n",
    "    \n",
    "    def _get_error(self, h , y):\n",
    "        return self.h - y\n",
    "\n",
    "    def _gradient_descent(self , X , error):\n",
    "        if self.bias:\n",
    "            theta_copy =  self.theta.copy()\n",
    "            theta_copy[0] = 0\n",
    "            self.theta -= self.lr * np.dot(self.error , X ) / X.shape[0] + self.lam * theta_copy / X.shape[0]\n",
    "            return self.theta\n",
    "        else:\n",
    "            self.theta -= self.lr * np.dot(self.error , X ) / X.shape[0] + self.lam * self.theta /X.shape[0]\n",
    "            return self.theta\n",
    "        \n",
    "    def _get_j_loss(self , X , y ):\n",
    "        \n",
    "        cross = np.sum(-y * np.log(self.h) - (1 - y) * np.log(1 - self.h)) / X.shape[0]\n",
    "        reg = ( self.lam* np.sum(self.theta ** 2) / (2 * X.shape[0])) \n",
    "        self.l  = cross + reg\n",
    "        \n",
    "        #print('cross',cross)\n",
    "        #print('reg',reg)\n",
    "        #self.l = np.sum(-y * np.log(self.h) - (1 - y) * np.log(1 - self.h)) / X.shape[0] +( self.lam* np.sum(self.theta ** 2) / (2 * X.shape[0])) \n",
    "        return self.l\n",
    "        \n",
    "\n",
    "    def fit(self, X, y, X_val=None, y_val=None):\n",
    "        \"\"\"\n",
    "        ロジスティック回帰を学習する。検証用データが入力された場合はそれに対する損失と精度もイテレーションごとに計算する。\n",
    "\n",
    "        Parameters\n",
    "        ----------\n",
    "        X : 次の形のndarray, shape (n_samples, n_features)\n",
    "            学習用データの特徴量\n",
    "        y : 次の形のndarray, shape (n_samples, )\n",
    "            学習用データの正解値\n",
    "        X_val : 次の形のndarray, shape (n_samples, n_features)\n",
    "            検証用データの特徴量\n",
    "        y_val : 次の形のndarray, shape (n_samples, )\n",
    "            検証用データの正解値\n",
    "        \"\"\"\n",
    "        \n",
    "        if self.bias:\n",
    "            self.one = np.ones(X.shape[0]).reshape(-1 , 1)\n",
    "            X = np.concatenate([self.one , X] , axis = 1)\n",
    "            \n",
    "            if X_val is not None:\n",
    "                self.one = np.ones(X_val.shape[0]).reshape(-1 , 1)\n",
    "                X_val = np.concatenate([self.one , X_val] , axis = 1)\n",
    "        np.random.seed(0)\n",
    "        self.theta = np.random.rand(X.shape[1] )\n",
    "        \n",
    "        for i in range(self.iter):\n",
    "            self.h = self._linear_hypothesis(X)\n",
    "            #print('h:',self.h)\n",
    "            self.error = self._get_error(self.h , y)\n",
    "            #print('error',self.error)\n",
    "            self._gradient_descent(X , self.error)\n",
    "            #print('theta',self.theta)\n",
    "            self.j_loss = self._get_j_loss( X , y )\n",
    "            self.loss[i] = self.j_loss\n",
    "            \n",
    "            if X_val is not None:\n",
    "                self.h_val = self._linear_hypothesis(X_val)\n",
    "                self.j_loss_val = self._get_j_loss( X_val , y_val )\n",
    "                self.val_loss[i] = self.j_loss_val\n",
    "\n",
    "        if self.verbose:\n",
    "            #verboseをTrueにした際は学習過程を出力\n",
    "            print(self.loss)\n",
    "\n",
    "    def predict(self, X):\n",
    "        \"\"\"\n",
    "        ロジスティック回帰を使いラベルを推定する。\n",
    "\n",
    "        Parameters\n",
    "        ----------\n",
    "        X : 次の形のndarray, shape (n_samples, n_features)\n",
    "            サンプル\n",
    "\n",
    "        Returns\n",
    "        -------\n",
    "            次の形のndarray, shape (n_samples, 1)\n",
    "            ロジスティック回帰による推定結果\n",
    "        \"\"\"\n",
    "        if self.bias:\n",
    "            self.one = np.ones(X.shape[0]).reshape(-1 , 1)\n",
    "            X = np.concatenate([self.one , X] , axis = 1)\n",
    "        z = np.dot(X , self.theta)\n",
    "        self.h = 1 / (1 + np.exp(-z))\n",
    "        \n",
    "        return np.where(self.h < 0.5 , 0 , 1)\n",
    "        #list_ = []\n",
    "        #for i in self.h:\n",
    "            #if i < 0.5:\n",
    "                #list_.append(0)\n",
    "            #elif i > 0.5:\n",
    "                #list_.append(1)\n",
    "        #return list_\n",
    "\n",
    "\n",
    "    def predict_proba(self, X):\n",
    "        \"\"\"\n",
    "        ロジスティック回帰を使い確率を推定する。\n",
    "\n",
    "        Parameters\n",
    "        ----------\n",
    "        X : 次の形のndarray, shape (n_samples, n_features)\n",
    "            サンプル\n",
    "\n",
    "        Returns\n",
    "        -------\n",
    "            次の形のndarray, shape (n_samples, 1)\n",
    "            ロジスティック回帰による推定結果\n",
    "        \"\"\"\n",
    "        \n",
    "        return self.h"
   ]
  },
  {
   "cell_type": "code",
   "execution_count": 25,
   "metadata": {},
   "outputs": [],
   "source": [
    "from sklearn.model_selection import train_test_split\n",
    "\n",
    "#X = (X - X.mean() ) / X.std() \n",
    "X_train , X_test , y_train , y_test = train_test_split(\n",
    "               X , y , test_size = 0.2)"
   ]
  },
  {
   "cell_type": "code",
   "execution_count": 26,
   "metadata": {},
   "outputs": [],
   "source": [
    "\n",
    "slr = ScratchLogisticRegression(lr = 0.1, num_iter = 10000,  lam=0.01)\n"
   ]
  },
  {
   "cell_type": "code",
   "execution_count": 28,
   "metadata": {},
   "outputs": [
    {
     "name": "stdout",
     "output_type": "stream",
     "text": [
      "[5.44865858 3.26231363 1.20548942 ... 0.10421655 0.10421585 0.10421515]\n"
     ]
    }
   ],
   "source": [
    "slr.fit(X_train , y_train , X_test , y_test)"
   ]
  },
  {
   "cell_type": "code",
   "execution_count": 32,
   "metadata": {},
   "outputs": [],
   "source": []
  },
  {
   "cell_type": "code",
   "execution_count": 33,
   "metadata": {},
   "outputs": [],
   "source": []
  },
  {
   "cell_type": "code",
   "execution_count": null,
   "metadata": {},
   "outputs": [],
   "source": []
  },
  {
   "cell_type": "markdown",
   "metadata": {},
   "source": [
    "### 【問題6】学習曲線のプロット\n",
    "学習曲線を見て損失が適切に下がっているかどうか確認してください。"
   ]
  },
  {
   "cell_type": "code",
   "execution_count": 29,
   "metadata": {},
   "outputs": [
    {
     "data": {
      "image/png": "[encoded data removed]",
      "text/plain": [
       "<matplotlib.figure.Figure at 0x121342c50>"
      ]
     },
     "metadata": {},
     "output_type": "display_data"
    }
   ],
   "source": [
    "plt.plot(np.arange(1 , len(slr.loss) + 1) , slr.loss , label = \"train_loss\")\n",
    "plt.plot(np.arange(1 , len(slr.val_loss) + 1) , slr.val_loss , label = \"test_loss\")\n",
    "plt.title(\"model loss\")\n",
    "plt.xlabel(\"iter\")\n",
    "plt.ylabel(\"loss\")\n",
    "plt.legend()\n",
    "plt.show()"
   ]
  },
  {
   "cell_type": "code",
   "execution_count": 30,
   "metadata": {},
   "outputs": [],
   "source": [
    "slr.predict_proba(X_test)\n",
    "y_train\n",
    "y_pred = slr.predict(X_test)"
   ]
  },
  {
   "cell_type": "code",
   "execution_count": 34,
   "metadata": {},
   "outputs": [
    {
     "data": {
      "text/plain": [
       "array([0, 0, 1, 1, 1, 0, 0, 1, 0, 0, 1, 0, 1, 1, 0, 0, 1, 1, 1, 0])"
      ]
     },
     "execution_count": 34,
     "metadata": {},
     "output_type": "execute_result"
    }
   ],
   "source": [
    "y_pred"
   ]
  },
  {
   "cell_type": "code",
   "execution_count": 35,
   "metadata": {},
   "outputs": [],
   "source": [
    "from sklearn.metrics import accuracy_score , precision_score , recall_score, f1_score ,  confusion_matrix"
   ]
  },
  {
   "cell_type": "code",
   "execution_count": 36,
   "metadata": {},
   "outputs": [],
   "source": [
    "def learn_model(X , y , model = slr):\n",
    "    X_train , X_test , y_train , y_test = train_test_split(\n",
    "                  X[:,1:3] , y , test_size = 0.2)\n",
    "    model.fit(X_train , y_train)\n",
    "    y_pred = model.predict(X_test)\n",
    "    score = accuracy_score(y_test , y_pred)\n",
    "    pre_score = precision_score(y_test , y_pred)\n",
    "    re_score = recall_score(y_test , y_pred)\n",
    "    f_score = f1_score(y_test , y_pred)\n",
    "    con_mat = confusion_matrix(y_test , y_pred)\n",
    "    \n",
    "    print(\"accuracy_score :\" , score)\n",
    "    print(\"precision_score :\" , pre_score)\n",
    "    print(\"recall_score :\" , re_score)\n",
    "    print(\"f1_score :\" , f_score)\n",
    "    print(\"confusion_matrix :\" , con_mat)"
   ]
  },
  {
   "cell_type": "code",
   "execution_count": 37,
   "metadata": {},
   "outputs": [
    {
     "name": "stdout",
     "output_type": "stream",
     "text": [
      "[2.93709792 2.00176727 1.17589358 ... 0.21415726 0.21415411 0.21415096]\n",
      "accuracy_score : 0.9\n",
      "precision_score : 0.8888888888888888\n",
      "recall_score : 0.8888888888888888\n",
      "f1_score : 0.8888888888888888\n",
      "confusion_matrix : [[10  1]\n",
      " [ 1  8]]\n"
     ]
    }
   ],
   "source": [
    "learn_model(X , y)"
   ]
  },
  {
   "cell_type": "markdown",
   "metadata": {},
   "source": [
    "### 問題7】決定領域の可視化\n",
    "決定領域を可視化してください。"
   ]
  },
  {
   "cell_type": "code",
   "execution_count": 38,
   "metadata": {},
   "outputs": [],
   "source": [
    "import matplotlib.pyplot as plt\n",
    "from matplotlib.colors import ListedColormap\n",
    "import matplotlib.patches as mpatches\n",
    "\n",
    "def decision_region(X, y, model, step=0.01, title='decision region', xlabel='xlabel', ylabel='ylabel', target_names=['versicolor', 'virginica']):\n",
    "    \"\"\"\n",
    "    2値分類を2次元の特徴量で学習したモデルの決定領域を描く。\n",
    "    背景の色が学習したモデルによる推定値から描画される。\n",
    "    散布図の点は訓練データまたは検証データである。\n",
    "\n",
    "    Parameters\n",
    "    ----------------\n",
    "    X : ndarray, shape(n_samples, 2)\n",
    "        特徴量\n",
    "    y : ndarray, shape(n_samples,)\n",
    "        ラベル\n",
    "    model : object\n",
    "        学習したモデルのインスンタスを入れる\n",
    "    step : float, (default : 0.1)\n",
    "        推定値を計算する間隔を設定する\n",
    "    title : str\n",
    "        グラフのタイトルの文章を与える\n",
    "    xlabel, ylabel : str\n",
    "        軸ラベルの文章を与える\n",
    "    target_names= : list of str\n",
    "        凡例の一覧を与える\n",
    "    \"\"\"\n",
    "    # setting\n",
    "    scatter_color = ['red', 'blue']\n",
    "    contourf_color = ['pink', 'skyblue']\n",
    "    n_class = 2\n",
    "    marker = [\"o\" , \"^\"]\n",
    "\n",
    "    # pred\n",
    "    mesh_f0, mesh_f1  = np.meshgrid(np.arange(np.min(X[:,0])-0.5, np.max(X[:,0])+0.5, step), np.arange(np.min(X[:,1])-0.5, np.max(X[:,1])+0.5, step))\n",
    "    mesh = np.c_[np.ravel(mesh_f0),np.ravel(mesh_f1)]\n",
    "    y_pred = model.predict(mesh).reshape(mesh_f0.shape)\n",
    "\n",
    "    # plot\n",
    "    plt.title(title)\n",
    "    plt.xlabel(xlabel)\n",
    "    plt.ylabel(ylabel)\n",
    "    plt.contourf(mesh_f0, mesh_f1, y_pred, n_class-1, cmap=ListedColormap(contourf_color))\n",
    "    plt.contour(mesh_f0, mesh_f1, y_pred, n_class-1, colors='y', linewidths=3, alpha=0.5)\n",
    "    for i, target in enumerate(set(y)):\n",
    "        plt.scatter(X[y==target][:, 0], X[y==target][:, 1], s=80, color=scatter_color[i], label=target_names[i], marker=marker[i])\n",
    "    patches = [mpatches.Patch(color=scatter_color[i], label=target_names[i]) for i in range(n_class)]\n",
    "    plt.legend(handles=patches)\n",
    "    plt.legend()\n",
    "    plt.show()"
   ]
  },
  {
   "cell_type": "code",
   "execution_count": 39,
   "metadata": {},
   "outputs": [
    {
     "data": {
      "text/plain": [
       "array([1, 0, 0, 1, 1, 0, 0, 1, 1, 1, 0, 0, 0, 0, 0, 1, 0, 0, 1, 0, 0, 0,\n",
       "       0, 1, 1, 1, 0, 1, 1, 0, 0, 0, 1, 1, 0, 1, 1, 1, 0, 1, 1, 0, 0, 1,\n",
       "       0, 1, 0, 0, 1, 0, 0, 0, 1, 0, 1, 1, 0, 1, 1, 1, 1, 1, 0, 0, 1, 0,\n",
       "       0, 1, 0, 1, 1, 1, 0, 0, 1, 1, 1, 1, 0, 0])"
      ]
     },
     "execution_count": 39,
     "metadata": {},
     "output_type": "execute_result"
    }
   ],
   "source": [
    "y_train"
   ]
  },
  {
   "cell_type": "code",
   "execution_count": 40,
   "metadata": {},
   "outputs": [
    {
     "name": "stdout",
     "output_type": "stream",
     "text": [
      "[3.00234017 2.02244642 1.16279239 ... 0.24021449 0.24021157 0.24020865]\n"
     ]
    }
   ],
   "source": [
    "slr.fit(X_train[:,1:3] , y_train)"
   ]
  },
  {
   "cell_type": "code",
   "execution_count": 41,
   "metadata": {},
   "outputs": [
    {
     "data": {
      "image/png": "[encoded data removed]",
      "text/plain": [
       "<matplotlib.figure.Figure at 0x123a25908>"
      ]
     },
     "metadata": {},
     "output_type": "display_data"
    }
   ],
   "source": [
    "decision_region(X_train[:,1:3] , y_train , slr ,  title='decision region', xlabel='sepal length', \n",
    "                             ylabel='petal length', target_names=['versicolor', 'virginica'] )"
   ]
  },
  {
   "cell_type": "code",
   "execution_count": null,
   "metadata": {},
   "outputs": [],
   "source": []
  },
  {
   "cell_type": "code",
   "execution_count": null,
   "metadata": {},
   "outputs": [],
   "source": []
  },
  {
   "cell_type": "code",
   "execution_count": null,
   "metadata": {},
   "outputs": [],
   "source": []
  },
  {
   "cell_type": "code",
   "execution_count": null,
   "metadata": {},
   "outputs": [],
   "source": []
  },
  {
   "cell_type": "code",
   "execution_count": null,
   "metadata": {},
   "outputs": [],
   "source": []
  }
 ],
 "metadata": {
  "kernelspec": {
   "display_name": "Python 3",
   "language": "python",
   "name": "python3"
  },
  "language_info": {
   "codemirror_mode": {
    "name": "ipython",
    "version": 3
   },
   "file_extension": ".py",
   "mimetype": "text/x-python",
   "name": "python",
   "nbconvert_exporter": "python",
   "pygments_lexer": "ipython3",
   "version": "3.6.4"
  }
 },
 "nbformat": 4,
 "nbformat_minor": 2
}
