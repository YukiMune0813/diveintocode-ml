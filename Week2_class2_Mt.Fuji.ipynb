{
 "cells": [
  {
   "cell_type": "markdown",
   "metadata": {},
   "source": [
    "富士山の標高データを 最小化したい目的関数 に見立てて、富士山からの下山プログラムを作成することで勾配降下法を学びます。"
   ]
  },
  {
   "cell_type": "markdown",
   "metadata": {},
   "source": [
    "標高データの取得\n",
    "左から順番に「その地点の番号」「緯度」「経度」「標高」「地点0からの距離」となっています。標高と距離の単位はメートルです。300地点のデータです。\n"
   ]
  },
  {
   "cell_type": "code",
   "execution_count": 19,
   "metadata": {},
   "outputs": [
    {
     "data": {
      "text/html": [
       "<div>\n",
       "<style scoped>\n",
       "    .dataframe tbody tr th:only-of-type {\n",
       "        vertical-align: middle;\n",
       "    }\n",
       "\n",
       "    .dataframe tbody tr th {\n",
       "        vertical-align: top;\n",
       "    }\n",
       "\n",
       "    .dataframe thead th {\n",
       "        text-align: right;\n",
       "    }\n",
       "</style>\n",
       "<table border=\"1\" class=\"dataframe\">\n",
       "  <thead>\n",
       "    <tr style=\"text-align: right;\">\n",
       "      <th></th>\n",
       "      <th>x</th>\n",
       "      <th>lat</th>\n",
       "      <th>lng</th>\n",
       "      <th>elevation</th>\n",
       "      <th>distance</th>\n",
       "    </tr>\n",
       "  </thead>\n",
       "  <tbody>\n",
       "    <tr>\n",
       "      <th>0</th>\n",
       "      <td>0</td>\n",
       "      <td>35.134141</td>\n",
       "      <td>139.132082</td>\n",
       "      <td>0.0</td>\n",
       "      <td>0</td>\n",
       "    </tr>\n",
       "    <tr>\n",
       "      <th>1</th>\n",
       "      <td>1</td>\n",
       "      <td>35.135826</td>\n",
       "      <td>139.129202</td>\n",
       "      <td>0.0</td>\n",
       "      <td>322</td>\n",
       "    </tr>\n",
       "    <tr>\n",
       "      <th>2</th>\n",
       "      <td>2</td>\n",
       "      <td>35.137510</td>\n",
       "      <td>139.126322</td>\n",
       "      <td>0.0</td>\n",
       "      <td>644</td>\n",
       "    </tr>\n",
       "    <tr>\n",
       "      <th>3</th>\n",
       "      <td>3</td>\n",
       "      <td>35.139194</td>\n",
       "      <td>139.123441</td>\n",
       "      <td>0.0</td>\n",
       "      <td>966</td>\n",
       "    </tr>\n",
       "    <tr>\n",
       "      <th>4</th>\n",
       "      <td>4</td>\n",
       "      <td>35.140878</td>\n",
       "      <td>139.120560</td>\n",
       "      <td>0.0</td>\n",
       "      <td>1288</td>\n",
       "    </tr>\n",
       "  </tbody>\n",
       "</table>\n",
       "</div>"
      ],
      "text/plain": [
       "   x        lat         lng  elevation  distance\n",
       "0  0  35.134141  139.132082        0.0         0\n",
       "1  1  35.135826  139.129202        0.0       322\n",
       "2  2  35.137510  139.126322        0.0       644\n",
       "3  3  35.139194  139.123441        0.0       966\n",
       "4  4  35.140878  139.120560        0.0      1288"
      ]
     },
     "execution_count": 19,
     "metadata": {},
     "output_type": "execute_result"
    }
   ],
   "source": [
    "import numpy as np\n",
    "import pandas as pd\n",
    "import matplotlib.pyplot as plt\n",
    "%matplotlib inline\n",
    "\n",
    "\"mtfuji_data.csv\" # ファイル名（パス）を指定する\n",
    "\n",
    "df_fuji= pd.read_csv('mtfuji_data.csv')\n",
    "df_fuji.head()\n"
   ]
  },
  {
   "cell_type": "markdown",
   "metadata": {},
   "source": [
    "### 【問題1】データの可視化\n",
    "Matplotlibを使い標高データを可視化してください。横軸に「その地点の番号」、縦軸に「標高」を設定すれば、富士山の断面図が描けます。\n",
    "\n"
   ]
  },
  {
   "cell_type": "code",
   "execution_count": 20,
   "metadata": {
    "scrolled": true
   },
   "outputs": [
    {
     "data": {
      "image/png": "[encoded data removed]",
      "text/plain": [
       "<matplotlib.figure.Figure at 0x11fdeb358>"
      ]
     },
     "metadata": {},
     "output_type": "display_data"
    }
   ],
   "source": [
    "import matplotlib.pyplot as plt\n",
    "\n",
    "\n",
    "plt.title(\"Mt Fuji\")\n",
    "plt.xlabel(\"position\")\n",
    "plt.ylabel(\"elevation[m]\")\n",
    "plt.plot(df_fuji.x, df_fuji.elevation)\n",
    "plt.show()"
   ]
  },
  {
   "cell_type": "code",
   "execution_count": null,
   "metadata": {},
   "outputs": [],
   "source": []
  },
  {
   "cell_type": "markdown",
   "metadata": {},
   "source": [
    "### 【問題2】ある地点の勾配を計算する関数を作成\n",
    "「二次元配列と勾配問題」では各地点での勾配を最初に求めました。しかし、暗闇の富士山を想像すると、知ることができるのは今いる地点の勾配だけです。\n",
    "「今いる地点の番号」と「今いる隣の地点の番号（今いる地点の番号-1）」の関係による勾配を求める関数を作成してください。\n",
    "勾配は以下の式で求まりましたが、このデータでは「標高」がy、「その地点の番号」がxに相当します。\n",
    "勾配=Δy/Δx"
   ]
  },
  {
   "cell_type": "code",
   "execution_count": 31,
   "metadata": {},
   "outputs": [
    {
     "data": {
      "text/plain": [
       "168.35000000000036"
      ]
     },
     "execution_count": 31,
     "metadata": {},
     "output_type": "execute_result"
    }
   ],
   "source": [
    "def grad(i):\n",
    "    x_diff=df_fuji.x[i]-df_fuji.x[i-1]\n",
    "    elevation_diff=df_fuji.elevation[i]-df_fuji.elevation[i-1] #標高の差\n",
    "    grad=elevation_diff/x_diff\n",
    "    return grad\n",
    "\n",
    "grad(136)"
   ]
  },
  {
   "cell_type": "markdown",
   "metadata": {},
   "source": [
    "【問題3】移動先の地点を計算する関数を作成  \n",
    "今いる地点の勾配の情報を元に、次に移動先の地点を計算する関数を作成してください。\n",
    "数式で表すと 「移動先の地点 = 今いる地点 - \n",
    "α\n",
    " ×今いる地点の勾配」 となります。\n",
    "「今いる地点の勾配」は問題2で作成した関数の返り値を使用してください。\n",
    "α\n",
    " は0より大きい任意の値をとるハイパーパラメータです。機械学習の分野では学習率という名前で呼ばれます。この値によって下り方が変わります。ここでは例えば0.2に設定してください。\n",
    "《実装上の注意》\n",
    "上記式を計算すると移動先の地点には浮動小数点数が現れますが、今回勾配の情報を得るためには地点は整数で表す必要があります。そのため、四捨五入による変換を行ってください。また、取り得ない値となった場合の処理が必要です。例えば移動先の地点が負になると、そのようなデータが存在しないため、次に勾配が得られなくなります。\n",
    "《ハイパーパラメータとは》\n",
    "機械学習手法において、その手法自身では最適化が行えない値のことです。値によって手法の挙動は変化し、学習がうまくいくかどうかに影響を与えるため、設定は慎重に行う必要があります。最も単純には人間が考えて設定することになりますが、ハイパーパラメータを機械的に決めるための手法も存在します。"
   ]
  },
  {
   "cell_type": "code",
   "execution_count": 38,
   "metadata": {},
   "outputs": [
    {
     "data": {
      "text/plain": [
       "102.0"
      ]
     },
     "execution_count": 38,
     "metadata": {},
     "output_type": "execute_result"
    }
   ],
   "source": [
    "#今いる地点df_fuji.x\n",
    "def move_x(i):\n",
    "    alpha=0.2\n",
    "    new_x=df_fuji.x[i]-alpha*grad(i)\n",
    "    return round(new_x)\n",
    "move_x(136)"
   ]
  },
  {
   "cell_type": "markdown",
   "metadata": {},
   "source": [
    "### 【問題4】山を下る関数を作成  \n",
    "山を下る関数を作成してください。最初の地点を受け取り、問題3の関数によって地点を更新していきます。移動毎の地点はリストなどに記録して、これを関数の返り値としてください。\n",
    "最初の「今いる地点」は富士山の頂上付近、136番の地点（標高3434.59[m]）とします。ここから山を下っていきましょう。\n",
    "《実装上の注意》\n",
    "問題3で四捨五入を行っているため、移動先の地点が今いる地点と同じ場合になることがあります。移動量が減ってきたということなので、その時点で山を下りきったと判断してください。実際の勾配降下法ではこのようなことは起きません。"
   ]
  },
  {
   "cell_type": "code",
   "execution_count": 44,
   "metadata": {},
   "outputs": [],
   "source": [
    "#position=df_fuji.x\n",
    "def downhill(i):\n",
    "    df_fuji.x_list=[]\n",
    "    list_no=1\n",
    "    df_fuji.x_list.append(df_fuji.x[i])\n",
    "    df_fuji.x_list.append(move_x(i))\n",
    "    while True:\n",
    "        df_fuji.x_list.append(move_x(df_fuji.x_list[list_no]))\n",
    "        list_no += 1\n",
    "        if df_fuji.x_list[list_no] >=df_fuji.x_list[list_no-1]:\n",
    "            df_fuji.x_list.pop()\n",
    "            break\n",
    "    return df_fuji.x_list\n",
    "\n"
   ]
  },
  {
   "cell_type": "code",
   "execution_count": 45,
   "metadata": {},
   "outputs": [
    {
     "data": {
      "text/plain": [
       "[136, 102.0, 98.0, 95.0, 93.0, 89.0, 85.0, 82.0, 79.0, 73.0, 70.0]"
      ]
     },
     "execution_count": 45,
     "metadata": {},
     "output_type": "execute_result"
    }
   ],
   "source": [
    "downhill(136)"
   ]
  },
  {
   "cell_type": "markdown",
   "metadata": {},
   "source": [
    "### 【問題5】下山過程の可視化  \n",
    "問題4における下山過程をMatplotlibを使いグラフで可視化してください。"
   ]
  },
  {
   "cell_type": "code",
   "execution_count": 49,
   "metadata": {},
   "outputs": [
    {
     "data": {
      "image/png": "[encoded data removed]",
      "text/plain": [
       "<matplotlib.figure.Figure at 0x115c85e10>"
      ]
     },
     "metadata": {},
     "output_type": "display_data"
    }
   ],
   "source": [
    "x = downhill(136)\n",
    "y=df_fuji.elevation[x]\n",
    "\n",
    "plt.show()\n",
    "plt.title(\"Mt Fuji\")\n",
    "plt.xlabel(\"position\")\n",
    "plt.ylabel(\"elevation[m]\")\n",
    "plt.plot(df_fuji.x, df_fuji.elevation)\n",
    "plt.plot(x, y, color='red')\n",
    "plt.show()"
   ]
  },
  {
   "cell_type": "markdown",
   "metadata": {},
   "source": [
    "### 【問題6】初期値の変更\n",
    "問題4では最初の「今いる地点」を136としましたが、これを他の全ての点で計算してください。\n",
    "そして、いくつかの初期値に対してどのような下山過程となるか、問題5のように可視化してください。\n",
    "機械学習においては 初期値をどう設定するかが結果に影響を与えることが確認できます。"
   ]
  },
  {
   "cell_type": "code",
   "execution_count": null,
   "metadata": {},
   "outputs": [],
   "source": []
  },
  {
   "cell_type": "code",
   "execution_count": null,
   "metadata": {},
   "outputs": [],
   "source": []
  }
 ],
 "metadata": {
  "kernelspec": {
   "display_name": "Python 3",
   "language": "python",
   "name": "python3"
  },
  "language_info": {
   "codemirror_mode": {
    "name": "ipython",
    "version": 3
   },
   "file_extension": ".py",
   "mimetype": "text/x-python",
   "name": "python",
   "nbconvert_exporter": "python",
   "pygments_lexer": "ipython3",
   "version": "3.6.4"
  }
 },
 "nbformat": 4,
 "nbformat_minor": 2
}
