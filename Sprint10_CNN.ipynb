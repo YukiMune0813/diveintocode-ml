{
 "cells": [
  {
   "cell_type": "markdown",
   "metadata": {},
   "source": [
    "# 1次元の畳み込みニューラルネットワークスクラッチ\n",
    "\n",
    "畳み込みニューラルネットワーク（CNN） のクラスをスクラッチで作成していきます。NumPyなど最低限のライブラリのみを使いアルゴリズムを実装していきます。\n",
    "\n",
    "\n",
    "このSprintでは1次元の 畳み込み層 を作成し、畳み込みの基礎を理解することを目指します。次のSprintでは2次元畳み込み層とプーリング層を作成することで、一般的に画像に対して利用されるCNNを完成させます。\n",
    "\n",
    "\n",
    "クラスの名前はScratch1dCNNClassifierとしてください。クラスの構造などは前のSprintで作成したScratchDeepNeuralNetrowkClassifierを参考にしてください。\n",
    "\n",
    "\n",
    "1次元畳み込み層とは\n",
    "CNNでは画像に対しての2次元畳み込み層が定番ですが、ここでは理解しやすくするためにまずは1次元畳み込み層を実装します。1次元畳み込みは実用上は自然言語や波形データなどの 系列データ で使われることが多いです。\n",
    "\n",
    "\n",
    "畳み込みは任意の次元に対して考えることができ、立体データに対しての3次元畳み込みまではフレームワークで一般的に用意されています。\n",
    "\n",
    "\n",
    "データセットの用意\n",
    "検証には引き続きMNISTデータセットを使用します。1次元畳み込みでは全結合のニューラルネットワークと同様に平滑化されたものを入力します。\n",
    "\n",
    "\n",
    "### 【問題1】チャンネル数を1に限定した1次元畳み込み層クラスの作成\n",
    "チャンネル数を1に限定した1次元畳み込み層のクラスSimpleConv1dを作成してください。基本構造は前のSprintで作成した全結合層のFCクラスと同じになります。なお、重みの初期化に関するクラスは必要に応じて作り変えてください。Xavierの初期値などを使う点は全結合層と同様です。\n",
    "\n",
    "\n",
    "ここでは パディング は考えず、ストライド も1に固定します。また、複数のデータを同時に処理することも考えなくて良く、バッチサイズは1のみに対応してください。この部分の拡張はアドバンス課題とします。\n",
    "\n",
    "\n",
    "フォワードプロパゲーションの数式は以下のようになります。\n",
    "\n",
    "$$\n",
    "a_i = \\sum_{s=0}^{F-1}x_{(i+s)}w_s+b\n",
    "$$\n",
    "\n",
    "a\n",
    "i\n",
    " : 出力される配列のi番目の値\n",
    "\n",
    "\n",
    "F\n",
    " : フィルタのサイズ\n",
    "\n",
    "\n",
    "x\n",
    "(\n",
    "i\n",
    "+\n",
    "s\n",
    ")\n",
    " : 入力の配列の(i+s)番目の値\n",
    "\n",
    "\n",
    "w\n",
    "s\n",
    " : 重みの配列のs番目の値\n",
    "\n",
    "\n",
    "b\n",
    " : バイアス項\n",
    "\n",
    "\n",
    "全てスカラーです。\n",
    "\n",
    "\n",
    "次に更新式です。ここがAdaGradなどに置き換えられる点は全結合層と同様です。\n",
    "\n",
    "\n",
    "$$\n",
    "w_s^{\\prime} = w_s - \\alpha \\frac{\\partial L}{\\partial w_s} \\\\\n",
    "b^{\\prime} = b - \\alpha \\frac{\\partial L}{\\partial b}\n",
    "$$\n",
    "\n",
    "α\n",
    " : 学習率\n",
    "\n",
    "\n",
    "∂\n",
    "L\n",
    "∂\n",
    "w\n",
    "s\n",
    " : \n",
    "w\n",
    "s\n",
    " に関する損失 \n",
    "L\n",
    " の勾配\n",
    "\n",
    "\n",
    "∂\n",
    "L\n",
    "∂\n",
    "b\n",
    " : \n",
    "b\n",
    " に関する損失 \n",
    "L\n",
    " の勾配\n",
    "\n",
    "\n",
    "勾配 \n",
    "∂\n",
    "L\n",
    "∂\n",
    "w\n",
    "s\n",
    " や \n",
    "∂\n",
    "L\n",
    "∂\n",
    "b\n",
    " を求めるためのバックプロパゲーションの数式が以下です。\n",
    "\n",
    "\n",
    "$$\n",
    "\\frac{\\partial L}{\\partial w_s} = \\sum_{i=0}^{N_{out}-1} \\frac{\\partial L}{\\partial a_i}x_{(i+s)}\\\\\n",
    "\\frac{\\partial L}{\\partial b} = \\sum_{i=0}^{N_{out}-1} \\frac{\\partial L}{\\partial a_i}\n",
    "$$\n",
    "\n",
    "∂\n",
    "L\n",
    "∂\n",
    "a\n",
    "i\n",
    " : 勾配の配列のi番目の値\n",
    "\n",
    "\n",
    "N\n",
    "o\n",
    "u\n",
    "t\n",
    " : 出力のサイズ\n",
    "\n",
    "\n",
    "前の層に流す誤差の数式は以下です。\n",
    "\n",
    "\n",
    "\n",
    "$$\n",
    "\\frac{\\partial L}{\\partial x_j} = \\sum_{s=0}^{F-1} \\frac{\\partial L}{\\partial a_{(j-s)}}w_s\n",
    "$$\n",
    "\n",
    "∂\n",
    "L\n",
    "∂\n",
    "x\n",
    "j\n",
    " : 前の層に流す誤差の配列のj番目の値\n",
    "\n",
    "\n",
    "ただし、 \n",
    "j\n",
    "−\n",
    "s\n",
    "<\n",
    "0\n",
    " または \n",
    "j\n",
    "−\n",
    "s\n",
    ">\n",
    "N\n",
    "o\n",
    "u\n",
    "t\n",
    "−\n",
    "1\n",
    " のとき \n",
    "∂\n",
    "L\n",
    "∂\n",
    "a\n",
    "(\n",
    "j\n",
    "−\n",
    "s\n",
    ")\n",
    "=\n",
    "0\n",
    " です。\n",
    "\n",
    "\n",
    "全結合層との大きな違いは、重みが複数の特徴量に対して共有されていることです。この場合は共有されている分の誤差を全て足すことで勾配を求めます。計算グラフ上での分岐はバックプロパゲーションの際に誤差の足し算をすれば良いことになります。\n",
    "\n"
   ]
  },
  {
   "cell_type": "code",
   "execution_count": 1,
   "metadata": {},
   "outputs": [],
   "source": [
    "import numpy as np\n",
    "import matplotlib.pyplot as plt\n",
    "%matplotlib inline\n",
    "import pandas as pd"
   ]
  },
  {
   "cell_type": "code",
   "execution_count": 2,
   "metadata": {},
   "outputs": [
    {
     "name": "stderr",
     "output_type": "stream",
     "text": [
      "Using TensorFlow backend.\n",
      "/Users/apple/.pyenv/versions/anaconda3-5.1.0/lib/python3.6/site-packages/tensorflow/python/framework/dtypes.py:516: FutureWarning: Passing (type, 1) or '1type' as a synonym of type is deprecated; in a future version of numpy, it will be understood as (type, (1,)) / '(1,)type'.\n",
      "  _np_qint8 = np.dtype([(\"qint8\", np.int8, 1)])\n",
      "/Users/apple/.pyenv/versions/anaconda3-5.1.0/lib/python3.6/site-packages/tensorflow/python/framework/dtypes.py:517: FutureWarning: Passing (type, 1) or '1type' as a synonym of type is deprecated; in a future version of numpy, it will be understood as (type, (1,)) / '(1,)type'.\n",
      "  _np_quint8 = np.dtype([(\"quint8\", np.uint8, 1)])\n",
      "/Users/apple/.pyenv/versions/anaconda3-5.1.0/lib/python3.6/site-packages/tensorflow/python/framework/dtypes.py:518: FutureWarning: Passing (type, 1) or '1type' as a synonym of type is deprecated; in a future version of numpy, it will be understood as (type, (1,)) / '(1,)type'.\n",
      "  _np_qint16 = np.dtype([(\"qint16\", np.int16, 1)])\n",
      "/Users/apple/.pyenv/versions/anaconda3-5.1.0/lib/python3.6/site-packages/tensorflow/python/framework/dtypes.py:519: FutureWarning: Passing (type, 1) or '1type' as a synonym of type is deprecated; in a future version of numpy, it will be understood as (type, (1,)) / '(1,)type'.\n",
      "  _np_quint16 = np.dtype([(\"quint16\", np.uint16, 1)])\n",
      "/Users/apple/.pyenv/versions/anaconda3-5.1.0/lib/python3.6/site-packages/tensorflow/python/framework/dtypes.py:520: FutureWarning: Passing (type, 1) or '1type' as a synonym of type is deprecated; in a future version of numpy, it will be understood as (type, (1,)) / '(1,)type'.\n",
      "  _np_qint32 = np.dtype([(\"qint32\", np.int32, 1)])\n",
      "/Users/apple/.pyenv/versions/anaconda3-5.1.0/lib/python3.6/site-packages/tensorflow/python/framework/dtypes.py:525: FutureWarning: Passing (type, 1) or '1type' as a synonym of type is deprecated; in a future version of numpy, it will be understood as (type, (1,)) / '(1,)type'.\n",
      "  np_resource = np.dtype([(\"resource\", np.ubyte, 1)])\n",
      "/Users/apple/.pyenv/versions/anaconda3-5.1.0/lib/python3.6/site-packages/tensorboard/compat/tensorflow_stub/dtypes.py:541: FutureWarning: Passing (type, 1) or '1type' as a synonym of type is deprecated; in a future version of numpy, it will be understood as (type, (1,)) / '(1,)type'.\n",
      "  _np_qint8 = np.dtype([(\"qint8\", np.int8, 1)])\n",
      "/Users/apple/.pyenv/versions/anaconda3-5.1.0/lib/python3.6/site-packages/tensorboard/compat/tensorflow_stub/dtypes.py:542: FutureWarning: Passing (type, 1) or '1type' as a synonym of type is deprecated; in a future version of numpy, it will be understood as (type, (1,)) / '(1,)type'.\n",
      "  _np_quint8 = np.dtype([(\"quint8\", np.uint8, 1)])\n",
      "/Users/apple/.pyenv/versions/anaconda3-5.1.0/lib/python3.6/site-packages/tensorboard/compat/tensorflow_stub/dtypes.py:543: FutureWarning: Passing (type, 1) or '1type' as a synonym of type is deprecated; in a future version of numpy, it will be understood as (type, (1,)) / '(1,)type'.\n",
      "  _np_qint16 = np.dtype([(\"qint16\", np.int16, 1)])\n",
      "/Users/apple/.pyenv/versions/anaconda3-5.1.0/lib/python3.6/site-packages/tensorboard/compat/tensorflow_stub/dtypes.py:544: FutureWarning: Passing (type, 1) or '1type' as a synonym of type is deprecated; in a future version of numpy, it will be understood as (type, (1,)) / '(1,)type'.\n",
      "  _np_quint16 = np.dtype([(\"quint16\", np.uint16, 1)])\n",
      "/Users/apple/.pyenv/versions/anaconda3-5.1.0/lib/python3.6/site-packages/tensorboard/compat/tensorflow_stub/dtypes.py:545: FutureWarning: Passing (type, 1) or '1type' as a synonym of type is deprecated; in a future version of numpy, it will be understood as (type, (1,)) / '(1,)type'.\n",
      "  _np_qint32 = np.dtype([(\"qint32\", np.int32, 1)])\n",
      "/Users/apple/.pyenv/versions/anaconda3-5.1.0/lib/python3.6/site-packages/tensorboard/compat/tensorflow_stub/dtypes.py:550: FutureWarning: Passing (type, 1) or '1type' as a synonym of type is deprecated; in a future version of numpy, it will be understood as (type, (1,)) / '(1,)type'.\n",
      "  np_resource = np.dtype([(\"resource\", np.ubyte, 1)])\n"
     ]
    }
   ],
   "source": [
    "from keras.datasets import mnist\n",
    "(X_train, y_train), (X_test, y_test) = mnist.load_data()"
   ]
  },
  {
   "cell_type": "code",
   "execution_count": 3,
   "metadata": {},
   "outputs": [
    {
     "name": "stdout",
     "output_type": "stream",
     "text": [
      "(60000, 784)\n",
      "(10000, 784)\n"
     ]
    }
   ],
   "source": [
    "X_train = X_train.reshape(-1 , 784)\n",
    "X_test = X_test.reshape(-1 , 784)\n",
    "print(X_train.shape)\n",
    "print(X_test.shape)"
   ]
  },
  {
   "cell_type": "code",
   "execution_count": 4,
   "metadata": {},
   "outputs": [
    {
     "data": {
      "image/png": "[encoded data removed]",
      "text/plain": [
       "<matplotlib.figure.Figure at 0x1348aa9b0>"
      ]
     },
     "metadata": {},
     "output_type": "display_data"
    }
   ],
   "source": [
    "index = 0\n",
    "image = X_train[index].reshape(28,28)\n",
    "plt.imshow(image , \"gray\")\n",
    "plt.title(\"label : {}\".format(y_train[index]))\n",
    "plt.show()"
   ]
  },
  {
   "cell_type": "code",
   "execution_count": 5,
   "metadata": {
    "collapsed": true
   },
   "outputs": [
    {
     "data": {
      "image/png": "[encoded data removed]",
      "text/plain": [
       "<matplotlib.figure.Figure at 0x137631400>"
      ]
     },
     "metadata": {},
     "output_type": "display_data"
    },
    {
     "name": "stdout",
     "output_type": "stream",
     "text": [
      "(28, 28)\n"
     ]
    }
   ],
   "source": [
    "index = 0\n",
    "image = X_train[index].reshape(28,28)\n",
    "image = image.astype(np.float)#float型に変換\n",
    "image -= 105.35 #意図的に負の小数値を作り出してみる\n",
    "plt.imshow(image , \"gray\")\n",
    "plt.title(\"label : {}\".format(y_train[index]))\n",
    "plt.show()\n",
    "print(image.shape)"
   ]
  },
  {
   "cell_type": "code",
   "execution_count": 6,
   "metadata": {},
   "outputs": [
    {
     "name": "stdout",
     "output_type": "stream",
     "text": [
      "1.0\n",
      "0.0\n"
     ]
    }
   ],
   "source": [
    "X_train = X_train.astype(np.float)\n",
    "X_test = X_test.astype(np.float)\n",
    "X_train /= 255\n",
    "X_test /= 255\n",
    "print(X_train.max())#1.0\n",
    "print(X_train.min())#0.0"
   ]
  },
  {
   "cell_type": "code",
   "execution_count": 7,
   "metadata": {},
   "outputs": [
    {
     "name": "stdout",
     "output_type": "stream",
     "text": [
      "(60000,)\n",
      "(60000, 10)\n",
      "float64\n"
     ]
    }
   ],
   "source": [
    "from sklearn.preprocessing import OneHotEncoder\n",
    "enc = OneHotEncoder(handle_unknown='ignore', sparse=False)\n",
    "y_train_one_hot = enc.fit_transform(y_train[:, np.newaxis])\n",
    "y_test_one_hot = enc.transform(y_test[:, np.newaxis])\n",
    "print(y_train.shape) # (60000,)\n",
    "print(y_train_one_hot.shape) # (60000, 10)\n",
    "print(y_train_one_hot.dtype) # float64"
   ]
  },
  {
   "cell_type": "code",
   "execution_count": 8,
   "metadata": {},
   "outputs": [
    {
     "name": "stdout",
     "output_type": "stream",
     "text": [
      "(48000, 784)\n",
      "(12000, 784)\n"
     ]
    }
   ],
   "source": [
    "from sklearn.model_selection import train_test_split\n",
    "X_train , X_val , y_train , y_val = train_test_split(\n",
    "             X_train , y_train_one_hot , test_size = 0.20)\n",
    "print(X_train.shape)\n",
    "print(X_val.shape)"
   ]
  },
  {
   "cell_type": "code",
   "execution_count": 9,
   "metadata": {},
   "outputs": [],
   "source": [
    "class GetMiniBatch:\n",
    "    \"\"\"\n",
    "    ミニバッチを取得するイテレータ\n",
    "\n",
    "    Parameters\n",
    "    ----------\n",
    "    X : 次の形のndarray, shape (n_samples, n_features)\n",
    "      訓練用データ\n",
    "    y : 次の形のndarray, shape (n_samples, 1)\n",
    "      正解値\n",
    "    batch_size : int\n",
    "      バッチサイズ\n",
    "    seed : int\n",
    "      NumPyの乱数のシード\n",
    "    \"\"\"\n",
    "    def __init__(self, X, y, batch_size = 20, seed=0):\n",
    "        self.batch_size = batch_size\n",
    "        np.random.seed(seed)\n",
    "        shuffle_index = np.random.permutation(np.arange(X.shape[0]))\n",
    "        self._X = X[shuffle_index]\n",
    "        self._y = y[shuffle_index]\n",
    "        self._stop = np.ceil(X.shape[0]/self.batch_size).astype(np.int)\n",
    "\n",
    "    def __len__(self):\n",
    "        return self._stop\n",
    "\n",
    "    def __getitem__(self,item):\n",
    "        p0 = item*self.batch_size\n",
    "        p1 = item*self.batch_size + self.batch_size\n",
    "        return self._X[p0:p1], self._y[p0:p1]        \n",
    "\n",
    "    def __iter__(self):\n",
    "        self._counter = 0\n",
    "        return self\n",
    "\n",
    "    def __next__(self):\n",
    "        if self._counter >= self._stop:\n",
    "            raise StopIteration()\n",
    "        p0 = self._counter*self.batch_size\n",
    "        p1 = self._counter*self.batch_size + self.batch_size\n",
    "        self._counter += 1\n",
    "        return self._X[p0:p1], self._y[p0:p1]"
   ]
  },
  {
   "cell_type": "code",
   "execution_count": 10,
   "metadata": {},
   "outputs": [],
   "source": [
    "get_mini_batch = GetMiniBatch(X_train, y_train, batch_size=20)\n",
    "\n",
    "for mini_X_train, mini_y_train in get_mini_batch:\n",
    "    # このfor文内でミニバッチが使える\n",
    "    pass"
   ]
  },
  {
   "cell_type": "code",
   "execution_count": 11,
   "metadata": {},
   "outputs": [],
   "source": [
    "class XavierInitializer():\n",
    "    def __init__(self, filter_num,filter_size):\n",
    "        self.n_nodes1 = filter_num\n",
    "        self.n_nodes2 = filter_size        \n",
    "    \n",
    "    def W(self):\n",
    "        sigma = np.sqrt(1.0 / 1.0)\n",
    "        self.W = sigma * np.random.randn(self.filter_num, self.filter_size)\n",
    "        return self.W\n",
    "    \n",
    "    def B(self):\n",
    "        sigma = np.sqrt(1.0 / 1.0)\n",
    "        self.B = sigma * np.random.randn(self.filter_num)\n",
    "        return self.B"
   ]
  },
  {
   "cell_type": "code",
   "execution_count": 12,
   "metadata": {},
   "outputs": [],
   "source": [
    "class AdaGrad():\n",
    "    def __init__(self , lr):\n",
    "        self.lr = lr\n",
    "        self.hw = None\n",
    "        self.hb = None\n",
    "    \n",
    "    def update(self , layer):\n",
    "#         layer.W = self.W\n",
    "#         layer.B = self.B\n",
    "#         layer.dW = self.dW\n",
    "#         layer.dB = self.dB\n",
    "        \n",
    "        layer.hw += (layer.dW) * (layer.dW)\n",
    "        layer.W -= self.lr * (layer.dW) / (np.sqrt(layer.hw) + 1e-7)\n",
    "        layer.hb += (layer.dB) * (layer.dB)\n",
    "        layer.B -= self.lr * (layer.dB) / (np.sqrt(layer.hb) + 1e-7)\n",
    "        self.hw = layer.hw\n",
    "        self.hb = layer.hb\n",
    "        return layer.W, layer.B"
   ]
  },
  {
   "cell_type": "code",
   "execution_count": 13,
   "metadata": {},
   "outputs": [],
   "source": [
    "class SimpleConv1d():\n",
    "    def __init__(self,filter_num,filter_size,lr = 0.01,initializer=XavierInitializer,optimizer=AdaGrad(lr = 0.01),stride=1,pad=0,sigma=0.01):\n",
    "        self.optimizer = optimizer\n",
    "        self.initializer = initializer\n",
    "        self.filter_num = filter_num\n",
    "        self.filter_size = filter_size\n",
    "        self.stride = stride\n",
    "        self.sigma = sigma\n",
    "        self.pad = pad\n",
    "        # 初期化\n",
    "        # initializerのメソッドを使い、self.Wとself.Bを初期化する\n",
    "#         self.W = self.initializer.W(self. filter_num, self.filter_size)\n",
    "#         self.B = self.initializer.B(self.filter_num)\n",
    "        self.W = np.array([3, 5, 7]).astype(np.float)\n",
    "        self.B = np.array([1]).astype(np.float)\n",
    "        self.A_list = []\n",
    "        self.N_out = None\n",
    "        self.dW_list = []\n",
    "        self.dB_list = []\n",
    "        (self.filter_num+2*self.pad-self.filter_size)//self.stride + 1\n",
    "        self.lr = lr\n",
    "        self.hw = 0\n",
    "        self.hb = 0\n",
    "        \n",
    "    def forward(self, X):\n",
    "        self.X = X\n",
    "        self.n_iter =   int(self.X.shape[0] - self.W.shape[0]/self.stride + 1)\n",
    "        self.X_index = np.arange(self.W.shape[0])\n",
    "        for i in range(self.n_iter):\n",
    "            self.A = np.dot(self.X[self.X_index+i] , self.W) + self.B\n",
    "            self.A_list = np.append(self.A_list,self.A)\n",
    "        return self.A_list\n",
    "    def backward(self , dA):\n",
    "        self.X_index2 = np.arange(dA.shape[0])\n",
    "        self.n_iter2 = int(self.X.shape[0] - dA.shape[0]//self.stride + 1)\n",
    "        for i in range(dA.shape[0]):\n",
    "            self.dW_list = []\n",
    "            self.dB_list = []\n",
    "            self.dB = np.sum(dA)\n",
    "            self.dB_list.append(self.dB)\n",
    "            for k in range(self.n_iter2):\n",
    "                self.dW = np.dot(self.X[self.X_index2+k].T , dA)\n",
    "                self.dW_list.append(self.dW)     \n",
    "            for j in range(self.filter_size-1):\n",
    "#                 if j-self.stride < 0 or j-self.stride > self.N_out-1:\n",
    "                dZ=np.zeros(self.X.shape[0])\n",
    "                for i in range(dA.shape[0]):\n",
    "                    dZ[i:i+self.filter_size]+=self.W*dA[i]\n",
    "\n",
    "        # 更新\n",
    "        print(self.dB_list)\n",
    "        print(self.dW_list)\n",
    "        self = self.optimizer.update(self)\n",
    "        return dZ\n",
    "    \n",
    "        def N_out(self):\n",
    "            return  (self.filter_num[1]+2*self.pad-self.filter_size[2])//self.stride + 1"
   ]
  },
  {
   "cell_type": "code",
   "execution_count": 14,
   "metadata": {},
   "outputs": [],
   "source": [
    "class SimpleInitializer():\n",
    "\n",
    "    def __init__(self, sigma):\n",
    "        self.sigma = sigma\n",
    "    def W(self, filter_num, filter_size):\n",
    "        W = self.sigma * np.random.randn(filter_num , filter_size)\n",
    "        \n",
    "        return W\n",
    "    def B(self, filter_size):\n",
    "        B = self.sigma * np.random.randn(filter_size)\n",
    "        \n",
    "        return B"
   ]
  },
  {
   "cell_type": "code",
   "execution_count": 15,
   "metadata": {},
   "outputs": [],
   "source": [
    "class XavierInitializer():\n",
    "    def __init__(self, filter_num,filter_size):\n",
    "        self.filter_num = filter_num\n",
    "        self.filter_size = filter_size        \n",
    "    \n",
    "    def W(self):\n",
    "        sigma = np.sqrt(1.0 / 1.0)\n",
    "        self.W = sigma * np.random.randn(self.filter_num, self.filter_size)\n",
    "        return self.W\n",
    "    \n",
    "    def B(self):\n",
    "        sigma = np.sqrt(1.0 / 1.0)\n",
    "        self.B = sigma * np.random.randn(self.filter_num)\n",
    "        return self.B"
   ]
  },
  {
   "cell_type": "code",
   "execution_count": 16,
   "metadata": {},
   "outputs": [],
   "source": [
    "class HeInitializer():\n",
    "    def __init__(self,filter_num,filter_size):\n",
    "        self.filter_num = filter_num\n",
    "        self.filter_size = filter_size\n",
    "    \n",
    "    def W(self):\n",
    "        sigma =  np.sqrt(2.0 / 1.0)\n",
    "        self.W = sigma * np.random.randn(self.filter_num, self.filter_size)\n",
    "        return self.W\n",
    "    \n",
    "    def B(self):\n",
    "        sigma =  np.sqrt(2.0 / 1.0)\n",
    "        self.W = sigma * np.random.randn(self.filter_num)\n",
    "        return self.B"
   ]
  },
  {
   "cell_type": "code",
   "execution_count": 17,
   "metadata": {},
   "outputs": [],
   "source": [
    "class SGD():\n",
    "    def __init__(self, lr):\n",
    "        self.lr = lr\n",
    "    def update(self, layer):\n",
    "        \n",
    "        layer.W -= self.lr * layer.dW\n",
    "        layer.B -= self.lr * layer.dB\n",
    "        return layer.W , layer.B"
   ]
  },
  {
   "cell_type": "code",
   "execution_count": 18,
   "metadata": {},
   "outputs": [],
   "source": [
    "class SoftmaxWithLoss():\n",
    "    def __init__(self):\n",
    "        self.loss = None\n",
    "        self.y = None\n",
    "        \n",
    "        \n",
    "    def forward(self , x):\n",
    "        if x.ndim == 2:\n",
    "            x = x.T\n",
    "            x = x - np.max(x, axis=0)\n",
    "            y = np.exp(x) / np.sum(np.exp(x), axis=0)\n",
    "            return y.T\n",
    "        x = x - np.max(x)\n",
    "        return np.exp(x) / np.sum(np.exp(x))\n",
    "    \n",
    "    def backward(self , z , y):\n",
    "        self.dA = z - y\n",
    "        return self.dA\n",
    "    \n",
    "    def Loss(self , z , y):\n",
    "        loss =  -np.sum(y * np.log(z) + 1e-7) / y.shape[0]\n",
    "        return loss"
   ]
  },
  {
   "cell_type": "markdown",
   "metadata": {},
   "source": [
    "【問題2】1次元畳み込み後の出力サイズの計算  \n",
    "畳み込みを行うと特徴量の数が変化します。どのように変化するかは以下の数式から求められます。パディングやストライドも含めています。この計算を行う関数を作成してください。\n",
    "\n",
    "\n",
    "$$\n",
    "N_{out} =  \\frac{N_{in}+2P-F}{S} + 1\\\\\n",
    "$$\n",
    "\n",
    "N\n",
    "o\n",
    "u\n",
    "t\n",
    " : 出力のサイズ（特徴量の数）\n",
    "\n",
    "\n",
    "N\n",
    "i\n",
    "n\n",
    " : 入力のサイズ（特徴量の数）\n",
    "\n",
    "\n",
    "P\n",
    " : ある方向へのパディングの数\n",
    "\n",
    "\n",
    "F\n",
    " : フィルタのサイズ\n",
    "\n",
    "\n",
    "S\n",
    " : ストライドのサイズ"
   ]
  },
  {
   "cell_type": "code",
   "execution_count": 19,
   "metadata": {},
   "outputs": [],
   "source": [
    "stride = 1\n",
    "pad = 0\n",
    "filter_size = np.array([3, 5, 7]).shape[0]\n",
    "filter_num = np.array([1,2,3,4]).shape[0]\n",
    "\n",
    "def N_out(filter_num , padding , f_size , stride):\n",
    "    N_out = (filter_num + 2*pad - filter_size)/stride + 1\n",
    "    return N_out"
   ]
  },
  {
   "cell_type": "code",
   "execution_count": 20,
   "metadata": {},
   "outputs": [
    {
     "data": {
      "text/plain": [
       "2.0"
      ]
     },
     "execution_count": 20,
     "metadata": {},
     "output_type": "execute_result"
    }
   ],
   "source": [
    "N_out(filter_num , pad , filter_size , stride)"
   ]
  },
  {
   "cell_type": "markdown",
   "metadata": {},
   "source": [
    "### 【問題3】小さな配列での1次元畳み込み層の実験\n",
    "次に示す小さな配列でフォワードプロパゲーションとバックプロパゲーションが正しく行えているか確認してください。\n",
    "\n",
    "\n",
    "入力x、重みw、バイアスbを次のようにします。"
   ]
  },
  {
   "cell_type": "markdown",
   "metadata": {},
   "source": [
    "フォワードプロパゲーション\n",
    "$$\n",
    "a_i = \\sum_{s=0}^{F-1}x_{(i+s)}w_s+b\n",
    "$$\n",
    "a\n",
    "i\n",
    "  : 出力される配列のi番目の値\n",
    "\n",
    "\n",
    "F\n",
    " : フィルタのサイズ\n",
    "\n",
    "\n",
    "x\n",
    "(\n",
    "i\n",
    "+\n",
    "s\n",
    ")\n",
    " : 入力の配列の(i+s)番目の値\n",
    "\n",
    "\n",
    "w\n",
    "s\n",
    " : 重みの配列のs番目の値\n",
    "\n",
    "\n",
    "b\n",
    " : バイアス項"
   ]
  },
  {
   "cell_type": "code",
   "execution_count": 21,
   "metadata": {},
   "outputs": [
    {
     "data": {
      "text/plain": [
       "(2,)"
      ]
     },
     "execution_count": 21,
     "metadata": {},
     "output_type": "execute_result"
    }
   ],
   "source": [
    "x = np.array([1,2,3,4])\n",
    "w = np.array([3, 5, 7])\n",
    "b = np.array([1])\n",
    "dA = np.array([10, 20])\n",
    "dA.shape"
   ]
  },
  {
   "cell_type": "code",
   "execution_count": 22,
   "metadata": {},
   "outputs": [],
   "source": [
    "s = SimpleConv1d(4,3)"
   ]
  },
  {
   "cell_type": "code",
   "execution_count": 23,
   "metadata": {},
   "outputs": [
    {
     "data": {
      "text/plain": [
       "array([35., 50.])"
      ]
     },
     "execution_count": 23,
     "metadata": {},
     "output_type": "execute_result"
    }
   ],
   "source": [
    "s.forward(x)"
   ]
  },
  {
   "cell_type": "code",
   "execution_count": 24,
   "metadata": {},
   "outputs": [
    {
     "name": "stdout",
     "output_type": "stream",
     "text": [
      "[30]\n",
      "[50, 80, 110]\n"
     ]
    },
    {
     "data": {
      "text/plain": [
       "array([ 30., 110., 170., 140.])"
      ]
     },
     "execution_count": 24,
     "metadata": {},
     "output_type": "execute_result"
    }
   ],
   "source": [
    "s.backward(dA)"
   ]
  },
  {
   "cell_type": "code",
   "execution_count": 25,
   "metadata": {},
   "outputs": [],
   "source": [
    "delta_x = np.array([30, 110, 170, 140])"
   ]
  },
  {
   "cell_type": "code",
   "execution_count": 27,
   "metadata": {},
   "outputs": [
    {
     "ename": "ValueError",
     "evalue": "shapes (2,) and (3,) not aligned: 2 (dim 0) != 3 (dim 0)",
     "output_type": "error",
     "traceback": [
      "\u001b[0;31m---------------------------------------------------------------------------\u001b[0m",
      "\u001b[0;31mValueError\u001b[0m                                Traceback (most recent call last)",
      "\u001b[0;32m<ipython-input-27-2377965c4fde>\u001b[0m in \u001b[0;36m<module>\u001b[0;34m()\u001b[0m\n\u001b[1;32m     10\u001b[0m             \u001b[0mz_list\u001b[0m\u001b[0;34m.\u001b[0m\u001b[0mappend\u001b[0m\u001b[0;34m(\u001b[0m\u001b[0mz\u001b[0m\u001b[0;34m)\u001b[0m\u001b[0;34m\u001b[0m\u001b[0m\n\u001b[1;32m     11\u001b[0m         \u001b[0;32melse\u001b[0m\u001b[0;34m:\u001b[0m\u001b[0;34m\u001b[0m\u001b[0m\n\u001b[0;32m---> 12\u001b[0;31m             \u001b[0mz\u001b[0m \u001b[0;34m=\u001b[0m \u001b[0mnp\u001b[0m\u001b[0;34m.\u001b[0m\u001b[0mdot\u001b[0m\u001b[0;34m(\u001b[0m\u001b[0mdA\u001b[0m \u001b[0;34m,\u001b[0m \u001b[0mW\u001b[0m\u001b[0;34m.\u001b[0m\u001b[0mT\u001b[0m\u001b[0;34m)\u001b[0m\u001b[0;34m\u001b[0m\u001b[0m\n\u001b[0m\u001b[1;32m     13\u001b[0m             \u001b[0mz_list\u001b[0m\u001b[0;34m.\u001b[0m\u001b[0mappend\u001b[0m\u001b[0;34m(\u001b[0m\u001b[0mz\u001b[0m\u001b[0;34m)\u001b[0m\u001b[0;34m\u001b[0m\u001b[0m\n",
      "\u001b[0;32m<__array_function__ internals>\u001b[0m in \u001b[0;36mdot\u001b[0;34m(*args, **kwargs)\u001b[0m\n",
      "\u001b[0;31mValueError\u001b[0m: shapes (2,) and (3,) not aligned: 2 (dim 0) != 3 (dim 0)"
     ]
    }
   ],
   "source": [
    "N_out = 2\n",
    "z_list = []\n",
    "dA = np.array([10, 20])\n",
    "X = np.array([1,2,3,4])\n",
    "W = np.array([3, 5, 7])\n",
    "for j in range(X.shape[0]):\n",
    "    for s in range(W.shape[0]):\n",
    "        if stride < 0 or j-stride > N_out-1:\n",
    "            z = np.dot(dA , W.T)#zを０にする\n",
    "            z_list.append(z)\n",
    "        else:\n",
    "            z = np.dot(dA , W.T)\n",
    "            z_list.append(z)"
   ]
  },
  {
   "cell_type": "code",
   "execution_count": 28,
   "metadata": {},
   "outputs": [
    {
     "name": "stdout",
     "output_type": "stream",
     "text": [
      "delta_x: [ 30. 110. 170. 140.]\n"
     ]
    }
   ],
   "source": [
    "# delta_x = np.array([30, 110, 170, 140])の導出\n",
    "delta_x = np.array([])\n",
    "for j in range(x.shape[0]):\n",
    "    x_element = 0\n",
    "    for s in range(w.shape[0]):        \n",
    "        if j-s < 0 or j-s > dA.shape[0]-1:\n",
    "            x_element += 0\n",
    "        else:\n",
    "            x_element += dA[j-s]*w[s]\n",
    "    delta_x = np.append(delta_x, x_element)\n",
    "print('delta_x:',delta_x)"
   ]
  },
  {
   "cell_type": "markdown",
   "metadata": {},
   "source": [
    "### 【問題4】チャンネル数を限定しない1次元畳み込み層クラスの作成\n",
    "チャンネル数を1に限定しない1次元畳み込み層のクラスConv1dを作成してください。\n",
    "\n",
    "\n",
    "例えば以下のようなx, w, bがあった場合は、  \n",
    "x = np.array([[1, 2, 3, 4], [2, 3, 4, 5]]) # shape(2, 4)  \n",
    "で、（入力チャンネル数、特徴量数）である。  \n",
    "w = np.ones((3, 2, 3)) # 例の簡略化のため全て1とする。(出力チャンネル数、入力チャンネル数、フィルタサイズ)  \n",
    "である。  \n",
    "b = np.array([1, 2, 3]) # （出力チャンネル数）"
   ]
  },
  {
   "cell_type": "code",
   "execution_count": 29,
   "metadata": {},
   "outputs": [],
   "source": [
    "x = np.array([[1, 2, 3, 4], [2, 3, 4, 5]]) # shape(2, 4)(入力チャンネル数、特徴量数)\n",
    "w = np.ones((3, 2, 3)) # 例の簡略化のため全て1とする。(出力チャンネル数、入力チャンネル数、フィルタサイズ)\n",
    "b = np.array([1, 2, 3]) # （出力チャンネル数）\n",
    "dA = np.array([[9,11],[32,35],[52,56]])"
   ]
  },
  {
   "cell_type": "code",
   "execution_count": 30,
   "metadata": {},
   "outputs": [
    {
     "name": "stdout",
     "output_type": "stream",
     "text": [
      "[[16. 22.]\n",
      " [17. 23.]\n",
      " [18. 24.]]\n"
     ]
    }
   ],
   "source": [
    "X_index = np.arange(W.shape[0])\n",
    "X = np.array([[1, 2, 3, 4], [2, 3, 4, 5]])\n",
    "W = np.ones((3, 2, 3)) \n",
    "B = np.array([1, 2, 3])\n",
    "A_list = []\n",
    "B_list = []\n",
    "for k in range(W.shape[0]):\n",
    "    A_list = []\n",
    "    for j in range(X.shape[0]):\n",
    "        A = 0\n",
    "        for i in range(int(X.shape[1] - W.shape[0]/stride + 1)):\n",
    "            A += np.dot(X[j][X_index+i] , W[k][j])\n",
    "        A_list.append(A)\n",
    "    B_list.append(A_list+B[k])\n",
    "B_list = np.array(B_list)\n",
    "print(B_list)"
   ]
  },
  {
   "cell_type": "code",
   "execution_count": 31,
   "metadata": {},
   "outputs": [],
   "source": [
    "class XavierInitializer_2():\n",
    "    def __init__(self, filter_num,filter_c,filter_size):\n",
    "        self.filter_num = filter_num\n",
    "        self.filter_size = filter_size        \n",
    "    \n",
    "    def W(self):\n",
    "        sigma = np.sqrt(1.0 / 1.0)\n",
    "        self.W = sigma * np.random.randn(self.filter_num,filter_c, self.filter_size)\n",
    "        return self.W\n",
    "    \n",
    "    def B(self):\n",
    "        sigma = np.sqrt(1.0 / 1.0)\n",
    "        self.B = sigma * np.random.randn(self.filter_num)\n",
    "        return self.B"
   ]
  },
  {
   "cell_type": "code",
   "execution_count": 32,
   "metadata": {},
   "outputs": [],
   "source": [
    "class Conv1d():\n",
    "    def __init__(self,filter_num,filter_size,lr = 0.01,initializer=XavierInitializer_2,optimizer=AdaGrad(lr = 0.01),stride=1,pad=0,sigma=0.01):\n",
    "        self.optimizer = optimizer\n",
    "        self.initializer = initializer\n",
    "        self.stride = stride\n",
    "        self.sigma = sigma\n",
    "        self.pad = pad\n",
    "        # 初期化\n",
    "        # initializerのメソッドを使い、self.Wとself.Bを初期化する\n",
    "#         self.W = self.initializer.W(self. filter_num, self.filter_size)\n",
    "#         self.B = self.initializer.B(self.filter_num)\n",
    "        self.W = np.ones((3, 2, 3)).astype(np.float)\n",
    "        self.B = np.array([1, 2, 3]).astype(np.float)\n",
    "        self.filter_num = filter_num.shape\n",
    "        self.filter_num_1 = self.filter_num[0]\n",
    "        self.filter_num_2 = self.filter_num[1]\n",
    "        self.filter_size = filter_size.shape\n",
    "        self.f_size1 = filter_size.shape[0]\n",
    "        self.f_size2 = filter_size.shape[2]\n",
    "        self.n_out = self.N_out()\n",
    "        self.X_index = np.array([np.arange(i , i+self.filter_size[2])for i in range(self.n_out)]).astype(np.int)\n",
    "        \n",
    "        self.A_list = []\n",
    "        self.dW_list = []\n",
    "        self.dB_list = []\n",
    "        self.lr = lr\n",
    "        self.hw = 0\n",
    "        self.hb = 0\n",
    "        \n",
    "    def forward(self , X):\n",
    "        self.X = X\n",
    "#         self.n_iter =   int(self.X.shape[1] - self.W.shape[0]/self.stride + 1)\n",
    "#         self.X_index = np.arange(self.W.shape[0])\n",
    "#         A_list = []\n",
    "#         B_list = []\n",
    "#         for k in range(self.W.shape[0]):\n",
    "#             A_list = []\n",
    "#             for j in range(self.X.shape[0]):\n",
    "#                 self.A = 0\n",
    "#                 for i in range(self.n_iter):\n",
    "#                     self.A += np.dot(self.X[j][X_index+i] , self.W[k][j])\n",
    "#                 A_list.append(self.A)\n",
    "#             B_list.append(A_list+self.B[k])\n",
    "#         B_list = np.array(B_list)\n",
    "\n",
    "        X_col = np.zeros((self.n_out , self.f_size2*self.filter_num_1))\n",
    "        for i in range(self.filter_num_1):\n",
    "            X_col[:self.n_out , i*self.f_size2:i*self.f_size2+self.f_size2] = self.X[i][self.X_index]\n",
    "        \n",
    "        w = self.W.reshape(-1,self.filter_num_1*self.f_size2)\n",
    "        A = (np.dot(X_col , w.T)+self.B).T\n",
    "        return A\n",
    "\n",
    "    def backward(self , dA):\n",
    "        self.X = X\n",
    "        self.n_iter2 = int(self.X.shape[1] - dA.shape[0]//self.stride + 1)\n",
    "        \"\"\"\n",
    "        dB\n",
    "        \"\"\"\n",
    "        self.dB = np.sum(dA , axis=1)\n",
    "        \n",
    "        \"\"\"\n",
    "        dW\n",
    "        \"\"\"\n",
    "        X_col = np.zeros((self.filter_num_1 , self.f_size2*self.n_out))\n",
    "        for i in range(self.filter_num_1):\n",
    "            X_col[:self.n_out,i*self.f_size2:i*self.f_size2+self.f_size2]=self.X[i][self.X_index]\n",
    "        d_w = np.dot(dA , X_col)\n",
    "        self.dW = d_w.reshape(self.f_size1,-1,self.f_size2)\n",
    "        \n",
    "        \"\"\"\n",
    "        dZ\n",
    "        \"\"\"\n",
    "        dZ=np.zeros((2,4))\n",
    "        for i in range(self.filter_num_1):\n",
    "            w_1=self.W.transpose(1,0,2)\n",
    "            X_col=np.dot(w_1[i].T, dA )\n",
    "            for j in range(self.n_out):\n",
    "                dZ[i, j:j+self.f_size2]+=X_col.T[j,:]\n",
    "\n",
    "        # 更新\n",
    "        print(self.dB)\n",
    "        print(self.dW)\n",
    "        self = self.optimizer.update(self)\n",
    "        return dZ\n",
    "    \n",
    "    def N_out(self):\n",
    "        return  (self.filter_num[1]+2*self.pad-self.filter_size[2])//self.stride + 1"
   ]
  },
  {
   "cell_type": "code",
   "execution_count": 33,
   "metadata": {},
   "outputs": [],
   "source": [
    "cnv = Conv1d(X,W)"
   ]
  },
  {
   "cell_type": "code",
   "execution_count": 34,
   "metadata": {},
   "outputs": [
    {
     "data": {
      "text/plain": [
       "array([[16., 22.],\n",
       "       [17., 23.],\n",
       "       [18., 24.]])"
      ]
     },
     "execution_count": 34,
     "metadata": {},
     "output_type": "execute_result"
    }
   ],
   "source": [
    "cnv.forward(X)"
   ]
  },
  {
   "cell_type": "code",
   "execution_count": 35,
   "metadata": {},
   "outputs": [
    {
     "name": "stdout",
     "output_type": "stream",
     "text": [
      "[ 20  67 108]\n",
      "[[[ 31.  51.  71.]\n",
      "  [ 51.  71.  91.]]\n",
      "\n",
      " [[102. 169. 236.]\n",
      "  [169. 236. 303.]]\n",
      "\n",
      " [[164. 272. 380.]\n",
      "  [272. 380. 488.]]]\n"
     ]
    },
    {
     "data": {
      "text/plain": [
       "array([[ 93., 195., 195., 102.],\n",
       "       [ 93., 195., 195., 102.]])"
      ]
     },
     "execution_count": 35,
     "metadata": {},
     "output_type": "execute_result"
    }
   ],
   "source": [
    "cnv.backward(dA)"
   ]
  },
  {
   "cell_type": "markdown",
   "metadata": {},
   "source": [
    "【問題8】学習と推定\n",
    "これまで使ってきたニューラルネットワークの全結合層の一部をConv1dに置き換えてMNISTを学習・推定し、Accuracyを計算してください。\n",
    "\n",
    "\n",
    "出力層だけは全結合層をそのまま使ってください。ただし、チャンネルが複数ある状態では全結合層への入力は行えません。その段階でのチャンネルは1になるようにするか、 平滑化 を行なってください。\n",
    "\n",
    "\n",
    "画像に対しての1次元畳み込みは実用上は行わないことのため、精度は問いません。"
   ]
  },
  {
   "cell_type": "code",
   "execution_count": 36,
   "metadata": {},
   "outputs": [],
   "source": [
    "x = np.array([1,2,3,4])\n",
    "w = np.array([3, 5, 7])\n",
    "b = np.array([1])"
   ]
  },
  {
   "cell_type": "code",
   "execution_count": 37,
   "metadata": {},
   "outputs": [],
   "source": [
    "X = np.array([1, 2, 3, 4]).reshape(1,-1) # shape(2, 4)で、（入力チャンネル数、特徴量数）である。\n",
    "W = np.ones((1, 1, 1)) # 例の簡略化のため全て1とする。(出力チャンネル数、入力チャンネル数、フィルタサイズ)である。\n",
    "b = np.array([1]) # （出力チャンネル数）\n",
    "dA = np.array([[9,11],[32,35],[52,56]])"
   ]
  },
  {
   "cell_type": "code",
   "execution_count": 44,
   "metadata": {},
   "outputs": [],
   "source": [
    "class Conv1d_2():\n",
    "    def __init__(self,filter_num,filter_size,lr = 0.01,initializer=HeInitializer,optimizer=AdaGrad(lr = 0.01),stride=1,pad=0,sigma=0.01):\n",
    "        self.optimizer = optimizer\n",
    "        self.initializer = initializer\n",
    "        self.stride = stride\n",
    "        self.sigma = sigma\n",
    "        self.pad = pad\n",
    "        # 初期化\n",
    "        # initializerのメソッドを使い、self.Wとself.Bを初期化する\n",
    "#         self.W = self.initializer.W(self. filter_num, self.filter_size)\n",
    "#         self.B = self.initializer.B(self.filter_num)\n",
    "        self.W = np.ones((1, 1, 1)).astype(np.float)\n",
    "        self.B = np.array([1]).astype(np.float)\n",
    "        self.filter_num = filter_num.shape\n",
    "        self.filter_num_1 = self.filter_num[0]\n",
    "        self.filter_num_2 = self.filter_num[1]\n",
    "        self.filter_size = filter_size.shape\n",
    "        self.f_size1 = filter_size.shape[0]\n",
    "        self.f_size2 = filter_size.shape[2]\n",
    "        self.n_out = self.N_out()\n",
    "        self.X_index = np.array([np.arange(i , i+self.filter_size[2])for i in range(self.n_out)]).astype(np.int)\n",
    "        \n",
    "        self.A_list = []\n",
    "        self.dW_list = []\n",
    "        self.dB_list = []\n",
    "        self.lr = lr\n",
    "        self.hw = 0\n",
    "        self.hb = 0\n",
    "        \n",
    "    def forward(self , X):\n",
    "        self.X = X\n",
    "#         self.n_iter =   int(self.X.shape[1] - self.W.shape[0]/self.stride + 1)\n",
    "#         self.X_index = np.arange(self.W.shape[0])\n",
    "#         A_list = []\n",
    "#         B_list = []\n",
    "#         for k in range(self.W.shape[0]):\n",
    "#             A_list = []\n",
    "#             for j in range(self.X.shape[0]):\n",
    "#                 self.A = 0\n",
    "#                 for i in range(self.n_iter):\n",
    "#                     self.A += np.dot(self.X[j][X_index+i] , self.W[k][j])\n",
    "#                 A_list.append(self.A)\n",
    "#             B_list.append(A_list+self.B[k])\n",
    "#         B_list = np.array(B_list)\n",
    "\n",
    "        X_col = np.zeros((self.n_out , self.f_size2*self.filter_num_1))\n",
    "        \n",
    "        for i in range(self.filter_num_1):\n",
    "            X_col[:self.n_out , i*self.f_size2:i*self.f_size2+self.f_size2] = self.X[i][self.X_index]\n",
    "        \n",
    "        w = self.W.reshape(-1,self.filter_num_1*self.f_size2)\n",
    "        A = (np.dot(X_col , w.T)+self.B).T\n",
    "        return A\n",
    "\n",
    "    def backward(self , dA):\n",
    "        self.X = X\n",
    "        self.n_iter2 = int(self.X.shape[1] - dA.shape[0]//self.stride + 1)\n",
    "        \"\"\"\n",
    "        dB\n",
    "        \"\"\"\n",
    "        self.dB = np.sum(dA , axis=1)\n",
    "        \n",
    "        \"\"\"\n",
    "        dW\n",
    "        \"\"\"\n",
    "        X_col = np.zeros((self.filter_num_1 , self.f_size2*self.n_out))\n",
    "        for i in range(self.filter_num_1):\n",
    "            X_col[:self.n_out,i*self.f_size2:i*self.f_size2+self.f_size2]=self.X[i][self.X_index]\n",
    "        d_w = np.dot(dA , X_col)\n",
    "        self.dW = d_w.reshape(self.f_size1,-1,self.f_size2)\n",
    "        \n",
    "        \"\"\"\n",
    "        dZ\n",
    "        \"\"\"\n",
    "        dZ=np.zeros((1,4))\n",
    "        for i in range(self.filter_num_1):\n",
    "            w_1=self.W.transpose(1,0,2)\n",
    "            X_col=np.dot(w_1[i].T, dA )\n",
    "            for j in range(self.n_out):\n",
    "                dZ[i, j:j+self.f_size2]+=X_col.T[j,:] \n",
    "\n",
    "        # 更新\n",
    "        print(self.dB)\n",
    "        print(self.dW)\n",
    "        self = self.optimizer.update(self)\n",
    "        return dZ\n",
    "    \n",
    "    def N_out(self):\n",
    "        return  (self.filter_num[1]+2*self.pad-self.filter_size[2])//self.stride + 1"
   ]
  },
  {
   "cell_type": "code",
   "execution_count": 45,
   "metadata": {},
   "outputs": [
    {
     "data": {
      "text/plain": [
       "array([[1., 1., 1., 1.]])"
      ]
     },
     "execution_count": 45,
     "metadata": {},
     "output_type": "execute_result"
    }
   ],
   "source": [
    "cnv = Conv1d_2(X,W)\n",
    "cnv.forward(mini_X_train)"
   ]
  },
  {
   "cell_type": "code",
   "execution_count": 46,
   "metadata": {},
   "outputs": [],
   "source": [
    "batch_size = 20 # バッチサイズ\n",
    "n_features = X_train.shape[1] # 特徴量の数\n",
    "n_nodes1 = 400 # 1層目のノード数\n",
    "n_nodes2 = 200 # 2層目のノード数\n",
    "n_output = 10 # 出力のクラス数（3層目のノード数）\n",
    "sigma = 0.01 # ガウス分布の標準偏差"
   ]
  },
  {
   "cell_type": "code",
   "execution_count": 47,
   "metadata": {},
   "outputs": [],
   "source": [
    "class FC():\n",
    "    \"\"\"\n",
    "    ノード数n_nodes1からn_nodes2への全結合層\n",
    "    Parameters\n",
    "    ----------\n",
    "    n_nodes1 : int\n",
    "      前の層のノード数\n",
    "    n_nodes2 : int\n",
    "      後の層のノード数\n",
    "    initializer : 初期化方法のインスタンス\n",
    "    optimizer : 最適化手法のインスタンス\n",
    "    \"\"\"\n",
    "    def __init__(self, n_nodes1, n_nodes2, initializer, optimizer , sigma=0.01):\n",
    "        self.optimizer = optimizer\n",
    "        self.n_nodes1 = n_nodes1\n",
    "        self.n_nodes2 = n_nodes2\n",
    "        self.initializer = initializer\n",
    "        self.sigma = sigma\n",
    "        # 初期化\n",
    "        # initializerのメソッドを使い、self.Wとself.Bを初期化する\n",
    "        self.W = self.initializer.W(self.n_nodes1 , self.n_nodes2)\n",
    "        self.B = self.initializer.B(self.n_nodes2)\n",
    "        self.X = None\n",
    "        self.dW = None\n",
    "        self.dB = None\n",
    "        self.hw = 0\n",
    "        self.hb = 0\n",
    "        \n",
    "        \n",
    "        \n",
    "#         self.W = self.sigma * self.initializer.W(self.n_nodes1 , self.n_nodes2)\n",
    "#         self.B = self.sigma * self.initializer.B(self.n_nodes2)\n",
    "#         self.W2 = self.sigma * self.initializer.W(self.n_nodes1 , self.n_nodes2)\n",
    "#         self.B2 = self.initializer.B(self.n_nodes2)\n",
    "#         self.W_out = self.sigma * self.initializer.W(self.n_nodes2 , self.n_output)\n",
    "#         self.B_out = self.initializer.B(self.n_output)\n",
    "        \n",
    "    def forward(self, X):\n",
    "        \"\"\"\n",
    "        フォワード\n",
    "        Parameters\n",
    "        ----------\n",
    "        X : 次の形のndarray, shape (batch_size, n_nodes1)\n",
    "            入力\n",
    "        Returns\n",
    "        ----------\n",
    "        A : 次の形のndarray, shape (batch_size, n_nodes2)\n",
    "            出力\n",
    "        \"\"\"   \n",
    "        self.X = X\n",
    "        self.A = np.dot(self.X , self.W) + self.B\n",
    "        \n",
    "        return self.A\n",
    "    def backward(self, dA):\n",
    "        \"\"\"\n",
    "        バックワード\n",
    "        Parameters\n",
    "        ----------\n",
    "        dA : 次の形のndarray, shape (batch_size, n_nodes2)\n",
    "            後ろから流れてきた勾配\n",
    "        Returns\n",
    "        ----------\n",
    "        dZ : 次の形のndarray, shape (batch_size, n_nodes1)\n",
    "            前に流す勾配\n",
    "        \"\"\"\n",
    "        \n",
    "        self.dW = np.dot(self.X.T , dA)\n",
    "        self.dB = np.sum(dA , axis = 0)\n",
    "        dZ = np.dot(dA , self.W.T)\n",
    "        # 更新\n",
    "        self = self.optimizer.update(self)\n",
    "        return dZ"
   ]
  },
  {
   "cell_type": "code",
   "execution_count": 48,
   "metadata": {},
   "outputs": [],
   "source": [
    "class ReLU():\n",
    "    def __init__(self):\n",
    "        self.mask = None\n",
    "        \n",
    "    def forward(self , x):\n",
    "        self.mask = (x <= 0)\n",
    "        self.A = x.copy()\n",
    "        self.A[self.mask] = 0\n",
    "        return self.A\n",
    "        \n",
    "    def backward(self , dA):\n",
    "        dA[self.mask] = 0\n",
    "        dA = dA\n",
    "        return dA"
   ]
  },
  {
   "cell_type": "code",
   "execution_count": 49,
   "metadata": {},
   "outputs": [],
   "source": [
    "class SoftmaxWithLoss():\n",
    "    def __init__(self):\n",
    "        self.loss = None\n",
    "        self.y = None\n",
    "        \n",
    "        \n",
    "    def forward(self , x):\n",
    "        if x.ndim == 2:\n",
    "            x = x.T\n",
    "            x = x - np.max(x, axis=0)\n",
    "            y = np.exp(x) / np.sum(np.exp(x), axis=0)\n",
    "            return y.T\n",
    "        x = x - np.max(x)\n",
    "        return np.exp(x) / np.sum(np.exp(x))\n",
    "    \n",
    "    def backward(self , z , y):\n",
    "        self.dA = z - y\n",
    "        return self.dA\n",
    "    \n",
    "    def Loss(self , z , y):\n",
    "        loss =  -np.sum(y * np.log(z) + 1e-7) / y.shape[0]\n",
    "        return loss"
   ]
  },
  {
   "cell_type": "code",
   "execution_count": 50,
   "metadata": {},
   "outputs": [],
   "source": [
    "class SimpleInitializer():\n",
    "    \"\"\"\n",
    "    ガウス分布によるシンプルな初期化\n",
    "    Parameters\n",
    "    ----------\n",
    "    sigma : float\n",
    "      ガウス分布の標準偏差\n",
    "    \"\"\"\n",
    "    def __init__(self, sigma):\n",
    "        self.sigma = sigma\n",
    "    def W(self, n_nodes1, n_nodes2):\n",
    "        W = self.sigma * np.random.randn(n_nodes1 , n_nodes2)\n",
    "        \n",
    "        return W\n",
    "    def B(self, n_nodes2):\n",
    "        B = self.sigma * np.random.randn(n_nodes2)\n",
    "        \n",
    "        return B"
   ]
  },
  {
   "cell_type": "code",
   "execution_count": 51,
   "metadata": {},
   "outputs": [],
   "source": [
    "class HeInitializer():\n",
    "    def __init__(self,n_nodes1,n_nodes2):\n",
    "        self.n_nodes1 = n_nodes1\n",
    "        self.n_nodes2 = n_nodes2\n",
    "    \n",
    "    def W(self):\n",
    "        sigma =  np.sqrt(2.0 / n_nodes1)\n",
    "        self.W = sigma * np.random.randn(self.n_nodes1, self.n_nodes2)\n",
    "        return self.W\n",
    "    \n",
    "    def B(self):\n",
    "        sigma =  np.sqrt(2.0 / n_nodes1)\n",
    "        self.W = sigma * np.random.randn(self.n_nodes2)\n",
    "        return self.B"
   ]
  },
  {
   "cell_type": "code",
   "execution_count": 52,
   "metadata": {},
   "outputs": [],
   "source": [
    "class ScratchDeepNeuralNetrowkClassifier():\n",
    "\n",
    "    def __init__(self,epochs = 1,lr = 0.001 ,sigma = 0.01,n_nodes1= 400 , n_nodes2 = 200 , n_output = 10 , batch_size = 20, verbose = True):\n",
    "        self.verbose = verbose\n",
    "        self.sigma = sigma\n",
    "        self.n_nodes1 = n_nodes1\n",
    "        self.n_nodes2 = n_nodes2\n",
    "        self.n_output = n_output\n",
    "        n_features = X_train.shape[1]\n",
    "        self.n_features = n_features\n",
    "        self.batch_size = batch_size\n",
    "        self.lr = lr\n",
    "        self.loss = []\n",
    "        self.epochs = epochs\n",
    "\n",
    "\n",
    "    def fit(self, X, y, X_val=None, y_val=None):\n",
    "   \n",
    "        Xavi = HeInitializer(n_nodes1 , n_nodes2)\n",
    "        self.W = Xavi.W()\n",
    "        self.B = Xavi.B()\n",
    "        optimizer = AdaGrad(self.lr)\n",
    "        self.FC1 = FC(self.n_features, self.n_output, SimpleInitializer(self.sigma), optimizer)\n",
    "        self.activation1 = ReLU()\n",
    "        self.FC = Conv1d_2(filter_num=X, filter_size=W,pad=0,  optimizer=AdaGrad(lr=0.01), initializer=HeInitializer)\n",
    "        self.activation = ReLU()\n",
    "        self.FC2 = FC(self.n_nodes1, self.n_nodes2, SimpleInitializer(self.sigma), optimizer)\n",
    "        self.activation2 = ReLU()\n",
    "        self.FC3 = FC(self.n_nodes2, self.n_output, SimpleInitializer(self.sigma), optimizer)\n",
    "        self.activation3 = SoftmaxWithLoss()\n",
    "        \n",
    "        for i in range(self.epochs):\n",
    "            self.get_mini_batch = GetMiniBatch(X_train, y_train, batch_size=20)\n",
    "            for self.mini_X_train, self.mini_y_train in get_mini_batch:\n",
    "                A = self.FC.forward(X)\n",
    "                Z = self.activation.forward(A)\n",
    "                A1 = self.FC1.forward(Z)\n",
    "                Z1 = self.activation3.forward(A1)\n",
    "                \n",
    "                dA1 = self.activation3.backward(Z1 , y) # 交差エントロピー誤差とソフトマックスを合わせている\n",
    "                dZ = self.FC1.backward(dA1)\n",
    "                dA = self.activation.backward(dZ)\n",
    "                self.c_loss = self.activation3.Loss(Z1 , y)\n",
    "            self.loss = np.append(self.loss , self.c_loss)\n",
    "        \n",
    "        if self.verbose:\n",
    "            #verboseをTrueにした際は学習過程などを出力する\n",
    "            print()\n",
    "\n",
    "    def _predict(self, X):\n",
    "        A = self.FC.forward(X)\n",
    "        Z = self.activation.forward(A)\n",
    "        A1 = self.FC1.forward(Z)\n",
    "        Z1 = self.activation3.forward(A1)\n",
    "        self.y_pred = np.argmax(Z1 , axis = 1)\n",
    "        return self.y_pred\n",
    "    \n",
    "    def accuracy(self , X , t):\n",
    "        y_pred = self._predict(X)\n",
    "        return np.sum(y_pred == t) / float(X.shape[0])"
   ]
  },
  {
   "cell_type": "code",
   "execution_count": 53,
   "metadata": {},
   "outputs": [],
   "source": [
    "dnn = ScratchDeepNeuralNetrowkClassifier(epochs = 10 , lr = 1e-3)"
   ]
  },
  {
   "cell_type": "code",
   "execution_count": 54,
   "metadata": {},
   "outputs": [
    {
     "name": "stdout",
     "output_type": "stream",
     "text": [
      "\n"
     ]
    }
   ],
   "source": [
    "dnn.fit(X_train[0].reshape(1,-1), y_train[0].reshape(1,-1), X_test[0].reshape(1,-1), y_test[0].reshape(1,-1))"
   ]
  },
  {
   "cell_type": "code",
   "execution_count": 55,
   "metadata": {},
   "outputs": [
    {
     "data": {
      "image/png": "[encoded data removed]",
      "text/plain": [
       "<matplotlib.figure.Figure at 0x135838f60>"
      ]
     },
     "metadata": {},
     "output_type": "display_data"
    }
   ],
   "source": [
    "plt.plot(np.arange(1 , len(dnn.loss) + 1) , dnn.loss , label = \"loss\")\n",
    "# plt.plot(np.arange(1 , len(slr.val_loss) + 1) , slr.val_loss , label = \"test_loss\")\n",
    "plt.title(\"model loss\")\n",
    "plt.xlabel(\"iter\")\n",
    "plt.ylabel(\"loss\")\n",
    "plt.legend(\"train_loss\")\n",
    "plt.show()"
   ]
  },
  {
   "cell_type": "code",
   "execution_count": 56,
   "metadata": {},
   "outputs": [
    {
     "data": {
      "text/plain": [
       "array([9])"
      ]
     },
     "execution_count": 56,
     "metadata": {},
     "output_type": "execute_result"
    }
   ],
   "source": [
    "dnn._predict(X_test)"
   ]
  },
  {
   "cell_type": "code",
   "execution_count": 57,
   "metadata": {},
   "outputs": [
    {
     "data": {
      "text/plain": [
       "0.1009"
      ]
     },
     "execution_count": 57,
     "metadata": {},
     "output_type": "execute_result"
    }
   ],
   "source": [
    "dnn.accuracy(X_test,y_test)"
   ]
  },
  {
   "cell_type": "code",
   "execution_count": null,
   "metadata": {},
   "outputs": [],
   "source": []
  }
 ],
 "metadata": {
  "kernelspec": {
   "display_name": "Python 3",
   "language": "python",
   "name": "python3"
  },
  "language_info": {
   "codemirror_mode": {
    "name": "ipython",
    "version": 3
   },
   "file_extension": ".py",
   "mimetype": "text/x-python",
   "name": "python",
   "nbconvert_exporter": "python",
   "pygments_lexer": "ipython3",
   "version": "3.6.4"
  }
 },
 "nbformat": 4,
 "nbformat_minor": 2
}
