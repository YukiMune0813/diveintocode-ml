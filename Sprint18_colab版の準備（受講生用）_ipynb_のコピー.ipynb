{
  "nbformat": 4,
  "nbformat_minor": 0,
  "metadata": {
    "colab": {
      "name": "Sprint18_colab版の準備（受講生用）.ipynb  のコピー",
      "provenance": [],
      "collapsed_sections": [],
      "toc_visible": true
    },
    "kernelspec": {
      "name": "python3",
      "display_name": "Python 3"
    },
    "accelerator": "GPU"
  },
  "cells": [
    {
      "cell_type": "code",
      "metadata": {
        "id": "Wdn9jTnIrHW7",
        "colab_type": "code",
        "outputId": "5730070a-36f6-433d-8928-0255be36c019",
        "colab": {
          "base_uri": "https://localhost:8080/",
          "height": 80
        }
      },
      "source": [
        "import tensorflow"
      ],
      "execution_count": 1,
      "outputs": [
        {
          "output_type": "display_data",
          "data": {
            "text/html": [
              "<p style=\"color: red;\">\n",
              "The default version of TensorFlow in Colab will soon switch to TensorFlow 2.x.<br>\n",
              "We recommend you <a href=\"https://www.tensorflow.org/guide/migrate\" target=\"_blank\">upgrade</a> now \n",
              "or ensure your notebook will continue to use TensorFlow 1.x via the <code>%tensorflow_version 1.x</code> magic:\n",
              "<a href=\"https://colab.research.google.com/notebooks/tensorflow_version.ipynb\" target=\"_blank\">more info</a>.</p>\n"
            ],
            "text/plain": [
              "<IPython.core.display.HTML object>"
            ]
          },
          "metadata": {
            "tags": []
          }
        }
      ]
    },
    {
      "cell_type": "code",
      "metadata": {
        "id": "AuSdSYe4rN9o",
        "colab_type": "code",
        "outputId": "c9bef9f9-ccf1-4272-e0f4-1a67e6a366a4",
        "colab": {
          "base_uri": "https://localhost:8080/",
          "height": 34
        }
      },
      "source": [
        "tensorflow.VERSION"
      ],
      "execution_count": 3,
      "outputs": [
        {
          "output_type": "execute_result",
          "data": {
            "text/plain": [
              "'1.15.0'"
            ]
          },
          "metadata": {
            "tags": []
          },
          "execution_count": 3
        }
      ]
    },
    {
      "cell_type": "code",
      "metadata": {
        "id": "5Zo958VcYK7D",
        "colab_type": "code",
        "outputId": "8c17d013-dd8c-4904-bafa-4e17d215e09f",
        "colab": {
          "base_uri": "https://localhost:8080/",
          "height": 224
        }
      },
      "source": [
        "!pip install kaggle"
      ],
      "execution_count": 4,
      "outputs": [
        {
          "output_type": "stream",
          "text": [
            "Requirement already satisfied: kaggle in /usr/local/lib/python3.6/dist-packages (1.5.6)\n",
            "Requirement already satisfied: certifi in /usr/local/lib/python3.6/dist-packages (from kaggle) (2019.11.28)\n",
            "Requirement already satisfied: tqdm in /usr/local/lib/python3.6/dist-packages (from kaggle) (4.38.0)\n",
            "Requirement already satisfied: requests in /usr/local/lib/python3.6/dist-packages (from kaggle) (2.21.0)\n",
            "Requirement already satisfied: python-slugify in /usr/local/lib/python3.6/dist-packages (from kaggle) (4.0.0)\n",
            "Requirement already satisfied: urllib3<1.25,>=1.21.1 in /usr/local/lib/python3.6/dist-packages (from kaggle) (1.24.3)\n",
            "Requirement already satisfied: python-dateutil in /usr/local/lib/python3.6/dist-packages (from kaggle) (2.8.1)\n",
            "Requirement already satisfied: six>=1.10 in /usr/local/lib/python3.6/dist-packages (from kaggle) (1.12.0)\n",
            "Requirement already satisfied: idna<2.9,>=2.5 in /usr/local/lib/python3.6/dist-packages (from requests->kaggle) (2.8)\n",
            "Requirement already satisfied: chardet<3.1.0,>=3.0.2 in /usr/local/lib/python3.6/dist-packages (from requests->kaggle) (3.0.4)\n",
            "Requirement already satisfied: text-unidecode>=1.3 in /usr/local/lib/python3.6/dist-packages (from python-slugify->kaggle) (1.3)\n"
          ],
          "name": "stdout"
        }
      ]
    },
    {
      "cell_type": "code",
      "metadata": {
        "id": "NmusYUjgX5Rf",
        "colab_type": "code",
        "outputId": "1279e2f2-16e6-444c-ebef-621841a1a86a",
        "colab": {
          "base_uri": "https://localhost:8080/",
          "height": 122
        }
      },
      "source": [
        "# 自分のマイドライブにマウントする\n",
        "\n",
        "from google.colab import drive\n",
        "drive.mount('/content/drive/')"
      ],
      "execution_count": 5,
      "outputs": [
        {
          "output_type": "stream",
          "text": [
            "Go to this URL in a browser: https://accounts.google.com/o/oauth2/auth?client_id=947318989803-6bn6qk8qdgf4n4g3pfee6491hc0brc4i.apps.googleusercontent.com&redirect_uri=urn%3aietf%3awg%3aoauth%3a2.0%3aoob&response_type=code&scope=email%20https%3a%2f%2fwww.googleapis.com%2fauth%2fdocs.test%20https%3a%2f%2fwww.googleapis.com%2fauth%2fdrive%20https%3a%2f%2fwww.googleapis.com%2fauth%2fdrive.photos.readonly%20https%3a%2f%2fwww.googleapis.com%2fauth%2fpeopleapi.readonly\n",
            "\n",
            "Enter your authorization code:\n",
            "··········\n",
            "Mounted at /content/drive/\n"
          ],
          "name": "stdout"
        }
      ]
    },
    {
      "cell_type": "code",
      "metadata": {
        "id": "Lz94s0BqX50p",
        "colab_type": "code",
        "colab": {}
      },
      "source": [
        "mkdir .kaggle"
      ],
      "execution_count": 0,
      "outputs": []
    },
    {
      "cell_type": "code",
      "metadata": {
        "id": "FIDNAHozT9gc",
        "colab_type": "code",
        "colab": {}
      },
      "source": [
        ""
      ],
      "execution_count": 0,
      "outputs": []
    },
    {
      "cell_type": "code",
      "metadata": {
        "id": "QOb2_xktYC8f",
        "colab_type": "code",
        "outputId": "c1edc8fa-227f-47fb-abee-2b16d2954c4b",
        "colab": {
          "base_uri": "https://localhost:8080/",
          "height": 34
        }
      },
      "source": [
        "ls -a"
      ],
      "execution_count": 0,
      "outputs": [
        {
          "output_type": "stream",
          "text": [
            "\u001b[0m\u001b[01;34m.\u001b[0m/  \u001b[01;34m..\u001b[0m/  \u001b[01;34m.config\u001b[0m/  \u001b[01;34mdrive\u001b[0m/  \u001b[01;34m.kaggle\u001b[0m/  \u001b[01;34msample_data\u001b[0m/\n"
          ],
          "name": "stdout"
        }
      ]
    },
    {
      "cell_type": "code",
      "metadata": {
        "id": "8oXwgTW8Ctl8",
        "colab_type": "code",
        "colab": {}
      },
      "source": [
        "#cd drive/\"My Drive\""
      ],
      "execution_count": 0,
      "outputs": []
    },
    {
      "cell_type": "markdown",
      "metadata": {
        "id": "51z4ApjkC_b7",
        "colab_type": "text"
      },
      "source": [
        "# New Section"
      ]
    },
    {
      "cell_type": "code",
      "metadata": {
        "id": "UbrlwyoYayv7",
        "colab_type": "code",
        "colab": {}
      },
      "source": [
        "# https://www.kaggle.com/　へアクセスし、ログイン後に右上のプロフィール画像をクリック、さらに\"My Account\"をクリックする\n",
        "# このサイトの「API」項目にある\"Create New API Token\"をクリックすると、kaggle.jsonファイルが自動的にダウンロードされる\n",
        "# ローカルで、kaggle.json（ダウンロードフォルダにあるはず）をエディターで開く。\n",
        "# このセルの以下のコードにある token = {'username':'***','key':'***'} における「***」部分を、\n",
        "# ダウンロードしたkaggle.jsonを参照して書き換え、このセルを実行する\n",
        "\n",
        "import json\n",
        "\n",
        "token = {\"username\":\"yukimune\",\"key\":\"5ec8e00a37ab8adfd64795b0765af6e8\"}\n",
        "with open('/content/.kaggle/kaggle.json', 'w') as file:\n",
        "    json.dump(token, file)"
      ],
      "execution_count": 0,
      "outputs": []
    },
    {
      "cell_type": "code",
      "metadata": {
        "id": "fGVfODKNc2ua",
        "colab_type": "code",
        "colab": {}
      },
      "source": [
        ""
      ],
      "execution_count": 0,
      "outputs": []
    },
    {
      "cell_type": "markdown",
      "metadata": {
        "id": "GkH8X9muTYS7",
        "colab_type": "text"
      },
      "source": [
        "# 新しいセクション"
      ]
    },
    {
      "cell_type": "code",
      "metadata": {
        "id": "c0YHd6LcbSJn",
        "colab_type": "code",
        "colab": {}
      },
      "source": [
        "!chmod 600 /content/.kaggle/kaggle.json"
      ],
      "execution_count": 0,
      "outputs": []
    },
    {
      "cell_type": "code",
      "metadata": {
        "id": "9TgiYOStY72u",
        "colab_type": "code",
        "outputId": "c6a7ebf1-22a7-4f9e-a7c6-00e1ab5de7b4",
        "colab": {
          "base_uri": "https://localhost:8080/",
          "height": 34
        }
      },
      "source": [
        "pwd"
      ],
      "execution_count": 0,
      "outputs": [
        {
          "output_type": "execute_result",
          "data": {
            "text/plain": [
              "'/content'"
            ]
          },
          "metadata": {
            "tags": []
          },
          "execution_count": 11
        }
      ]
    },
    {
      "cell_type": "code",
      "metadata": {
        "id": "zfXmDOAcOh2K",
        "colab_type": "code",
        "outputId": "885dee52-6620-4c43-fa13-8c64c5b6f9f7",
        "colab": {
          "base_uri": "https://localhost:8080/",
          "height": 34
        }
      },
      "source": [
        "ls"
      ],
      "execution_count": 0,
      "outputs": [
        {
          "output_type": "stream",
          "text": [
            "\u001b[0m\u001b[01;34mdrive\u001b[0m/  \u001b[01;34msample_data\u001b[0m/\n"
          ],
          "name": "stdout"
        }
      ]
    },
    {
      "cell_type": "code",
      "metadata": {
        "id": "UYHvHU68PFsL",
        "colab_type": "code",
        "outputId": "98aa7920-5a7d-4c0d-e8d2-c39d603ae9f6",
        "colab": {
          "base_uri": "https://localhost:8080/",
          "height": 34
        }
      },
      "source": [
        "ls .kaggle"
      ],
      "execution_count": 0,
      "outputs": [
        {
          "output_type": "stream",
          "text": [
            "kaggle.json\n"
          ],
          "name": "stdout"
        }
      ]
    },
    {
      "cell_type": "code",
      "metadata": {
        "id": "67WCst_X0Qjt",
        "colab_type": "code",
        "colab": {
          "base_uri": "https://localhost:8080/",
          "height": 34
        },
        "outputId": "4b0ceb69-934e-4c92-f046-5f1426525f25"
      },
      "source": [
        "mkdir　/root/.kaggle/"
      ],
      "execution_count": 10,
      "outputs": [
        {
          "output_type": "stream",
          "text": [
            "mkdir: cannot create directory ‘/root/.kaggle/’: File exists\n"
          ],
          "name": "stdout"
        }
      ]
    },
    {
      "cell_type": "code",
      "metadata": {
        "id": "2E9gx_jSa9tJ",
        "colab_type": "code",
        "colab": {}
      },
      "source": [
        "!cp -R /content/.kaggle/kaggle.json /root/.kaggle/"
      ],
      "execution_count": 0,
      "outputs": []
    },
    {
      "cell_type": "code",
      "metadata": {
        "id": "-QKa7HD1bUcC",
        "colab_type": "code",
        "outputId": "563c3f0b-fac1-4181-e969-6370ddaee2fc",
        "colab": {
          "base_uri": "https://localhost:8080/",
          "height": 34
        }
      },
      "source": [
        "!ls -a /root/.kaggle/"
      ],
      "execution_count": 12,
      "outputs": [
        {
          "output_type": "stream",
          "text": [
            ".  ..  kaggle.json\n"
          ],
          "name": "stdout"
        }
      ]
    },
    {
      "cell_type": "code",
      "metadata": {
        "id": "ADlTo5WyxveO",
        "colab_type": "code",
        "outputId": "89d42216-3773-405b-8d8c-9959a22be972",
        "colab": {
          "base_uri": "https://localhost:8080/",
          "height": 428
        }
      },
      "source": [
        "# kaggle APIコマンドが使えるかどうかを確認\n",
        "!kaggle competitions list"
      ],
      "execution_count": 13,
      "outputs": [
        {
          "output_type": "stream",
          "text": [
            "Warning: Looks like you're using an outdated API Version, please consider updating (server 1.5.6 / client 1.5.4)\n",
            "ref                                               deadline             category             reward  teamCount  userHasEntered  \n",
            "------------------------------------------------  -------------------  ---------------  ----------  ---------  --------------  \n",
            "digit-recognizer                                  2030-01-01 00:00:00  Getting Started   Knowledge       2209           False  \n",
            "titanic                                           2030-01-01 00:00:00  Getting Started   Knowledge      16697            True  \n",
            "house-prices-advanced-regression-techniques       2030-01-01 00:00:00  Getting Started   Knowledge       4555            True  \n",
            "connectx                                          2030-01-01 00:00:00  Getting Started   Knowledge        333           False  \n",
            "nlp-getting-started                               2030-01-01 00:00:00  Getting Started       Kudos       3716           False  \n",
            "competitive-data-science-predict-future-sales     2020-12-31 23:59:00  Playground            Kudos       6042           False  \n",
            "m5-forecasting-accuracy                           2020-06-30 23:59:00  Featured            $50,000       1271           False  \n",
            "m5-forecasting-uncertainty                        2020-06-30 23:59:00  Featured            $50,000         60           False  \n",
            "jigsaw-multilingual-toxic-comment-classification  2020-06-22 23:59:00  Featured            $50,000         23           False  \n",
            "tweet-sentiment-extraction                        2020-06-02 23:59:00  Featured            $15,000         16           False  \n",
            "abstraction-and-reasoning-challenge               2020-05-27 23:59:00  Research            $20,000        495            True  \n",
            "imaterialist-fashion-2020-fgvc7                   2020-05-26 23:59:00  Research          Knowledge          1           False  \n",
            "liverpool-ion-switching                           2020-05-25 23:59:00  Research            $25,000       1179            True  \n",
            "flower-classification-with-tpus                   2020-05-11 23:59:00  Playground           Prizes        411           False  \n",
            "iwildcam-2020-fgvc7                               2020-05-11 23:59:00  Research          Knowledge         39           False  \n",
            "herbarium-2020-fgvc7                              2020-05-11 23:59:00  Research          Knowledge         29           False  \n",
            "plant-pathology-2020-fgvc7                        2020-05-11 23:59:00  Research          Knowledge        265           False  \n",
            "march-madness-analytics-2020                      2020-04-30 23:59:00  Analytics           $25,000          0           False  \n",
            "deepfake-detection-challenge                      2020-03-31 23:59:00  Featured         $1,000,000       2199           False  \n",
            "cat-in-the-dat-ii                                 2020-03-31 23:59:00  Playground             Swag       1038           False  \n"
          ],
          "name": "stdout"
        }
      ]
    },
    {
      "cell_type": "code",
      "metadata": {
        "id": "ot7Tqrikc0-W",
        "colab_type": "code",
        "outputId": "e5668a4b-a3c6-4125-d27f-4283e1c7af2c",
        "colab": {
          "base_uri": "https://localhost:8080/",
          "height": 34
        }
      },
      "source": [
        "# カレントディレクトリの変更\n",
        "#強制的に移動する\n",
        "\n",
        "import os\n",
        "\n",
        "os.chdir('/content/drive/My Drive/')\n",
        "\n",
        "# カレントディレクトリの取得\n",
        "print(os.getcwd())"
      ],
      "execution_count": 25,
      "outputs": [
        {
          "output_type": "stream",
          "text": [
            "/content/drive/My Drive\n"
          ],
          "name": "stdout"
        }
      ]
    },
    {
      "cell_type": "code",
      "metadata": {
        "id": "HgnhYH5t2374",
        "colab_type": "code",
        "colab": {}
      },
      "source": [
        "mkdir /content/drive/\"My Drive\"/tgs_train/"
      ],
      "execution_count": 0,
      "outputs": []
    },
    {
      "cell_type": "code",
      "metadata": {
        "id": "UMSVbWABAaLv",
        "colab_type": "code",
        "colab": {}
      },
      "source": [
        "mkdir /content/drive/\"My Drive\"/tgs_test/"
      ],
      "execution_count": 0,
      "outputs": []
    },
    {
      "cell_type": "code",
      "metadata": {
        "id": "jcKtn7i53E3E",
        "colab_type": "code",
        "outputId": "fc218842-bb7e-461c-f812-8e73f30fcb30",
        "colab": {
          "base_uri": "https://localhost:8080/",
          "height": 1000
        }
      },
      "source": [
        "ls"
      ],
      "execution_count": 17,
      "outputs": [
        {
          "output_type": "stream",
          "text": [
            " \u001b[0m\u001b[01;34mれん\u001b[0m/\n",
            " \u001b[01;34mコシ\u001b[0m/\n",
            " \u001b[01;34mパセラ\u001b[0m/\n",
            " \u001b[01;34mクラウド\u001b[0m/\n",
            " \u001b[01;34mジョブ\u001b[0m/\n",
            "'06 アイオクリ.m4a'\n",
            " 「0G9A9785.JPG」のコピー\n",
            " 「0G9A9796.JPG」のコピー\n",
            " \u001b[01;34m2017予定管理\u001b[0m/\n",
            " 2qkou_ver2_toanyoushi_v1.2.pdf\n",
            " 2Qshogyou-soshiage_toanyoushi.pdf\n",
            " 2Qshou-dai4_touan_2018.pdf\n",
            " C583B1F5-B98B-4A3F-AEC9-B2A1F0E3B381.JPG\n",
            "\u001b[01;34m'CDJ 2017~2018_1228'\u001b[0m/\n",
            " CIMG2118.JPG\n",
            "\u001b[01;34m'Colab Notebooks'\u001b[0m/\n",
            " competition_data.zip\n",
            " depths.csv\n",
            "\u001b[01;34m'EGGMAN 2 19'\u001b[0m/\n",
            " \u001b[01;34mfavorite\u001b[0m/\n",
            " flamingo.zip\n",
            "'image1 (1).jpeg'\n",
            " image1.jpeg\n",
            " IMG_3257.JPG\n",
            " 「IMG_3885.JPG」のコピー\n",
            " IMG_3887.JPG\n",
            " IMG_3938.JPG\n",
            " IMG_4021.JPG\n",
            " IMG_4128.JPG\n",
            " IMG_4269.JPG\n",
            " IMG_4275.JPG\n",
            " IMG_4312.JPG\n",
            " IMG_4340.JPG\n",
            " IMG_4499.JPG\n",
            " IMG_4640.JPG\n",
            " IMG_4644.JPG\n",
            " IMG_4656.JPG\n",
            " IMG_4931.JPG\n",
            " IMG_4957.JPG\n",
            " IMG_5059.JPG\n",
            " IMG_5060.JPG\n",
            " IMG_5064.JPG\n",
            " IMG_5072.JPG\n",
            " IMG_5079.JPG\n",
            " IMG_7880.JPG\n",
            " IMG_7881.JPG\n",
            " IMG_8729.JPG\n",
            " IMG_9241.MOV\n",
            " IMG_9590.JPG\n",
            " \u001b[01;34mObjectDetection\u001b[0m/\n",
            " 「PAP_0015.JPG」のコピー\n",
            " PAP_0066.JPG\n",
            " PAP_0080.JPG\n",
            " PAP_0083.JPG\n",
            "'【Pass】宗實優樹_履歴書 20200303.doc'\n",
            " \u001b[01;34mRafting\u001b[0m/\n",
            " sample_submission.csv\n",
            " \u001b[01;34mSimpsons\u001b[0m/\n",
            "'Snowbording 2018.3.10 (1).pdf'\n",
            "'Snowbording 2018.3.10.pdf'\n",
            " Sprint18.ipynb\n",
            " test.zip\n",
            " \u001b[01;34mtgs\u001b[0m/\n",
            " \u001b[01;34mtgs_test\u001b[0m/\n",
            " \u001b[01;34mtgs_train\u001b[0m/\n",
            " the-simpsons-characters-dataset.zip\n",
            " train.csv\n",
            " train.zip\n",
            " \u001b[01;34munet\u001b[0m/\n",
            " \u001b[01;34myukata\u001b[0m/\n",
            " プロフィールシート.zip\n",
            "'【修正中】宗實優樹様_職務経´æ›¸(å®—å¯¦)ã€€20200301 (1).docx'\n",
            " サービス利用_申込書.（宗實）pdf.pdf\n",
            "'宗實優樹_履歴書 20200303.doc'\n",
            "'宗實優樹_履歴書 20200303.pdf'\n",
            " 宗實優樹教師　プロフィル200819.pdf\n",
            " \u001b[01;34m宣材\u001b[0m/\n",
            " エーザイ　志望動機.gdoc\n",
            " \u001b[01;34mわが才\u001b[0m/\n",
            " わが才　Vol.1.docx\n",
            " わが才　Vol.1.gdoc\n",
            "'「わが才 Vol.1.pdf」のコピー.pdf'\n",
            " 招へい経緯書　2018年5月21日.docx\n",
            " 招へい経緯書　2018年5月21日.pdf\n",
            " \u001b[01;34m旅セミナー\u001b[0m/\n",
            " ＃東大院試験情報　宗実.docx\n",
            " \u001b[01;34m株\u001b[0m/\n",
            " \u001b[01;34mお気に入り\u001b[0m/\n",
            " \u001b[01;34m浴衣\u001b[0m/\n",
            " 短眠.pdf\n",
            " \u001b[01;34m米津玄師\u001b[0m/\n",
            " \u001b[01;34m結婚式ベトナム\u001b[0m/\n",
            " \u001b[01;34m行政書士　2019合格\u001b[0m/\n",
            " これからの製薬業界の社員に求められる.pptx\n",
            " これからの製薬業界の社員に求められる.pptx.gslides\n",
            " ヤクルト見どころ.docx\n",
            " \u001b[01;34m起業\u001b[0m/\n",
            "'チャイム音響師になりたい!.pptx'\n"
          ],
          "name": "stdout"
        }
      ]
    },
    {
      "cell_type": "code",
      "metadata": {
        "id": "Erk54BOPbZdd",
        "colab_type": "code",
        "outputId": "ac651c3a-8ca3-49cc-9e1a-1e4e6f696acc",
        "colab": {
          "base_uri": "https://localhost:8080/",
          "height": 153
        }
      },
      "source": [
        "# simpsonデータセットのAPIコマンドでデータセットをダウンロードする\n",
        "# APIコマンドはこちらのサイトを参照。https://www.kaggle.com/alexattia/the-simpsons-characters-dataset\n",
        "\n",
        "!kaggle competitions download -c tgs-salt-identification-challenge"
      ],
      "execution_count": 0,
      "outputs": [
        {
          "output_type": "stream",
          "text": [
            "Warning: Looks like you're using an outdated API Version, please consider updating (server 1.5.6 / client 1.5.4)\n",
            "flamingo.zip: Skipping, found more recently modified local copy (use --force to force download)\n",
            "train.zip: Skipping, found more recently modified local copy (use --force to force download)\n",
            "depths.csv: Skipping, found more recently modified local copy (use --force to force download)\n",
            "competition_data.zip: Skipping, found more recently modified local copy (use --force to force download)\n",
            "train.csv: Skipping, found more recently modified local copy (use --force to force download)\n",
            "test.zip: Skipping, found more recently modified local copy (use --force to force download)\n",
            "sample_submission.csv: Skipping, found more recently modified local copy (use --force to force download)\n"
          ],
          "name": "stdout"
        }
      ]
    },
    {
      "cell_type": "code",
      "metadata": {
        "id": "aT_EoanXb1C2",
        "colab_type": "code",
        "colab": {}
      },
      "source": [
        "!unzip /content/drive/'My Drive'/train.zip  -d tgs_train"
      ],
      "execution_count": 0,
      "outputs": []
    },
    {
      "cell_type": "code",
      "metadata": {
        "id": "pv6VUsiiGuK1",
        "colab_type": "code",
        "colab": {}
      },
      "source": [
        "!unzip /content/drive/'My Drive'/test.zip  -d tgs_test"
      ],
      "execution_count": 0,
      "outputs": []
    },
    {
      "cell_type": "code",
      "metadata": {
        "id": "N7rYrfC9d1wr",
        "colab_type": "code",
        "colab": {}
      },
      "source": [
        "!git clone https://github.com/zhixuhao/unet.git"
      ],
      "execution_count": 0,
      "outputs": []
    },
    {
      "cell_type": "code",
      "metadata": {
        "id": "URsloMb5fjeN",
        "colab_type": "code",
        "colab": {}
      },
      "source": [
        "# https://github.com/duckrabbits/ObjectDetection/tree/master\n",
        "# この後、上述のgithubのreadmeに沿って、simpsons_datasetフォルダをプロジェクトフォルダ配下に格納しましょう。\n",
        "# testデータなども同様に準備してみよう。"
      ],
      "execution_count": 0,
      "outputs": []
    },
    {
      "cell_type": "code",
      "metadata": {
        "id": "SB7nwm6ZBJwB",
        "colab_type": "code",
        "colab": {}
      },
      "source": [
        "# クローンしたUnetが持つデータは不要なので削除する\n",
        "!rm -rf ./unet/data/membrane/train/image/*"
      ],
      "execution_count": 0,
      "outputs": []
    },
    {
      "cell_type": "code",
      "metadata": {
        "id": "MxbvrjioCkYK",
        "colab_type": "code",
        "colab": {}
      },
      "source": [
        "# クローンしたUnetが持つデータは不要なので削除する\n",
        "!rm -rf ./unet/data/membrane/train/label/*"
      ],
      "execution_count": 0,
      "outputs": []
    },
    {
      "cell_type": "code",
      "metadata": {
        "id": "ooVQnwANB42K",
        "colab_type": "code",
        "colab": {}
      },
      "source": [
        "# クローンしたUnetが持つデータは不要なので削除する\n",
        "!rm -rf ./unet/data/membrane/test/*"
      ],
      "execution_count": 0,
      "outputs": []
    },
    {
      "cell_type": "code",
      "metadata": {
        "id": "WK95r0iKEQD4",
        "colab_type": "code",
        "outputId": "7b1514bf-0c80-4efc-c777-1db0f08258eb",
        "colab": {
          "base_uri": "https://localhost:8080/",
          "height": 34
        }
      },
      "source": [
        "# 解答したimagesデータをUnetで使用する為にコピーする\n",
        "!mv ./tgs_train/images/* ./data/membrane/train/image"
      ],
      "execution_count": 0,
      "outputs": [
        {
          "output_type": "stream",
          "text": [
            "mv: cannot stat './tgs_train/images/*': No such file or directory\n"
          ],
          "name": "stdout"
        }
      ]
    },
    {
      "cell_type": "code",
      "metadata": {
        "id": "j2akjo7ZEQK6",
        "colab_type": "code",
        "outputId": "62275e90-671d-42f5-feed-8aebdd53dca9",
        "colab": {
          "base_uri": "https://localhost:8080/",
          "height": 34
        }
      },
      "source": [
        "# 解答したimagesデータをUnetで使用する為にコピーする\n",
        "!mv tgs_train/masks/* ./data/membrane/train/label"
      ],
      "execution_count": 0,
      "outputs": [
        {
          "output_type": "stream",
          "text": [
            "mv: cannot stat './tgs_train/masks/*': No such file or directory\n"
          ],
          "name": "stdout"
        }
      ]
    },
    {
      "cell_type": "code",
      "metadata": {
        "id": "blQM-JSCFxQS",
        "colab_type": "code",
        "colab": {}
      },
      "source": [
        "# 解答したimagesデータをUnetで使用する為にコピーする\n",
        "!mv ./tgs_test/images/* ./data/membrane/test"
      ],
      "execution_count": 0,
      "outputs": []
    },
    {
      "cell_type": "code",
      "metadata": {
        "id": "Ro3s37En2cqD",
        "colab_type": "code",
        "outputId": "010a7b83-a37f-4018-cade-f134783fe144",
        "colab": {
          "base_uri": "https://localhost:8080/",
          "height": 34
        }
      },
      "source": [
        "#pwdで現在地を知る\n",
        "pwd\n"
      ],
      "execution_count": 30,
      "outputs": [
        {
          "output_type": "execute_result",
          "data": {
            "text/plain": [
              "'/content/drive/My Drive/unet/data/membrane/test'"
            ]
          },
          "metadata": {
            "tags": []
          },
          "execution_count": 30
        }
      ]
    },
    {
      "cell_type": "code",
      "metadata": {
        "id": "z3f571cEOMaM",
        "colab_type": "code",
        "colab": {
          "base_uri": "https://localhost:8080/",
          "height": 34
        },
        "outputId": "2ab9d0bc-22c6-4e6c-9c8a-2ec75624bf19"
      },
      "source": [
        "cd ../../../"
      ],
      "execution_count": 31,
      "outputs": [
        {
          "output_type": "stream",
          "text": [
            "/content/drive/My Drive/unet\n"
          ],
          "name": "stdout"
        }
      ]
    },
    {
      "cell_type": "code",
      "metadata": {
        "id": "VYZIQFS58Iik",
        "colab_type": "code",
        "outputId": "3f63cd82-7bcf-428e-c0d8-f3fb2f2e28c4",
        "colab": {
          "base_uri": "https://localhost:8080/",
          "height": 1000
        }
      },
      "source": [
        "#モデルが動くかの確認\n",
        "!python main.py\n"
      ],
      "execution_count": 32,
      "outputs": [
        {
          "output_type": "stream",
          "text": [
            "Using TensorFlow backend.\n",
            "WARNING:tensorflow:From /usr/local/lib/python3.6/dist-packages/keras/backend/tensorflow_backend.py:66: The name tf.get_default_graph is deprecated. Please use tf.compat.v1.get_default_graph instead.\n",
            "\n",
            "WARNING:tensorflow:From /usr/local/lib/python3.6/dist-packages/keras/backend/tensorflow_backend.py:541: The name tf.placeholder is deprecated. Please use tf.compat.v1.placeholder instead.\n",
            "\n",
            "WARNING:tensorflow:From /usr/local/lib/python3.6/dist-packages/keras/backend/tensorflow_backend.py:4479: The name tf.truncated_normal is deprecated. Please use tf.random.truncated_normal instead.\n",
            "\n",
            "WARNING:tensorflow:From /usr/local/lib/python3.6/dist-packages/keras/backend/tensorflow_backend.py:4267: The name tf.nn.max_pool is deprecated. Please use tf.nn.max_pool2d instead.\n",
            "\n",
            "WARNING:tensorflow:From /usr/local/lib/python3.6/dist-packages/keras/backend/tensorflow_backend.py:148: The name tf.placeholder_with_default is deprecated. Please use tf.compat.v1.placeholder_with_default instead.\n",
            "\n",
            "WARNING:tensorflow:From /usr/local/lib/python3.6/dist-packages/keras/backend/tensorflow_backend.py:3733: calling dropout (from tensorflow.python.ops.nn_ops) with keep_prob is deprecated and will be removed in a future version.\n",
            "Instructions for updating:\n",
            "Please use `rate` instead of `keep_prob`. Rate should be set to `rate = 1 - keep_prob`.\n",
            "WARNING:tensorflow:From /usr/local/lib/python3.6/dist-packages/keras/backend/tensorflow_backend.py:2239: The name tf.image.resize_nearest_neighbor is deprecated. Please use tf.compat.v1.image.resize_nearest_neighbor instead.\n",
            "\n",
            "WARNING:tensorflow:From /usr/local/lib/python3.6/dist-packages/keras/backend/tensorflow_backend.py:4432: The name tf.random_uniform is deprecated. Please use tf.random.uniform instead.\n",
            "\n",
            "/content/drive/My Drive/unet/model.py:55: UserWarning: Update your `Model` call to the Keras 2 API: `Model(inputs=Tensor(\"in..., outputs=Tensor(\"co...)`\n",
            "  model = Model(input = inputs, output = conv10)\n",
            "WARNING:tensorflow:From /usr/local/lib/python3.6/dist-packages/keras/optimizers.py:793: The name tf.train.Optimizer is deprecated. Please use tf.compat.v1.train.Optimizer instead.\n",
            "\n",
            "WARNING:tensorflow:From /usr/local/lib/python3.6/dist-packages/keras/backend/tensorflow_backend.py:3657: The name tf.log is deprecated. Please use tf.math.log instead.\n",
            "\n",
            "WARNING:tensorflow:From /tensorflow-1.15.0/python3.6/tensorflow_core/python/ops/nn_impl.py:183: where (from tensorflow.python.ops.array_ops) is deprecated and will be removed in a future version.\n",
            "Instructions for updating:\n",
            "Use tf.where in 2.0, which has the same broadcast rule as np.where\n",
            "WARNING:tensorflow:From /usr/local/lib/python3.6/dist-packages/keras/backend/tensorflow_backend.py:1033: The name tf.assign_add is deprecated. Please use tf.compat.v1.assign_add instead.\n",
            "\n",
            "WARNING:tensorflow:From /usr/local/lib/python3.6/dist-packages/keras/backend/tensorflow_backend.py:1020: The name tf.assign is deprecated. Please use tf.compat.v1.assign instead.\n",
            "\n",
            "WARNING:tensorflow:From /usr/local/lib/python3.6/dist-packages/keras/backend/tensorflow_backend.py:3005: The name tf.Session is deprecated. Please use tf.compat.v1.Session instead.\n",
            "\n",
            "Epoch 1/1\n",
            "Found 807 images belonging to 1 classes.\n",
            "Found 4000 images belonging to 1 classes.\n",
            "WARNING:tensorflow:From /usr/local/lib/python3.6/dist-packages/keras/backend/tensorflow_backend.py:190: The name tf.get_default_session is deprecated. Please use tf.compat.v1.get_default_session instead.\n",
            "\n",
            "WARNING:tensorflow:From /usr/local/lib/python3.6/dist-packages/keras/backend/tensorflow_backend.py:197: The name tf.ConfigProto is deprecated. Please use tf.compat.v1.ConfigProto instead.\n",
            "\n",
            "2020-03-24 11:19:48.491727: I tensorflow/core/platform/profile_utils/cpu_utils.cc:94] CPU Frequency: 2200000000 Hz\n",
            "2020-03-24 11:19:48.491914: I tensorflow/compiler/xla/service/service.cc:168] XLA service 0x1c42bc0 initialized for platform Host (this does not guarantee that XLA will be used). Devices:\n",
            "2020-03-24 11:19:48.491937: I tensorflow/compiler/xla/service/service.cc:176]   StreamExecutor device (0): Host, Default Version\n",
            "2020-03-24 11:19:48.494098: I tensorflow/stream_executor/platform/default/dso_loader.cc:44] Successfully opened dynamic library libcuda.so.1\n",
            "2020-03-24 11:19:48.619452: I tensorflow/stream_executor/cuda/cuda_gpu_executor.cc:983] successful NUMA node read from SysFS had negative value (-1), but there must be at least one NUMA node, so returning NUMA node zero\n",
            "2020-03-24 11:19:48.619973: I tensorflow/compiler/xla/service/service.cc:168] XLA service 0x1c42d80 initialized for platform CUDA (this does not guarantee that XLA will be used). Devices:\n",
            "2020-03-24 11:19:48.620009: I tensorflow/compiler/xla/service/service.cc:176]   StreamExecutor device (0): Tesla P4, Compute Capability 6.1\n",
            "2020-03-24 11:19:48.620182: I tensorflow/stream_executor/cuda/cuda_gpu_executor.cc:983] successful NUMA node read from SysFS had negative value (-1), but there must be at least one NUMA node, so returning NUMA node zero\n",
            "2020-03-24 11:19:48.620571: I tensorflow/core/common_runtime/gpu/gpu_device.cc:1618] Found device 0 with properties: \n",
            "name: Tesla P4 major: 6 minor: 1 memoryClockRate(GHz): 1.1135\n",
            "pciBusID: 0000:00:04.0\n",
            "2020-03-24 11:19:48.620938: I tensorflow/stream_executor/platform/default/dso_loader.cc:44] Successfully opened dynamic library libcudart.so.10.1\n",
            "2020-03-24 11:19:48.622709: I tensorflow/stream_executor/platform/default/dso_loader.cc:44] Successfully opened dynamic library libcublas.so.10\n",
            "2020-03-24 11:19:48.624645: I tensorflow/stream_executor/platform/default/dso_loader.cc:44] Successfully opened dynamic library libcufft.so.10\n",
            "2020-03-24 11:19:48.624991: I tensorflow/stream_executor/platform/default/dso_loader.cc:44] Successfully opened dynamic library libcurand.so.10\n",
            "2020-03-24 11:19:48.626826: I tensorflow/stream_executor/platform/default/dso_loader.cc:44] Successfully opened dynamic library libcusolver.so.10\n",
            "2020-03-24 11:19:48.627517: I tensorflow/stream_executor/platform/default/dso_loader.cc:44] Successfully opened dynamic library libcusparse.so.10\n",
            "2020-03-24 11:19:48.630719: I tensorflow/stream_executor/platform/default/dso_loader.cc:44] Successfully opened dynamic library libcudnn.so.7\n",
            "2020-03-24 11:19:48.630828: I tensorflow/stream_executor/cuda/cuda_gpu_executor.cc:983] successful NUMA node read from SysFS had negative value (-1), but there must be at least one NUMA node, so returning NUMA node zero\n",
            "2020-03-24 11:19:48.631209: I tensorflow/stream_executor/cuda/cuda_gpu_executor.cc:983] successful NUMA node read from SysFS had negative value (-1), but there must be at least one NUMA node, so returning NUMA node zero\n",
            "2020-03-24 11:19:48.631538: I tensorflow/core/common_runtime/gpu/gpu_device.cc:1746] Adding visible gpu devices: 0\n",
            "2020-03-24 11:19:48.631593: I tensorflow/stream_executor/platform/default/dso_loader.cc:44] Successfully opened dynamic library libcudart.so.10.1\n",
            "2020-03-24 11:19:48.632508: I tensorflow/core/common_runtime/gpu/gpu_device.cc:1159] Device interconnect StreamExecutor with strength 1 edge matrix:\n",
            "2020-03-24 11:19:48.632533: I tensorflow/core/common_runtime/gpu/gpu_device.cc:1165]      0 \n",
            "2020-03-24 11:19:48.632546: I tensorflow/core/common_runtime/gpu/gpu_device.cc:1178] 0:   N \n",
            "2020-03-24 11:19:48.632656: I tensorflow/stream_executor/cuda/cuda_gpu_executor.cc:983] successful NUMA node read from SysFS had negative value (-1), but there must be at least one NUMA node, so returning NUMA node zero\n",
            "2020-03-24 11:19:48.633018: I tensorflow/stream_executor/cuda/cuda_gpu_executor.cc:983] successful NUMA node read from SysFS had negative value (-1), but there must be at least one NUMA node, so returning NUMA node zero\n",
            "2020-03-24 11:19:48.633378: W tensorflow/core/common_runtime/gpu/gpu_bfc_allocator.cc:39] Overriding allow_growth setting because the TF_FORCE_GPU_ALLOW_GROWTH environment variable is set. Original config value was 0.\n",
            "2020-03-24 11:19:48.633424: I tensorflow/core/common_runtime/gpu/gpu_device.cc:1304] Created TensorFlow device (/job:localhost/replica:0/task:0/device:GPU:0 with 7123 MB memory) -> physical GPU (device: 0, name: Tesla P4, pci bus id: 0000:00:04.0, compute capability: 6.1)\n",
            "WARNING:tensorflow:From /usr/local/lib/python3.6/dist-packages/keras/backend/tensorflow_backend.py:207: The name tf.global_variables is deprecated. Please use tf.compat.v1.global_variables instead.\n",
            "\n",
            "WARNING:tensorflow:From /usr/local/lib/python3.6/dist-packages/keras/backend/tensorflow_backend.py:216: The name tf.is_variable_initialized is deprecated. Please use tf.compat.v1.is_variable_initialized instead.\n",
            "\n",
            "WARNING:tensorflow:From /usr/local/lib/python3.6/dist-packages/keras/backend/tensorflow_backend.py:223: The name tf.variables_initializer is deprecated. Please use tf.compat.v1.variables_initializer instead.\n",
            "\n",
            "2020-03-24 11:19:51.225366: I tensorflow/stream_executor/platform/default/dso_loader.cc:44] Successfully opened dynamic library libcudnn.so.7\n",
            "2020-03-24 11:19:52.334002: I tensorflow/stream_executor/platform/default/dso_loader.cc:44] Successfully opened dynamic library libcublas.so.10\n",
            "300/300 [==============================] - 564s 2s/step - loss: 0.6064 - acc: 0.7420\n",
            "\n",
            "Epoch 00001: loss improved from inf to 0.60640, saving model to unet_membrane.hdf5\n",
            "30/30 [==============================] - 21s 686ms/step\n",
            "/content/drive/My Drive/unet/data.py:124: UserWarning: data/membrane/test/0_predict.png is a low contrast image\n",
            "  io.imsave(os.path.join(save_path,\"%d_predict.png\"%i),img)\n",
            "WARNING:root:Lossy conversion from float32 to uint8. Range [0, 1]. Convert image to uint8 prior to saving to suppress this warning.\n",
            "/content/drive/My Drive/unet/data.py:124: UserWarning: data/membrane/test/1_predict.png is a low contrast image\n",
            "  io.imsave(os.path.join(save_path,\"%d_predict.png\"%i),img)\n",
            "WARNING:root:Lossy conversion from float32 to uint8. Range [0, 1]. Convert image to uint8 prior to saving to suppress this warning.\n",
            "/content/drive/My Drive/unet/data.py:124: UserWarning: data/membrane/test/2_predict.png is a low contrast image\n",
            "  io.imsave(os.path.join(save_path,\"%d_predict.png\"%i),img)\n",
            "WARNING:root:Lossy conversion from float32 to uint8. Range [0, 1]. Convert image to uint8 prior to saving to suppress this warning.\n",
            "/content/drive/My Drive/unet/data.py:124: UserWarning: data/membrane/test/3_predict.png is a low contrast image\n",
            "  io.imsave(os.path.join(save_path,\"%d_predict.png\"%i),img)\n",
            "WARNING:root:Lossy conversion from float32 to uint8. Range [0, 1]. Convert image to uint8 prior to saving to suppress this warning.\n",
            "/content/drive/My Drive/unet/data.py:124: UserWarning: data/membrane/test/4_predict.png is a low contrast image\n",
            "  io.imsave(os.path.join(save_path,\"%d_predict.png\"%i),img)\n",
            "WARNING:root:Lossy conversion from float32 to uint8. Range [0, 1]. Convert image to uint8 prior to saving to suppress this warning.\n",
            "/content/drive/My Drive/unet/data.py:124: UserWarning: data/membrane/test/5_predict.png is a low contrast image\n",
            "  io.imsave(os.path.join(save_path,\"%d_predict.png\"%i),img)\n",
            "WARNING:root:Lossy conversion from float32 to uint8. Range [0, 1]. Convert image to uint8 prior to saving to suppress this warning.\n",
            "/content/drive/My Drive/unet/data.py:124: UserWarning: data/membrane/test/6_predict.png is a low contrast image\n",
            "  io.imsave(os.path.join(save_path,\"%d_predict.png\"%i),img)\n",
            "WARNING:root:Lossy conversion from float32 to uint8. Range [0, 1]. Convert image to uint8 prior to saving to suppress this warning.\n",
            "/content/drive/My Drive/unet/data.py:124: UserWarning: data/membrane/test/7_predict.png is a low contrast image\n",
            "  io.imsave(os.path.join(save_path,\"%d_predict.png\"%i),img)\n",
            "WARNING:root:Lossy conversion from float32 to uint8. Range [0, 1]. Convert image to uint8 prior to saving to suppress this warning.\n",
            "/content/drive/My Drive/unet/data.py:124: UserWarning: data/membrane/test/8_predict.png is a low contrast image\n",
            "  io.imsave(os.path.join(save_path,\"%d_predict.png\"%i),img)\n",
            "WARNING:root:Lossy conversion from float32 to uint8. Range [0, 1]. Convert image to uint8 prior to saving to suppress this warning.\n",
            "/content/drive/My Drive/unet/data.py:124: UserWarning: data/membrane/test/9_predict.png is a low contrast image\n",
            "  io.imsave(os.path.join(save_path,\"%d_predict.png\"%i),img)\n",
            "WARNING:root:Lossy conversion from float32 to uint8. Range [0, 1]. Convert image to uint8 prior to saving to suppress this warning.\n",
            "/content/drive/My Drive/unet/data.py:124: UserWarning: data/membrane/test/10_predict.png is a low contrast image\n",
            "  io.imsave(os.path.join(save_path,\"%d_predict.png\"%i),img)\n",
            "WARNING:root:Lossy conversion from float32 to uint8. Range [0, 1]. Convert image to uint8 prior to saving to suppress this warning.\n",
            "/content/drive/My Drive/unet/data.py:124: UserWarning: data/membrane/test/11_predict.png is a low contrast image\n",
            "  io.imsave(os.path.join(save_path,\"%d_predict.png\"%i),img)\n",
            "WARNING:root:Lossy conversion from float32 to uint8. Range [0, 1]. Convert image to uint8 prior to saving to suppress this warning.\n",
            "/content/drive/My Drive/unet/data.py:124: UserWarning: data/membrane/test/12_predict.png is a low contrast image\n",
            "  io.imsave(os.path.join(save_path,\"%d_predict.png\"%i),img)\n",
            "WARNING:root:Lossy conversion from float32 to uint8. Range [0, 1]. Convert image to uint8 prior to saving to suppress this warning.\n",
            "/content/drive/My Drive/unet/data.py:124: UserWarning: data/membrane/test/13_predict.png is a low contrast image\n",
            "  io.imsave(os.path.join(save_path,\"%d_predict.png\"%i),img)\n",
            "WARNING:root:Lossy conversion from float32 to uint8. Range [0, 1]. Convert image to uint8 prior to saving to suppress this warning.\n",
            "/content/drive/My Drive/unet/data.py:124: UserWarning: data/membrane/test/14_predict.png is a low contrast image\n",
            "  io.imsave(os.path.join(save_path,\"%d_predict.png\"%i),img)\n",
            "WARNING:root:Lossy conversion from float32 to uint8. Range [0, 1]. Convert image to uint8 prior to saving to suppress this warning.\n",
            "/content/drive/My Drive/unet/data.py:124: UserWarning: data/membrane/test/15_predict.png is a low contrast image\n",
            "  io.imsave(os.path.join(save_path,\"%d_predict.png\"%i),img)\n",
            "WARNING:root:Lossy conversion from float32 to uint8. Range [0, 1]. Convert image to uint8 prior to saving to suppress this warning.\n",
            "/content/drive/My Drive/unet/data.py:124: UserWarning: data/membrane/test/16_predict.png is a low contrast image\n",
            "  io.imsave(os.path.join(save_path,\"%d_predict.png\"%i),img)\n",
            "WARNING:root:Lossy conversion from float32 to uint8. Range [0, 1]. Convert image to uint8 prior to saving to suppress this warning.\n",
            "/content/drive/My Drive/unet/data.py:124: UserWarning: data/membrane/test/17_predict.png is a low contrast image\n",
            "  io.imsave(os.path.join(save_path,\"%d_predict.png\"%i),img)\n",
            "WARNING:root:Lossy conversion from float32 to uint8. Range [0, 1]. Convert image to uint8 prior to saving to suppress this warning.\n",
            "/content/drive/My Drive/unet/data.py:124: UserWarning: data/membrane/test/18_predict.png is a low contrast image\n",
            "  io.imsave(os.path.join(save_path,\"%d_predict.png\"%i),img)\n",
            "WARNING:root:Lossy conversion from float32 to uint8. Range [0, 1]. Convert image to uint8 prior to saving to suppress this warning.\n",
            "/content/drive/My Drive/unet/data.py:124: UserWarning: data/membrane/test/19_predict.png is a low contrast image\n",
            "  io.imsave(os.path.join(save_path,\"%d_predict.png\"%i),img)\n",
            "WARNING:root:Lossy conversion from float32 to uint8. Range [0, 1]. Convert image to uint8 prior to saving to suppress this warning.\n",
            "/content/drive/My Drive/unet/data.py:124: UserWarning: data/membrane/test/20_predict.png is a low contrast image\n",
            "  io.imsave(os.path.join(save_path,\"%d_predict.png\"%i),img)\n",
            "WARNING:root:Lossy conversion from float32 to uint8. Range [0, 1]. Convert image to uint8 prior to saving to suppress this warning.\n",
            "/content/drive/My Drive/unet/data.py:124: UserWarning: data/membrane/test/21_predict.png is a low contrast image\n",
            "  io.imsave(os.path.join(save_path,\"%d_predict.png\"%i),img)\n",
            "WARNING:root:Lossy conversion from float32 to uint8. Range [0, 1]. Convert image to uint8 prior to saving to suppress this warning.\n",
            "/content/drive/My Drive/unet/data.py:124: UserWarning: data/membrane/test/22_predict.png is a low contrast image\n",
            "  io.imsave(os.path.join(save_path,\"%d_predict.png\"%i),img)\n",
            "WARNING:root:Lossy conversion from float32 to uint8. Range [0, 1]. Convert image to uint8 prior to saving to suppress this warning.\n",
            "/content/drive/My Drive/unet/data.py:124: UserWarning: data/membrane/test/23_predict.png is a low contrast image\n",
            "  io.imsave(os.path.join(save_path,\"%d_predict.png\"%i),img)\n",
            "WARNING:root:Lossy conversion from float32 to uint8. Range [0, 1]. Convert image to uint8 prior to saving to suppress this warning.\n",
            "/content/drive/My Drive/unet/data.py:124: UserWarning: data/membrane/test/24_predict.png is a low contrast image\n",
            "  io.imsave(os.path.join(save_path,\"%d_predict.png\"%i),img)\n",
            "WARNING:root:Lossy conversion from float32 to uint8. Range [0, 1]. Convert image to uint8 prior to saving to suppress this warning.\n",
            "/content/drive/My Drive/unet/data.py:124: UserWarning: data/membrane/test/25_predict.png is a low contrast image\n",
            "  io.imsave(os.path.join(save_path,\"%d_predict.png\"%i),img)\n",
            "WARNING:root:Lossy conversion from float32 to uint8. Range [0, 1]. Convert image to uint8 prior to saving to suppress this warning.\n",
            "/content/drive/My Drive/unet/data.py:124: UserWarning: data/membrane/test/26_predict.png is a low contrast image\n",
            "  io.imsave(os.path.join(save_path,\"%d_predict.png\"%i),img)\n",
            "WARNING:root:Lossy conversion from float32 to uint8. Range [0, 1]. Convert image to uint8 prior to saving to suppress this warning.\n",
            "/content/drive/My Drive/unet/data.py:124: UserWarning: data/membrane/test/27_predict.png is a low contrast image\n",
            "  io.imsave(os.path.join(save_path,\"%d_predict.png\"%i),img)\n",
            "WARNING:root:Lossy conversion from float32 to uint8. Range [0, 1]. Convert image to uint8 prior to saving to suppress this warning.\n",
            "/content/drive/My Drive/unet/data.py:124: UserWarning: data/membrane/test/28_predict.png is a low contrast image\n",
            "  io.imsave(os.path.join(save_path,\"%d_predict.png\"%i),img)\n",
            "WARNING:root:Lossy conversion from float32 to uint8. Range [0, 1]. Convert image to uint8 prior to saving to suppress this warning.\n",
            "/content/drive/My Drive/unet/data.py:124: UserWarning: data/membrane/test/29_predict.png is a low contrast image\n",
            "  io.imsave(os.path.join(save_path,\"%d_predict.png\"%i),img)\n",
            "WARNING:root:Lossy conversion from float32 to uint8. Range [0, 1]. Convert image to uint8 prior to saving to suppress this warning.\n"
          ],
          "name": "stdout"
        }
      ]
    },
    {
      "cell_type": "code",
      "metadata": {
        "id": "8McDBHyiPmxC",
        "colab_type": "code",
        "colab": {
          "base_uri": "https://localhost:8080/",
          "height": 34
        },
        "outputId": "0db95a66-0533-4273-a159-34ab90a89569"
      },
      "source": [
        "pwd"
      ],
      "execution_count": 23,
      "outputs": [
        {
          "output_type": "execute_result",
          "data": {
            "text/plain": [
              "'/content/drive/My Drive/unet'"
            ]
          },
          "metadata": {
            "tags": []
          },
          "execution_count": 23
        }
      ]
    },
    {
      "cell_type": "code",
      "metadata": {
        "id": "iUJ5EbhTQiti",
        "colab_type": "code",
        "colab": {
          "base_uri": "https://localhost:8080/",
          "height": 34
        },
        "outputId": "3a053932-eef1-4472-d459-9a77ca61233c"
      },
      "source": [
        "# カレントディレクトリの変更\n",
        "#強制的に移動する\n",
        "\n",
        "import os\n",
        "\n",
        "os.chdir('/content/drive/My Drive/unet/data/membrane/test')\n",
        "\n",
        "# カレントディレクトリの取得\n",
        "print(os.getcwd())"
      ],
      "execution_count": 26,
      "outputs": [
        {
          "output_type": "stream",
          "text": [
            "/content/drive/My Drive/unet/data/membrane/test\n"
          ],
          "name": "stdout"
        }
      ]
    },
    {
      "cell_type": "code",
      "metadata": {
        "id": "4dq2AmXYPFDC",
        "colab_type": "code",
        "colab": {
          "base_uri": "https://localhost:8080/",
          "height": 187
        },
        "outputId": "34c855f5-dc55-4fe8-9e77-cab4528a7887"
      },
      "source": [
        "# ファイル名は連番でないと読めないプログラムになっているので、リネイムする。\n",
        "# 初めに今のファイル名の状態やレコード数を確認する。\n",
        "\n",
        "path = '/content/drive/My Drive/unet/data/membrane/test' \n",
        "flist = os.listdir(path)\n",
        "flist[:10]\n",
        "#rename の実施をする。\n",
        "for i , name in enumerate(flist):\n",
        "    renamed = str(i)+\".jpg\"\n",
        "    os.rename(name, renamed)\n",
        "path = '/content/drive/My Drive/unet/data/membrane/test'\n",
        "flist_renamed = os.listdir(path)\n",
        "sorted(flist_renamed)[:10]"
      ],
      "execution_count": 27,
      "outputs": [
        {
          "output_type": "execute_result",
          "data": {
            "text/plain": [
              "['0.jpg',\n",
              " '1.jpg',\n",
              " '10.jpg',\n",
              " '100.jpg',\n",
              " '1000.jpg',\n",
              " '1001.jpg',\n",
              " '1002.jpg',\n",
              " '1003.jpg',\n",
              " '1004.jpg',\n",
              " '1005.jpg']"
            ]
          },
          "metadata": {
            "tags": []
          },
          "execution_count": 27
        }
      ]
    },
    {
      "cell_type": "code",
      "metadata": {
        "id": "mJvDdyNI-Wdc",
        "colab_type": "code",
        "colab": {}
      },
      "source": [
        "#unetのdata/membrane/tainを削除して、tgsのimgesをimageに移動"
      ],
      "execution_count": 0,
      "outputs": []
    },
    {
      "cell_type": "code",
      "metadata": {
        "id": "1vOKJ_pBfHG_",
        "colab_type": "code",
        "colab": {}
      },
      "source": [
        "#mv でフォルダを移動する\n",
        "mv Simpsons/simpsons_dataset/ ObjectDetection/"
      ],
      "execution_count": 0,
      "outputs": []
    },
    {
      "cell_type": "code",
      "metadata": {
        "id": "APqetRgEiAy8",
        "colab_type": "code",
        "outputId": "e6a53003-3161-49fe-9cfe-da2fb464f331",
        "colab": {
          "base_uri": "https://localhost:8080/",
          "height": 34
        }
      },
      "source": [
        "#cd で場所を移動する、cd ..で階層をあげる\n",
        "cd ObjectDetection/"
      ],
      "execution_count": 0,
      "outputs": [
        {
          "output_type": "stream",
          "text": [
            "/content/drive/My Drive/ObjectDetection\n"
          ],
          "name": "stdout"
        }
      ]
    },
    {
      "cell_type": "code",
      "metadata": {
        "id": "itfDGhbnfaYX",
        "colab_type": "code",
        "colab": {}
      },
      "source": [
        "#【問題1】学習と推定\n",
        "!python train.py -p annotation.txt"
      ],
      "execution_count": 0,
      "outputs": []
    },
    {
      "cell_type": "code",
      "metadata": {
        "id": "iCt4iuHqhOKI",
        "colab_type": "code",
        "outputId": "f93e43cb-1159-4c21-abf8-481777a5c9eb",
        "colab": {
          "base_uri": "https://localhost:8080/",
          "height": 51
        }
      },
      "source": [
        "cd "
      ],
      "execution_count": 0,
      "outputs": [
        {
          "output_type": "stream",
          "text": [
            "[Errno 2] No such file or directory: '/root/ObjectDetection'\n",
            "/content\n"
          ],
          "name": "stdout"
        }
      ]
    },
    {
      "cell_type": "code",
      "metadata": {
        "id": "WDTo8HGnhu00",
        "colab_type": "code",
        "colab": {}
      },
      "source": [
        "#【問題2】コードリーディング\n",
        "#上記実装のコードリーディングを行ってください。\n",
        "#まず、Faster R-CNN[1]において重要だと考えた部分を列挙してください。そして、それに対応するコードを見つけてください。\n",
        "#RPNを実現しているコードはどこか\n",
        "#→69行目\n",
        "#RoIプーリングを実現しているコードはどこか\n",
        "#"
      ],
      "execution_count": 0,
      "outputs": []
    }
  ]
}