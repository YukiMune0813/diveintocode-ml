{
 "cells": [
  {
   "cell_type": "markdown",
   "metadata": {},
   "source": [
    "【問題1】富士山（3776m）を超える最小の折る回数\n"
   ]
  },
  {
   "cell_type": "code",
   "execution_count": 2,
   "metadata": {},
   "outputs": [
    {
     "name": "stdout",
     "output_type": "stream",
     "text": [
      "富士山を超える最小の紙を折る回数:26回\n"
     ]
    }
   ],
   "source": [
    "THICKNESS = 0.00008 # 紙の厚さ[m]\n",
    "FUJI_MOUNT=3776\n",
    "folded_thickness = THICKNESS\n",
    "S=a=2\n",
    "thickness_count=[]\n",
    "while folded_thickness <FUJI_MOUNT:\n",
    "        folded_thickness = THICKNESS*S\n",
    "        S*=a\n",
    "        #print(folded_thickness)\n",
    "        thickness_count.append(folded_thickness)\n",
    "print(\"富士山を超える最小の紙を折る回数:{}回\".format(len(thickness_count)))\n",
    "#print(thickness_count)\n",
    "#\"生き残れる期間： {:,}日\".format(survive_count(get_kometsubu,14))"
   ]
  },
  {
   "cell_type": "markdown",
   "metadata": {},
   "source": [
    "【問題2】任意の厚さに対応した関数を作成"
   ]
  },
  {
   "cell_type": "markdown",
   "metadata": {},
   "source": [
    "Proxima Centauri　4.2光年 何回折った時に超えるかを出力する関数"
   ]
  },
  {
   "cell_type": "code",
   "execution_count": 9,
   "metadata": {},
   "outputs": [],
   "source": [
    "def adjust_thickness(x,y):\n",
    "    THICKNESS = y\n",
    "    folded_thickness = THICKNESS\n",
    "    S=a=2\n",
    "    thickness_count=[]\n",
    "    while folded_thickness <x:\n",
    "        folded_thickness = THICKNESS*S\n",
    "        S*=a\n",
    "        thickness_count.append(folded_thickness)\n",
    "        \n",
    "    \n",
    "        \n",
    "    print(\"折る回数:{}回\".format(len(thickness_count)))\n",
    "\n",
    "\n",
    "\n"
   ]
  },
  {
   "cell_type": "code",
   "execution_count": 10,
   "metadata": {},
   "outputs": [
    {
     "name": "stdout",
     "output_type": "stream",
     "text": [
      "折る回数:69回\n"
     ]
    }
   ],
   "source": [
    "dis=adjust_thickness(3.974e+16,0.00008)\n"
   ]
  },
  {
   "cell_type": "markdown",
   "metadata": {},
   "source": [
    "【問題3】必要な紙の長さ\n",
    "厚さ \n",
    "t\n",
    "0\n",
    " の紙をn回折るために必要な紙の長さLは以下の公式で求まります。\n",
    "https://diver.diveintocode.jp/curriculums/1399\n",
    "\n",
    "「月」「富士山」「最も近い太陽以外の恒星」\n",
    "届くために必要な紙の長さ\n",
    "《公式の出典》\n",
    "Folding Paper in Half | Teachers of India\n",
    "《解説記事》\n",
    "Britney Gallivan - Wikipedia\n",
    "《ヒント》\n",
    "この公式の中で折る回数nが登場しますが、このnは先ほど作成した関数で求まります。関数の中で関数を使うことが可能です。\n"
   ]
  },
  {
   "cell_type": "code",
   "execution_count": 12,
   "metadata": {},
   "outputs": [],
   "source": [
    "import math\n",
    "\n",
    "def paper_length(t,n):\n",
    "    length=(math.pi*t/6)*(2**n+4)*(2**n-1) #紙の長さ\n",
    "    return length\n",
    "#t=紙の厚さ\n",
    "#n=折りたたんだ回数\n",
    "    \n"
   ]
  },
  {
   "cell_type": "code",
   "execution_count": 13,
   "metadata": {},
   "outputs": [],
   "source": [
    "#確認用\n",
    "# length=paper_length(0.00008,3)\n",
    "# print(length)\n",
    "    "
   ]
  },
  {
   "cell_type": "code",
   "execution_count": 16,
   "metadata": {},
   "outputs": [
    {
     "name": "stdout",
     "output_type": "stream",
     "text": [
      "折る回数:43回\n",
      "月まで行くために必要な紙の長さ： 3.240919444170781e+21メートル\n"
     ]
    }
   ],
   "source": [
    "#月までに距離:384400000\n",
    "#月に到達するまでの折る回数\n",
    "moun_times=adjust_thickness(384400000,0.00008)\n",
    "\n",
    "moun_length=paper_length(0.00008,43)\n",
    "print(\"月まで行くために必要な紙の長さ： {}メートル\".format(moun_length))\n",
    "\n"
   ]
  },
  {
   "cell_type": "code",
   "execution_count": 18,
   "metadata": {},
   "outputs": [
    {
     "name": "stdout",
     "output_type": "stream",
     "text": [
      "折る回数:26回\n",
      "富士山まで行くために必要な紙の長さ： 188646348487.24017メートル\n"
     ]
    }
   ],
   "source": [
    "#富士山　3776\n",
    "Fuji_times=adjust_thickness(3776,0.00008)\n",
    "Fuji_length=paper_length(0.00008,26)\n",
    "print(\"富士山まで行くために必要な紙の長さ： {}メートル\".format(Fuji_length))"
   ]
  },
  {
   "cell_type": "code",
   "execution_count": 19,
   "metadata": {},
   "outputs": [
    {
     "name": "stdout",
     "output_type": "stream",
     "text": [
      "折る回数:69回\n"
     ]
    }
   ],
   "source": [
    "#Proxima Centauri 3.974e+16\n",
    "Proxima_times=adjust_thickness(3.974e+16,0.00008)\n"
   ]
  },
  {
   "cell_type": "code",
   "execution_count": 20,
   "metadata": {},
   "outputs": [
    {
     "name": "stdout",
     "output_type": "stream",
     "text": [
      "Proxima Centauriまで行くために必要な紙の長さ： 1.4595803601100348e+37メートル\n"
     ]
    }
   ],
   "source": [
    "Proxima_length=paper_length(0.00008,69)\n",
    "print(\"Proxima Centauriまで行くために必要な紙の長さ： {}メートル\".format(Proxima_length))"
   ]
  },
  {
   "cell_type": "code",
   "execution_count": null,
   "metadata": {},
   "outputs": [],
   "source": []
  }
 ],
 "metadata": {
  "kernelspec": {
   "display_name": "Python 3",
   "language": "python",
   "name": "python3"
  },
  "language_info": {
   "codemirror_mode": {
    "name": "ipython",
    "version": 3
   },
   "file_extension": ".py",
   "mimetype": "text/x-python",
   "name": "python",
   "nbconvert_exporter": "python",
   "pygments_lexer": "ipython3",
   "version": "3.6.4"
  }
 },
 "nbformat": 4,
 "nbformat_minor": 2
}
