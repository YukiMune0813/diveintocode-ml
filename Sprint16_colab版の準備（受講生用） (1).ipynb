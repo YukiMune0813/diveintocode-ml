{
 "cells": [
  {
   "cell_type": "code",
   "execution_count": 1,
   "metadata": {
    "colab": {
     "base_uri": "https://localhost:8080/",
     "height": 63
    },
    "colab_type": "code",
    "id": "Wdn9jTnIrHW7",
    "outputId": "867f958d-37e6-400e-8d57-94fae2910bb1"
   },
   "outputs": [],
   "source": [
    "import tensorflow"
   ]
  },
  {
   "cell_type": "code",
   "execution_count": 2,
   "metadata": {
    "colab": {
     "base_uri": "https://localhost:8080/",
     "height": 34
    },
    "colab_type": "code",
    "id": "AuSdSYe4rN9o",
    "outputId": "b73eaf6b-785a-4f96-bf64-e7464cff8319"
   },
   "outputs": [
    {
     "data": {
      "text/plain": [
       "'1.15.0'"
      ]
     },
     "execution_count": 2,
     "metadata": {},
     "output_type": "execute_result"
    }
   ],
   "source": [
    "tensorflow.VERSION"
   ]
  },
  {
   "cell_type": "code",
   "execution_count": 3,
   "metadata": {
    "colab": {},
    "colab_type": "code",
    "id": "5Zo958VcYK7D"
   },
   "outputs": [
    {
     "name": "stdout",
     "output_type": "stream",
     "text": [
      "Collecting kaggle\n",
      "  Downloading kaggle-1.5.6.tar.gz (58 kB)\n",
      "\u001b[K     |████████████████████████████████| 58 kB 4.0 MB/s eta 0:00:011\n",
      "\u001b[?25hCollecting urllib3<1.25,>=1.21.1\n",
      "  Downloading urllib3-1.24.3-py2.py3-none-any.whl (118 kB)\n",
      "\u001b[K     |████████████████████████████████| 118 kB 7.6 MB/s eta 0:00:01\n",
      "\u001b[?25hRequirement already satisfied: six>=1.10 in /Users/apple/.local/lib/python3.6/site-packages (from kaggle) (1.14.0)\n",
      "Requirement already satisfied: certifi in /Users/apple/.local/lib/python3.6/site-packages (from kaggle) (2019.11.28)\n",
      "Requirement already satisfied: python-dateutil in /Users/apple/.pyenv/versions/anaconda3-5.1.0/lib/python3.6/site-packages (from kaggle) (2.6.1)\n",
      "Requirement already satisfied: requests in /Users/apple/.local/lib/python3.6/site-packages (from kaggle) (2.23.0)\n",
      "Requirement already satisfied: tqdm in /Users/apple/.pyenv/versions/anaconda3-5.1.0/lib/python3.6/site-packages (from kaggle) (4.40.2)\n",
      "Collecting python-slugify\n",
      "  Downloading python-slugify-4.0.0.tar.gz (8.8 kB)\n",
      "Requirement already satisfied: chardet<4,>=3.0.2 in /Users/apple/.local/lib/python3.6/site-packages (from requests->kaggle) (3.0.4)\n",
      "Requirement already satisfied: idna<3,>=2.5 in /Users/apple/.local/lib/python3.6/site-packages (from requests->kaggle) (2.9)\n",
      "Collecting text-unidecode>=1.3\n",
      "  Downloading text_unidecode-1.3-py2.py3-none-any.whl (78 kB)\n",
      "\u001b[K     |████████████████████████████████| 78 kB 6.5 MB/s  eta 0:00:01\n",
      "\u001b[?25hBuilding wheels for collected packages: kaggle, python-slugify\n",
      "  Building wheel for kaggle (setup.py) ... \u001b[?25ldone\n",
      "\u001b[?25h  Created wheel for kaggle: filename=kaggle-1.5.6-py3-none-any.whl size=72859 sha256=9dbf592f69087e013c1c39ae5b6123915b0d08e983fb3148878c74d14c2f8b00\n",
      "  Stored in directory: /Users/apple/Library/Caches/pip/wheels/01/3e/ff/77407ebac3ef71a79b9166a8382aecf88415a0bcbe3c095a01\n",
      "  Building wheel for python-slugify (setup.py) ... \u001b[?25ldone\n",
      "\u001b[?25h  Created wheel for python-slugify: filename=python_slugify-4.0.0-py2.py3-none-any.whl size=5486 sha256=3bc47af64e3a1f91a0d435957d30c5299e6233eba6bf491c56c582f03ae53e70\n",
      "  Stored in directory: /Users/apple/Library/Caches/pip/wheels/5f/a9/4b/aa1ee60ccbd4389a2fe11c9b94adf3d9fa61cecda46c1187a9\n",
      "Successfully built kaggle python-slugify\n",
      "Installing collected packages: urllib3, text-unidecode, python-slugify, kaggle\n",
      "  Attempting uninstall: urllib3\n",
      "    Found existing installation: urllib3 1.25.8\n",
      "    Uninstalling urllib3-1.25.8:\n",
      "      Successfully uninstalled urllib3-1.25.8\n",
      "Successfully installed kaggle-1.5.6 python-slugify-4.0.0 text-unidecode-1.3 urllib3-1.24.3\n"
     ]
    }
   ],
   "source": [
    "!pip install kaggle"
   ]
  },
  {
   "cell_type": "code",
   "execution_count": 5,
   "metadata": {},
   "outputs": [],
   "source": [
    "import os"
   ]
  },
  {
   "cell_type": "code",
   "execution_count": 8,
   "metadata": {
    "colab": {
     "base_uri": "https://localhost:8080/",
     "height": 122
    },
    "colab_type": "code",
    "id": "NmusYUjgX5Rf",
    "outputId": "66d7bc5c-5e5c-43eb-bf8c-ffe97269ba83"
   },
   "outputs": [
    {
     "ename": "ModuleNotFoundError",
     "evalue": "No module named 'google.colab'",
     "output_type": "error",
     "traceback": [
      "\u001b[0;31m---------------------------------------------------------------------------\u001b[0m",
      "\u001b[0;31mModuleNotFoundError\u001b[0m                       Traceback (most recent call last)",
      "\u001b[0;32m<ipython-input-8-75008e5bf7ce>\u001b[0m in \u001b[0;36m<module>\u001b[0;34m()\u001b[0m\n\u001b[1;32m      1\u001b[0m \u001b[0;31m# 自分のマイドライブにマウントする\u001b[0m\u001b[0;34m\u001b[0m\u001b[0;34m\u001b[0m\u001b[0m\n\u001b[1;32m      2\u001b[0m \u001b[0;34m\u001b[0m\u001b[0m\n\u001b[0;32m----> 3\u001b[0;31m \u001b[0;32mfrom\u001b[0m \u001b[0mgoogle\u001b[0m\u001b[0;34m.\u001b[0m\u001b[0mcolab\u001b[0m \u001b[0;32mimport\u001b[0m \u001b[0mdrive\u001b[0m\u001b[0;34m\u001b[0m\u001b[0m\n\u001b[0m\u001b[1;32m      4\u001b[0m \u001b[0mdrive\u001b[0m\u001b[0;34m.\u001b[0m\u001b[0mmount\u001b[0m\u001b[0;34m(\u001b[0m\u001b[0;34m'/content/drive/'\u001b[0m\u001b[0;34m)\u001b[0m\u001b[0;34m\u001b[0m\u001b[0m\n",
      "\u001b[0;31mModuleNotFoundError\u001b[0m: No module named 'google.colab'"
     ]
    }
   ],
   "source": [
    "# 自分のマイドライブにマウントする\n",
    "\n",
    "from google.colab import drive\n",
    "drive.mount('/content/drive/')"
   ]
  },
  {
   "cell_type": "code",
   "execution_count": null,
   "metadata": {
    "colab": {},
    "colab_type": "code",
    "id": "Lz94s0BqX50p"
   },
   "outputs": [],
   "source": [
    "mkdir .kaggle"
   ]
  },
  {
   "cell_type": "code",
   "execution_count": null,
   "metadata": {
    "colab": {
     "base_uri": "https://localhost:8080/",
     "height": 34
    },
    "colab_type": "code",
    "id": "QOb2_xktYC8f",
    "outputId": "165a514e-ca10-4402-b692-31067f28dfa0"
   },
   "outputs": [],
   "source": [
    "ls -a"
   ]
  },
  {
   "cell_type": "code",
   "execution_count": 0,
   "metadata": {
    "colab": {
     "base_uri": "https://localhost:8080/",
     "height": 34
    },
    "colab_type": "code",
    "id": "8oXwgTW8Ctl8",
    "outputId": "657a7e7b-6401-4a69-f7e4-bf6bb718ff0f"
   },
   "outputs": [
    {
     "name": "stdout",
     "output_type": "stream",
     "text": [
      "/content/drive/My Drive\n"
     ]
    }
   ],
   "source": [
    "#cd drive/\"My Drive\""
   ]
  },
  {
   "cell_type": "markdown",
   "metadata": {
    "colab_type": "text",
    "id": "51z4ApjkC_b7"
   },
   "source": [
    "# New Section"
   ]
  },
  {
   "cell_type": "code",
   "execution_count": 0,
   "metadata": {
    "colab": {},
    "colab_type": "code",
    "id": "UbrlwyoYayv7"
   },
   "outputs": [],
   "source": [
    "# https://www.kaggle.com/　へアクセスし、ログイン後に右上のプロフィール画像をクリック、さらに\"My Account\"をクリックする\n",
    "# このサイトの「API」項目にある\"Create New API Token\"をクリックすると、kaggle.jsonファイルが自動的にダウンロードされる\n",
    "# ローカルで、kaggle.json（ダウンロードフォルダにあるはず）をエディターで開く。\n",
    "# このセルの以下のコードにある token = {'username':'***','key':'***'} における「***」部分を、\n",
    "# ダウンロードしたkaggle.jsonを参照して書き換え、このセルを実行する\n",
    "\n",
    "import json\n",
    "\n",
    "token = {\"username\":\"yottan\",\"key\":\"dfedf02227773abd98d17984bb641c20\"}\n",
    "with open('/content/.kaggle/kaggle.json', 'w') as file:\n",
    "    json.dump(token, file)"
   ]
  },
  {
   "cell_type": "code",
   "execution_count": 0,
   "metadata": {
    "colab": {},
    "colab_type": "code",
    "id": "fGVfODKNc2ua"
   },
   "outputs": [],
   "source": []
  },
  {
   "cell_type": "code",
   "execution_count": 0,
   "metadata": {
    "colab": {},
    "colab_type": "code",
    "id": "c0YHd6LcbSJn"
   },
   "outputs": [],
   "source": [
    "!chmod 600 /content/.kaggle/kaggle.json"
   ]
  },
  {
   "cell_type": "code",
   "execution_count": 6,
   "metadata": {
    "colab": {
     "base_uri": "https://localhost:8080/",
     "height": 34
    },
    "colab_type": "code",
    "id": "9TgiYOStY72u",
    "outputId": "feec6ab3-1946-46d3-91cd-b9b4d1cf06a6"
   },
   "outputs": [
    {
     "data": {
      "text/plain": [
       "'/content'"
      ]
     },
     "execution_count": 6,
     "metadata": {
      "tags": []
     },
     "output_type": "execute_result"
    }
   ],
   "source": [
    "pwd"
   ]
  },
  {
   "cell_type": "code",
   "execution_count": 7,
   "metadata": {
    "colab": {
     "base_uri": "https://localhost:8080/",
     "height": 34
    },
    "colab_type": "code",
    "id": "UYHvHU68PFsL",
    "outputId": "ebb32efe-da0e-46a0-ce61-7a31dd9f8d6d"
   },
   "outputs": [
    {
     "name": "stdout",
     "output_type": "stream",
     "text": [
      "\u001b[0m\u001b[01;34m.\u001b[0m/  \u001b[01;34m..\u001b[0m/  kaggle.json\n"
     ]
    }
   ],
   "source": [
    "ls -a .kaggle"
   ]
  },
  {
   "cell_type": "code",
   "execution_count": 0,
   "metadata": {
    "colab": {},
    "colab_type": "code",
    "id": "67WCst_X0Qjt"
   },
   "outputs": [],
   "source": [
    "mkdir　/root/.kaggle/"
   ]
  },
  {
   "cell_type": "code",
   "execution_count": 0,
   "metadata": {
    "colab": {},
    "colab_type": "code",
    "id": "2E9gx_jSa9tJ"
   },
   "outputs": [],
   "source": [
    "!cp -R /content/.kaggle/kaggle.json /root/.kaggle/"
   ]
  },
  {
   "cell_type": "code",
   "execution_count": 12,
   "metadata": {
    "colab": {
     "base_uri": "https://localhost:8080/",
     "height": 34
    },
    "colab_type": "code",
    "id": "-QKa7HD1bUcC",
    "outputId": "aedf9022-80e5-4045-8c29-f85ce98d2a01"
   },
   "outputs": [
    {
     "name": "stdout",
     "output_type": "stream",
     "text": [
      ".  ..  kaggle.json\n"
     ]
    }
   ],
   "source": [
    "!ls -a /root/.kaggle/"
   ]
  },
  {
   "cell_type": "code",
   "execution_count": 13,
   "metadata": {
    "colab": {
     "base_uri": "https://localhost:8080/",
     "height": 428
    },
    "colab_type": "code",
    "id": "ADlTo5WyxveO",
    "outputId": "be1d6f71-a962-42c5-aee8-3cc706a83285"
   },
   "outputs": [
    {
     "name": "stdout",
     "output_type": "stream",
     "text": [
      "Warning: Looks like you're using an outdated API Version, please consider updating (server 1.5.6 / client 1.5.4)\n",
      "ref                                                                deadline             category             reward  teamCount  userHasEntered  \n",
      "-----------------------------------------------------------------  -------------------  ---------------  ----------  ---------  --------------  \n",
      "digit-recognizer                                                   2030-01-01 00:00:00  Getting Started   Knowledge       2234            True  \n",
      "titanic                                                            2030-01-01 00:00:00  Getting Started   Knowledge      16650            True  \n",
      "house-prices-advanced-regression-techniques                        2030-01-01 00:00:00  Getting Started   Knowledge       4576            True  \n",
      "connectx                                                           2030-01-01 00:00:00  Getting Started   Knowledge        343           False  \n",
      "competitive-data-science-predict-future-sales                      2020-12-31 23:59:00  Playground            Kudos       5979            True  \n",
      "m5-forecasting-accuracy                                            2020-06-30 23:59:00  Featured            $50,000        941            True  \n",
      "m5-forecasting-uncertainty                                         2020-06-30 23:59:00  Featured            $50,000         32           False  \n",
      "abstraction-and-reasoning-challenge                                2020-05-27 23:59:00  Research            $20,000        440            True  \n",
      "liverpool-ion-switching                                            2020-05-25 23:59:00  Research            $25,000        982           False  \n",
      "flower-classification-with-tpus                                    2020-05-11 23:59:00  Playground           Prizes        369           False  \n",
      "iwildcam-2020-fgvc7                                                2020-05-11 23:59:00  Research          Knowledge         22           False  \n",
      "herbarium-2020-fgvc7                                               2020-05-11 23:59:00  Research          Knowledge         14           False  \n",
      "plant-pathology-2020-fgvc7                                         2020-05-11 23:59:00  Research          Knowledge        143           False  \n",
      "march-madness-analytics-2020                                       2020-04-30 23:59:00  Analytics           $25,000          0           False  \n",
      "deepfake-detection-challenge                                       2020-03-31 23:59:00  Featured         $1,000,000       2137            True  \n",
      "cat-in-the-dat-ii                                                  2020-03-31 23:59:00  Playground             Swag        962            True  \n",
      "imagenet-object-localization-challenge                             2020-03-26 23:59:00  Research          Knowledge         71           False  \n",
      "ds4g-environmental-insights-explorer                               2020-03-24 23:59:00  Analytics           $25,000          0           False  \n",
      "nlp-getting-started                                                2020-03-23 23:59:00  Playground          $10,000       3344            True  \n",
      "google-cloud-ncaa-march-madness-2020-division-1-womens-tournament  2020-03-20 15:00:00  Featured              Kudos        447           False  \n"
     ]
    }
   ],
   "source": [
    "# kaggle APIコマンドが使えるかどうかを確認\n",
    "\n",
    "\n",
    "!kaggle competitions list"
   ]
  },
  {
   "cell_type": "code",
   "execution_count": 14,
   "metadata": {
    "colab": {
     "base_uri": "https://localhost:8080/",
     "height": 34
    },
    "colab_type": "code",
    "id": "ot7Tqrikc0-W",
    "outputId": "eb634637-1c3b-43ff-c8c3-81e94d3dffca"
   },
   "outputs": [
    {
     "name": "stdout",
     "output_type": "stream",
     "text": [
      "/content/drive/My Drive\n"
     ]
    }
   ],
   "source": [
    "# カレントディレクトリの変更\n",
    "\n",
    "import os\n",
    "\n",
    "os.chdir('/content/drive/My Drive/')\n",
    "\n",
    "# カレントディレクトリの取得\n",
    "print(os.getcwd())"
   ]
  },
  {
   "cell_type": "code",
   "execution_count": 0,
   "metadata": {
    "colab": {
     "base_uri": "https://localhost:8080/",
     "height": 68
    },
    "colab_type": "code",
    "id": "Erk54BOPbZdd",
    "outputId": "8cb6b029-9792-482c-cea4-0a44330f9762"
   },
   "outputs": [
    {
     "name": "stdout",
     "output_type": "stream",
     "text": [
      "Downloading the-simpsons-characters-dataset.zip to /content/drive/My Drive\n",
      " 31% 344M/1.08G [00:11<00:26, 30.7MB/s]\n",
      "User cancelled operation\n"
     ]
    }
   ],
   "source": [
    "# simpsonデータセットのAPIコマンドでデータセットをダウンロードする\n",
    "# APIコマンドはこちらのサイトを参照。https://www.kaggle.com/alexattia/the-simpsons-characters-dataset\n",
    "\n",
    "!kaggle datasets download -d alexattia/the-simpsons-characters-dataset"
   ]
  },
  {
   "cell_type": "code",
   "execution_count": 0,
   "metadata": {
    "colab": {},
    "colab_type": "code",
    "id": "aT_EoanXb1C2"
   },
   "outputs": [],
   "source": [
    "!unzip /content/drive/'My Drive'/the-simpsons-characters-dataset.zip  -d Simpsons"
   ]
  },
  {
   "cell_type": "code",
   "execution_count": 0,
   "metadata": {
    "colab": {
     "base_uri": "https://localhost:8080/",
     "height": 85
    },
    "colab_type": "code",
    "id": "N7rYrfC9d1wr",
    "outputId": "0b62f1dc-5ba6-481c-d3b5-a867374c2959"
   },
   "outputs": [
    {
     "name": "stdout",
     "output_type": "stream",
     "text": [
      "Cloning into 'ObjectDetection'...\n",
      "remote: Enumerating objects: 28, done.\u001b[K\n",
      "remote: Total 28 (delta 0), reused 0 (delta 0), pack-reused 28\u001b[K\n",
      "Unpacking objects: 100% (28/28), done.\n"
     ]
    }
   ],
   "source": [
    "!git clone https://github.com/duckrabbits/ObjectDetection.git"
   ]
  },
  {
   "cell_type": "code",
   "execution_count": 0,
   "metadata": {
    "colab": {},
    "colab_type": "code",
    "id": "URsloMb5fjeN"
   },
   "outputs": [],
   "source": [
    "# https://github.com/duckrabbits/ObjectDetection/tree/master\n",
    "# この後、上述のgithubのreadmeに沿って、simpsons_datasetフォルダをプロジェクトフォルダ配下に格納しましょう。\n",
    "# testデータなども同様に準備してみよう。"
   ]
  },
  {
   "cell_type": "code",
   "execution_count": 0,
   "metadata": {
    "colab": {},
    "colab_type": "code",
    "id": "Ro3s37En2cqD"
   },
   "outputs": [],
   "source": []
  }
 ],
 "metadata": {
  "accelerator": "GPU",
  "colab": {
   "name": "Sprint16_colab版の準備（受講生用）.ipynb",
   "provenance": [],
   "toc_visible": true
  },
  "kernelspec": {
   "display_name": "Python 3",
   "language": "python",
   "name": "python3"
  },
  "language_info": {
   "codemirror_mode": {
    "name": "ipython",
    "version": 3
   },
   "file_extension": ".py",
   "mimetype": "text/x-python",
   "name": "python",
   "nbconvert_exporter": "python",
   "pygments_lexer": "ipython3",
   "version": "3.6.4"
  }
 },
 "nbformat": 4,
 "nbformat_minor": 1
}
