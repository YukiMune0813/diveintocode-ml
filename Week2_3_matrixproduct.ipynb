{
 "cells": [
  {
   "cell_type": "markdown",
   "metadata": {},
   "source": [
    "行列積\n",
    "A\n",
    "=\n",
    "⎡\n",
    "⎢\n",
    "⎣\n",
    "−\n",
    "1\n",
    "2\n",
    "3\n",
    "4\n",
    "−\n",
    "5\n",
    "6\n",
    "\u0018\n",
    "\u0018\n",
    "7\n",
    "8\n",
    "−\n",
    "9\n",
    "⎤\n",
    "⎥\n",
    "⎦\n",
    ",\n",
    "B\n",
    "=\n",
    "⎡\n",
    "⎢\n",
    "⎣\n",
    "0\n",
    "2\n",
    "1\n",
    "0\n",
    "2\n",
    "−\n",
    "8\n",
    "2\n",
    "9\n",
    "−\n",
    "1\n",
    "⎤\n",
    "⎥\n",
    "⎦"
   ]
  },
  {
   "cell_type": "code",
   "execution_count": 2,
   "metadata": {},
   "outputs": [],
   "source": [
    "import numpy as np\n",
    "a_ndarray = np.array([[-1, 2, 3], [4, -5, 6], [7, 8, -9]])\n",
    "b_ndarray = np.array([[0, 2, 1], [0, 2, -8], [2, 9, -1]])"
   ]
  },
  {
   "cell_type": "markdown",
   "metadata": {},
   "source": [
    "行列の積の手計算\n",
    "https://atarimae.biz/archives/23930\n",
    "6\t29\t-20\n",
    "12\t52\t38\n",
    "-18\t-51\t-48\n",
    "\n",
    "https://slack-redir.net/link?url=https%3A%2F%2Feasy-copy-mathjax.xxxx7.com%2F"
   ]
  },
  {
   "cell_type": "markdown",
   "metadata": {},
   "source": [
    "$$\n",
    "AB= \n",
    "\\left[\n",
    "\\begin{array}{ccc}\n",
    "  (-1)\\times0+2\\times0+3\\times2 & (-1)\\times2+2\\times2+3\\times9 & (-1)\\times1+2\\times(-8)+3\\times(-1) \\\\\n",
    "  4\\times0+(-5)\\times0+6\\times2 & 4\\times2+(-5)\\times2+6\\times9 & 4\\times1+(-5)\\times(-8)+6\\times(-1) \\\\\u0018\u0018\n",
    "  7\\times0+8\\times0+(-9)\\times2 & -7\\times0+8\\times2+(-9)\\times9 & 7\\times1+8\\times(-8)+(-9)\\times(-1)\n",
    "\\end{array}\n",
    "\\right]\n",
    "=\\left[\n",
    "\\begin{array}{ccc}\n",
    "  6 & 29 & -20 \\\\\n",
    "  12 & 52 & 38 \\\\\u0018\u0018\n",
    "  -18 & -51 & -48\n",
    "\\end{array}\n",
    "\\right]\n",
    "$$"
   ]
  },
  {
   "cell_type": "markdown",
   "metadata": {},
   "source": [
    "【問題2】NumPyの関数による計算\n",
    "この行列積はNumPyのnp.matmul()やnp.dot()、または@演算子を使うことで簡単に計算できます。\n",
    "これらを使い行列積を計算してください。\n",
    "numpy.matmul — NumPy v1.16 Manual\n",
    "numpy.dot — NumPy v1.16 Manual\n",
    "《3種類の違い》\n",
    "np.matmul()とnp.dot()は3次元以上の配列で挙動が変わります。@演算子はnp.matmul()と同じ働きをします。\n",
    "今回のような2次元配列の行列積ではnp.matmul()や@演算子が公式に推奨されています。以下はnp.dot()の説明からの引用です。\n",
    "\n",
    "https://note.nkmk.me/python-numpy-matrix/"
   ]
  },
  {
   "cell_type": "code",
   "execution_count": 1,
   "metadata": {},
   "outputs": [
    {
     "ename": "SyntaxError",
     "evalue": "invalid syntax (<ipython-input-1-c0e0d6e20e9f>, line 1)",
     "output_type": "error",
     "traceback": [
      "\u001b[0;36m  File \u001b[0;32m\"<ipython-input-1-c0e0d6e20e9f>\"\u001b[0;36m, line \u001b[0;32m1\u001b[0m\n\u001b[0;31m    $$\u001b[0m\n\u001b[0m    ^\u001b[0m\n\u001b[0;31mSyntaxError\u001b[0m\u001b[0;31m:\u001b[0m invalid syntax\n"
     ]
    }
   ],
   "source": []
  },
  {
   "cell_type": "code",
   "execution_count": 10,
   "metadata": {},
   "outputs": [
    {
     "name": "stdout",
     "output_type": "stream",
     "text": [
      "行列積AB np.matmul()の結果\n",
      "[[  6  29 -20]\n",
      " [ 12  52  38]\n",
      " [-18 -51 -48]]\n",
      "行列積AB np.dotl()の結果\n",
      "[[  6  29 -20]\n",
      " [ 12  52  38]\n",
      " [-18 -51 -48]]\n",
      "行列積AB @の結果\n",
      "[[  6  29 -20]\n",
      " [ 12  52  38]\n",
      " [-18 -51 -48]]\n"
     ]
    }
   ],
   "source": [
    "c_ndarray_matmul = np.matmul(a_ndarray, b_ndarray)\n",
    "print(\"行列積AB np.matmul()の結果\\n{}\".format(c_ndarray_matmul))\n",
    "\n",
    "c_ndarray_dot = np.dot(a_ndarray, b_ndarray)\n",
    "print(\"行列積AB np.dotl()の結果\\n{}\".format(c_ndarray_dot))\n",
    "\n",
    "#@が使い勝手良い\n",
    "c_ndarray_at=a_ndarray@b_ndarray\n",
    "print(\"行列積AB @の結果\\n{}\".format(c_ndarray_at))"
   ]
  },
  {
   "cell_type": "markdown",
   "metadata": {},
   "source": [
    "【問題3】ある要素の計算を実装\n",
    "手計算をする際はまず行列Aの0行目と行列Bの0列目に注目し、以下の計算を行ったかと思います。\n",
    "行列Aの(0,0)の要素 \n",
    "a\n",
    "0\n",
    ",\n",
    "0\n",
    " と行列Bの(0,0)の要素 \n",
    "b\n",
    "0\n",
    ",\n",
    "0\n",
    " を掛け合わせる\n",
    "行列Aの(0,1)の要素 \n",
    "a\n",
    "0\n",
    ",\n",
    "1\n",
    " と行列Bの(1,0)の要素 \n",
    "b\n",
    "1\n",
    ",\n",
    "0\n",
    " を掛け合わせる\n",
    "行列Aの(0,2)の要素 \n",
    "a\n",
    "0\n",
    ",\n",
    "2\n",
    " と行列Bの(2,0)の要素 \n",
    "b\n",
    "2\n",
    ",\n",
    "0\n",
    " を掛け合わせる\n",
    "それらの値を全て足し合わせる\n",
    "\n"
   ]
  },
  {
   "cell_type": "markdown",
   "metadata": {},
   "source": [
    "３次元だと挙動が変わる\n",
    "線形写像が行列積で求める。\n",
    "\n",
    "NumPyでまとめて計算、for分で要素を取り出す"
   ]
  },
  {
   "cell_type": "code",
   "execution_count": 28,
   "metadata": {},
   "outputs": [
    {
     "name": "stdout",
     "output_type": "stream",
     "text": [
      "Aの0行目とBの0列目: 6\n"
     ]
    }
   ],
   "source": [
    "import numpy as np\n",
    "a_ndarray = np.array([[-1, 2, 3], [4, -5, 6], [7, 8, -9]])\n",
    "b_ndarray = np.array([[0, 2, 1], [0, 2, -8], [2, 9, -1]])\n",
    "\n",
    "#a_ndarrayの0行目とb_ndarrayの0列目をそれぞれ積、答えをsum()する\n",
    "mul00=(a_ndarray[:1]*b_ndarray[:, 0]).sum()\n",
    "print(\"Aの0行目とBの0列目: {}\".format(mul00))"
   ]
  },
  {
   "cell_type": "code",
   "execution_count": 30,
   "metadata": {},
   "outputs": [],
   "source": [
    "#b_ndarray[:, 0]"
   ]
  },
  {
   "cell_type": "code",
   "execution_count": 40,
   "metadata": {},
   "outputs": [
    {
     "data": {
      "text/plain": [
       "(3, 3)"
      ]
     },
     "execution_count": 40,
     "metadata": {},
     "output_type": "execute_result"
    }
   ],
   "source": [
    "a_ndarray.shape"
   ]
  },
  {
   "cell_type": "code",
   "execution_count": 42,
   "metadata": {},
   "outputs": [
    {
     "name": "stdout",
     "output_type": "stream",
     "text": [
      "Aの0行目とBの0列目: 6\n"
     ]
    }
   ],
   "source": [
    "#for文、要素を一つずつ取り出して、掛け算して加算していく\n",
    "\n",
    "mul00=0\n",
    "\n",
    "for i in range(a_ndarray.shape[1]):\n",
    "    mul00 +=a_ndarray[0,i]*b_ndarray[i,0]\n",
    "#aの0行目を取り出す、bの0列目を取り出す\n",
    "\n",
    "print(\"Aの0行目とBの0列目: {}\".format(mul00))"
   ]
  },
  {
   "cell_type": "markdown",
   "metadata": {},
   "source": [
    "【問題4】行列積を行う関数の作成\n",
    "問題3のコードを拡張し、行列積のスクラッチ実装を完成させてください。行列AとBを引数に受け取り、行列積を返す関数としてください。\n",
    "行列積を計算する場合は、問題3の計算を異なる行や列に対して繰り返していくことになります。\n",
    "計算結果である \n",
    "3\n",
    "×\n",
    "3\n",
    " の行列Cの各要素 \n",
    "c\n",
    "i\n",
    ",\n",
    "j\n",
    " は数式で表すと次のようになります。\n",
    "c\n",
    "i\n",
    ",\n",
    "j\n",
    "=\n",
    "2\n",
    "∑\n",
    "k\n",
    "=\n",
    "0\n",
    " \n",
    "a\n",
    "i\n",
    ",\n",
    "k\n",
    "b\n",
    "k\n",
    ",\n",
    "j\n",
    "for文を使い、ndarrayのインデックスを動かしていくことで、合計9つの要素が計算できます。インデックス \n",
    "i\n",
    " や \n",
    "j\n",
    " を1増やすと、次の行や列に移ることができます。"
   ]
  },
  {
   "cell_type": "code",
   "execution_count": 46,
   "metadata": {
    "scrolled": true
   },
   "outputs": [
    {
     "name": "stdout",
     "output_type": "stream",
     "text": [
      "結果: [[  6.  29. -20.]\n",
      " [ 12.  52.  38.]\n",
      " [-18. -51. -48.]]\n"
     ]
    }
   ],
   "source": [
    "def matrix_product_for(a,b):\n",
    "    c=np.empty((a.shape[0], b.shape[1]))\n",
    "    \n",
    "    for i in range(a.shape[0]):\n",
    "        for j in range(b.shape[1]):\n",
    "            c[i,j] =(a[i]*b[:,j]).sum()\n",
    "    return c\n",
    "\n",
    "a_ndarray = np.array([[-1, 2, 3], [4, -5, 6], [7, 8, -9]])\n",
    "b_ndarray = np.array([[0, 2, 1], [0, 2, -8], [2, 9, -1]])\n",
    "\n",
    "print(\"結果: {}\".format(matrix_product_for(a_ndarray, b_ndarray)))"
   ]
  },
  {
   "cell_type": "code",
   "execution_count": 62,
   "metadata": {
    "scrolled": true
   },
   "outputs": [
    {
     "name": "stdout",
     "output_type": "stream",
     "text": [
      "結果: [[  6  29 -20]\n",
      " [ 12  52  38]\n",
      " [-18 -51 -48]]\n"
     ]
    }
   ],
   "source": [
    "#ブロードキャスト　要素数が足りない場合には自動で行・列を拡張してくれる機能\n",
    "def matrix_product_broadcast(a,b):\n",
    "    c=(a[:, np.newaxis, :]*b.T).sum(axis=2)\n",
    "    \n",
    "    return c\n",
    "\n",
    "a_ndarray = np.array([[-1, 2, 3], [4, -5, 6], [7, 8, -9]])\n",
    "b_ndarray = np.array([[0, 2, 1], [0, 2, -8], [2, 9, -1]])\n",
    "\n",
    "print(\"結果: {}\".format(matrix_product_broadcast(a_ndarray, b_ndarray)))"
   ]
  },
  {
   "cell_type": "code",
   "execution_count": 68,
   "metadata": {},
   "outputs": [
    {
     "name": "stdout",
     "output_type": "stream",
     "text": [
      "Aに新たな次元を追加\n",
      "[[[-1  2  3]]\n",
      "\n",
      " [[ 4 -5  6]]\n",
      "\n",
      " [[ 7  8 -9]]]\n",
      "-9\n",
      "(3, 1, 3)\n",
      "Bを転置\n",
      "[[ 0  0  2]\n",
      " [ 2  2  9]\n",
      " [ 1 -8 -1]]\n",
      "A(3,1,3)と転置Bを掛け合わせる\n",
      "[[[  0   0   6]\n",
      "  [ -2   4  27]\n",
      "  [ -1 -16  -3]]\n",
      "\n",
      " [[  0   0  12]\n",
      "  [  8 -10  54]\n",
      "  [  4  40  -6]]\n",
      "\n",
      " [[  0   0 -18]\n",
      "  [ 14  16 -81]\n",
      "  [  7 -64   9]]]\n",
      "axis=2(奥行き)で合計する\n",
      "[[  6  29 -20]\n",
      " [ 12  52  38]\n",
      " [-18 -51 -48]]\n"
     ]
    }
   ],
   "source": [
    "def matrix_product_broadcast(a,b):\n",
    "    c=(a[:, np.newaxis, :]*b.T).sum(axis=2)\n",
    "    \n",
    "    return c\n",
    "\n",
    "a_ndarray = np.array([[-1, 2, 3], [4, -5, 6], [7, 8, -9]])\n",
    "b_ndarray = np.array([[0, 2, 1], [0, 2, -8], [2, 9, -1]])\n",
    "\n",
    "print(\"Aに新たな次元を追加\\n{}\".format(a_ndarray[:, np.newaxis, :]))\n",
    "a=a_ndarray[:, np.newaxis, :]\n",
    "print(a[2][0][2])#奥に2、0行目、2列目\n",
    "print(a_ndarray[:, np.newaxis, :].shape)\n",
    "#[]によるインデックスの中でnp.newaxisを使うとその位置にサイズが1の新たな次元が追加される。\n",
    "print(\"Bを転置\\n{}\".format(b_ndarray.T))\n",
    "print(\"A(3,1,3)と転置Bを掛け合わせる\\n{}\".format(a_ndarray.reshape(3,1,3)*b_ndarray.T))\n",
    "#(3,3,3)にブロードキャストされる\n",
    "print(\"axis=2(奥行き)で合計する\\n{}\".format((a_ndarray.reshape(3,1,3)*b_ndarray.T).sum(axis=2)))"
   ]
  },
  {
   "cell_type": "markdown",
   "metadata": {},
   "source": [
    "【問題5】計算が定義されない入力を判定する\n",
    "問題4で作成した関数は、実装方法によってはこのDとEの配列を入力しても動いてしまう可能性があります。この場合、不適切な計算が行われることになります。また、途中でエラーになる場合でも、なぜエラーになったかが直接的には分かりづらいメッセージが表示されます。\n",
    "if文などによってこれを防ぎ、入力される形に問題があることをprint()を使い表示するコードを書き加えてください。\n",
    "・列数と行数が等しい時に定義されている。\n",
    "・a.shape[1]==b.shape[0]の場合のみ計算を行う、そうでない場合は不適切であることを説明する。\n",
    "shapeの(x.y)と(v,w)の時、y（列数）とw(行数)\n",
    "\n",
    "optionキーを押しながら、¥キー：\\"
   ]
  },
  {
   "cell_type": "markdown",
   "metadata": {},
   "source": [
    "$$ D = \\left[\n",
    "    \\begin{array}{ccc}\n",
    "      -1 & 2 & 3 \\\\\n",
    "      4 & -5 & 6\n",
    "    \\end{array}\n",
    "  \\right],\n",
    "  E- = \\left[\n",
    "    \\begin{array}{ccc}\n",
    "       -9 & 8 & 7 \\\\\n",
    "      6 & -5 & 4\n",
    "    \\end{array}\n",
    "  \\right] $$\n"
   ]
  },
  {
   "cell_type": "code",
   "execution_count": null,
   "metadata": {},
   "outputs": [],
   "source": [
    "d_ndarray= np.array([[-1, 2, 3], [4, -5, 6]])\n",
    "e_ndarray = np.array([[-9, 8, 7], [6, -5, 4]])"
   ]
  },
  {
   "cell_type": "code",
   "execution_count": 75,
   "metadata": {
    "scrolled": true
   },
   "outputs": [
    {
     "name": "stdout",
     "output_type": "stream",
     "text": [
      "a.shape[1]!=b.shape[0]: 3!=2\n",
      "結果: None\n"
     ]
    }
   ],
   "source": [
    "# if文\n",
    "\n",
    "def matrix_product_broadcast(a,b):\n",
    "    c=np.empty((a.shape[0], b.shape[1]))\n",
    "    \n",
    "    if a.shape[1]==b.shape[0]:\n",
    "        c=(a[:, np.newaxis, :]*b.T).sum(axis=2)\n",
    "        return c\n",
    "    else:\n",
    "        print(\"a.shape[1]!=b.shape[0]: {}!={}\".format(a.shape[1],b.shape[0]))\n",
    "        return None\n",
    "    \n",
    "\n",
    "d_ndarray= np.array([[-1, 2, 3], [4, -5, 6]])\n",
    "e_ndarray = np.array([[-9, 8, 7], [6, -5, 4]])\n",
    "\n",
    "print(\"結果: {}\".format(matrix_product_broadcast(d_ndarray,e_ndarray)))"
   ]
  },
  {
   "cell_type": "code",
   "execution_count": 78,
   "metadata": {},
   "outputs": [
    {
     "ename": "AssertionError",
     "evalue": "a.shape[1]!=b.shape[0]: 3!=2",
     "output_type": "error",
     "traceback": [
      "\u001b[0;31m---------------------------------------------------------------------------\u001b[0m",
      "\u001b[0;31mAssertionError\u001b[0m                            Traceback (most recent call last)",
      "\u001b[0;32m<ipython-input-78-762350189d52>\u001b[0m in \u001b[0;36m<module>\u001b[0;34m()\u001b[0m\n\u001b[1;32m     10\u001b[0m \u001b[0me_ndarray\u001b[0m \u001b[0;34m=\u001b[0m \u001b[0mnp\u001b[0m\u001b[0;34m.\u001b[0m\u001b[0marray\u001b[0m\u001b[0;34m(\u001b[0m\u001b[0;34m[\u001b[0m\u001b[0;34m[\u001b[0m\u001b[0;34m-\u001b[0m\u001b[0;36m9\u001b[0m\u001b[0;34m,\u001b[0m \u001b[0;36m8\u001b[0m\u001b[0;34m,\u001b[0m \u001b[0;36m7\u001b[0m\u001b[0;34m]\u001b[0m\u001b[0;34m,\u001b[0m \u001b[0;34m[\u001b[0m\u001b[0;36m6\u001b[0m\u001b[0;34m,\u001b[0m \u001b[0;34m-\u001b[0m\u001b[0;36m5\u001b[0m\u001b[0;34m,\u001b[0m \u001b[0;36m4\u001b[0m\u001b[0;34m]\u001b[0m\u001b[0;34m]\u001b[0m\u001b[0;34m)\u001b[0m\u001b[0;34m\u001b[0m\u001b[0m\n\u001b[1;32m     11\u001b[0m \u001b[0;34m\u001b[0m\u001b[0m\n\u001b[0;32m---> 12\u001b[0;31m \u001b[0mprint\u001b[0m\u001b[0;34m(\u001b[0m\u001b[0;34m\"結果: {}\"\u001b[0m\u001b[0;34m.\u001b[0m\u001b[0mformat\u001b[0m\u001b[0;34m(\u001b[0m\u001b[0mmatrix_product_broadcast\u001b[0m\u001b[0;34m(\u001b[0m\u001b[0md_ndarray\u001b[0m\u001b[0;34m,\u001b[0m\u001b[0me_ndarray\u001b[0m\u001b[0;34m)\u001b[0m\u001b[0;34m)\u001b[0m\u001b[0;34m)\u001b[0m\u001b[0;34m\u001b[0m\u001b[0m\n\u001b[0m",
      "\u001b[0;32m<ipython-input-78-762350189d52>\u001b[0m in \u001b[0;36mmatrix_product_broadcast\u001b[0;34m(a, b)\u001b[0m\n\u001b[1;32m      3\u001b[0m     \u001b[0mc\u001b[0m\u001b[0;34m=\u001b[0m\u001b[0mnp\u001b[0m\u001b[0;34m.\u001b[0m\u001b[0mempty\u001b[0m\u001b[0;34m(\u001b[0m\u001b[0;34m(\u001b[0m\u001b[0ma\u001b[0m\u001b[0;34m.\u001b[0m\u001b[0mshape\u001b[0m\u001b[0;34m[\u001b[0m\u001b[0;36m0\u001b[0m\u001b[0;34m]\u001b[0m\u001b[0;34m,\u001b[0m \u001b[0mb\u001b[0m\u001b[0;34m.\u001b[0m\u001b[0mshape\u001b[0m\u001b[0;34m[\u001b[0m\u001b[0;36m1\u001b[0m\u001b[0;34m]\u001b[0m\u001b[0;34m)\u001b[0m\u001b[0;34m)\u001b[0m\u001b[0;34m\u001b[0m\u001b[0m\n\u001b[1;32m      4\u001b[0m \u001b[0;34m\u001b[0m\u001b[0m\n\u001b[0;32m----> 5\u001b[0;31m     \u001b[0;32massert\u001b[0m \u001b[0ma\u001b[0m\u001b[0;34m.\u001b[0m\u001b[0mshape\u001b[0m\u001b[0;34m[\u001b[0m\u001b[0;36m1\u001b[0m\u001b[0;34m]\u001b[0m\u001b[0;34m==\u001b[0m\u001b[0mb\u001b[0m\u001b[0;34m.\u001b[0m\u001b[0mshape\u001b[0m\u001b[0;34m[\u001b[0m\u001b[0;36m0\u001b[0m\u001b[0;34m]\u001b[0m\u001b[0;34m,\u001b[0m\u001b[0;34m\"a.shape[1]!=b.shape[0]: {}!={}\"\u001b[0m\u001b[0;34m.\u001b[0m\u001b[0mformat\u001b[0m\u001b[0;34m(\u001b[0m\u001b[0ma\u001b[0m\u001b[0;34m.\u001b[0m\u001b[0mshape\u001b[0m\u001b[0;34m[\u001b[0m\u001b[0;36m1\u001b[0m\u001b[0;34m]\u001b[0m\u001b[0;34m,\u001b[0m\u001b[0mb\u001b[0m\u001b[0;34m.\u001b[0m\u001b[0mshape\u001b[0m\u001b[0;34m[\u001b[0m\u001b[0;36m0\u001b[0m\u001b[0;34m]\u001b[0m\u001b[0;34m)\u001b[0m\u001b[0;34m\u001b[0m\u001b[0m\n\u001b[0m\u001b[1;32m      6\u001b[0m     \u001b[0mc\u001b[0m\u001b[0;34m=\u001b[0m\u001b[0;34m(\u001b[0m\u001b[0ma\u001b[0m\u001b[0;34m[\u001b[0m\u001b[0;34m:\u001b[0m\u001b[0;34m,\u001b[0m \u001b[0mnp\u001b[0m\u001b[0;34m.\u001b[0m\u001b[0mnewaxis\u001b[0m\u001b[0;34m,\u001b[0m \u001b[0;34m:\u001b[0m\u001b[0;34m]\u001b[0m\u001b[0;34m*\u001b[0m\u001b[0mb\u001b[0m\u001b[0;34m.\u001b[0m\u001b[0mT\u001b[0m\u001b[0;34m)\u001b[0m\u001b[0;34m.\u001b[0m\u001b[0msum\u001b[0m\u001b[0;34m(\u001b[0m\u001b[0maxis\u001b[0m\u001b[0;34m=\u001b[0m\u001b[0;36m2\u001b[0m\u001b[0;34m)\u001b[0m\u001b[0;34m\u001b[0m\u001b[0m\n\u001b[1;32m      7\u001b[0m     \u001b[0;32mreturn\u001b[0m \u001b[0mc\u001b[0m\u001b[0;34m\u001b[0m\u001b[0m\n",
      "\u001b[0;31mAssertionError\u001b[0m: a.shape[1]!=b.shape[0]: 3!=2"
     ]
    }
   ],
   "source": [
    "# assert　assert 条件式, 条件式がFalseの場合に出力するメッセージ\n",
    "#、バグと呼ばれるプログラムや関数の間違いを見つけ、それらを排除する作業のため\n",
    "def matrix_product_broadcast(a,b):\n",
    "    c=np.empty((a.shape[0], b.shape[1]))\n",
    "    \n",
    "    assert a.shape[1]==b.shape[0],\"a.shape[1]!=b.shape[0]: {}!={}\".format(a.shape[1],b.shape[0])\n",
    "    c=(a[:, np.newaxis, :]*b.T).sum(axis=2)\n",
    "    return c\n",
    "\n",
    "d_ndarray= np.array([[-1, 2, 3], [4, -5, 6]])\n",
    "e_ndarray = np.array([[-9, 8, 7], [6, -5, 4]])\n",
    "\n",
    "print(\"結果: {}\".format(matrix_product_broadcast(d_ndarray,e_ndarray)))"
   ]
  },
  {
   "cell_type": "markdown",
   "metadata": {},
   "source": [
    "【問題6】転置\n",
    "片方の行列を転置することで、行列積が計算できるようになります。\n",
    "np.transpose()や.Tアトリビュートを用いて転置し、行列積を計算してください。\n",
    "numpy.transpose — NumPy v1.16 Manual\n",
    "numpy.ndarray.T — NumPy v1.16 Manual\n"
   ]
  },
  {
   "cell_type": "code",
   "execution_count": 81,
   "metadata": {},
   "outputs": [
    {
     "name": "stdout",
     "output_type": "stream",
     "text": [
      "D転置の計算結果:\n",
      "[[ 33 -28   9]\n",
      " [-48  41  -6]\n",
      " [  9  -6  45]]\n",
      "E転置の計算結果:\n",
      "[[ 46  -4]\n",
      " [-34  73]]\n"
     ]
    }
   ],
   "source": [
    "d_ndarray= np.array([[-1, 2, 3], [4, -5, 6]])\n",
    "d_T=d_ndarray.T\n",
    "e_ndarray = np.array([[-9, 8, 7], [6, -5, 4]])\n",
    "e_T=e_ndarray.T\n",
    "\n",
    "print(\"D転置の計算結果:\\n{}\".format(d_T@e_ndarray))\n",
    "\n",
    "print(\"E転置の計算結果:\\n{}\".format(d_ndarray@e_T))"
   ]
  },
  {
   "cell_type": "code",
   "execution_count": null,
   "metadata": {},
   "outputs": [],
   "source": []
  }
 ],
 "metadata": {
  "kernelspec": {
   "display_name": "Python 3",
   "language": "python",
   "name": "python3"
  },
  "language_info": {
   "codemirror_mode": {
    "name": "ipython",
    "version": 3
   },
   "file_extension": ".py",
   "mimetype": "text/x-python",
   "name": "python",
   "nbconvert_exporter": "python",
   "pygments_lexer": "ipython3",
   "version": "3.6.4"
  }
 },
 "nbformat": 4,
 "nbformat_minor": 2
}
